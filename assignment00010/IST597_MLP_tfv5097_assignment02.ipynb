{
  "cells": [
    {
      "cell_type": "markdown",
      "source": [
        "##* Design MLP with 2 hidden layers (Input Layer - 2 hidden Layer - Output layer) to classify objects (fashionMNIST) and digits (MNIST).\n",
        "##* Design regularization approaches, and analyze drop/boost in performance of your model. Report results with atleast 2 regularization variants (droput, L1 penalty, L2, L1+L2, Normalization, Noise)\n",
        "\n",
        "#* tfv5097@psu.edu :Thejasvi Velaga"
      ],
      "metadata": {
        "id": "kkfX8FIJOHgb"
      }
    },
    {
      "cell_type": "code",
      "execution_count": 129,
      "metadata": {
        "colab": {
          "base_uri": "https://localhost:8080/"
        },
        "id": "mPN_DtXq9mns",
        "outputId": "39f21416-4981-4f14-ffd7-4ef46d3de22a"
      },
      "outputs": [
        {
          "output_type": "execute_result",
          "data": {
            "text/plain": [
              "[PhysicalDevice(name='/physical_device:GPU:0', device_type='GPU')]"
            ]
          },
          "metadata": {},
          "execution_count": 129
        }
      ],
      "source": [
        "# baseline cnn model for mnist\n",
        "import os\n",
        "import numpy as np\n",
        "import time\n",
        "import tensorflow as tf\n",
        "import matplotlib.pyplot as plt\n",
        "%matplotlib inline\n",
        "from tensorflow.keras.datasets import mnist\n",
        "from tensorflow.keras.datasets import fashion_mnist\n",
        "from tensorflow.keras.utils import to_categorical\n",
        "seed=757493755\n",
        "np.random.seed(seed)\n",
        "tf.random.set_seed(seed)\n",
        "tf.config.list_physical_devices('GPU')"
      ]
    },
    {
      "cell_type": "code",
      "execution_count": 29,
      "metadata": {
        "id": "vtpOvonMQj0f"
      },
      "outputs": [],
      "source": [
        "# Constants \n",
        "size_input = 784\n",
        "size_hidden = [128,64]\n",
        "size_output = 10\n",
        "number_of_train_examples = 7000 #60000\n",
        "number_of_test_examples = 1500   #10000"
      ]
    },
    {
      "cell_type": "markdown",
      "source": [
        "## Load Dataset Function"
      ],
      "metadata": {
        "id": "bxKhx0c7PK2r"
      }
    },
    {
      "cell_type": "code",
      "execution_count": 30,
      "metadata": {
        "id": "D5VqKmW_Sdhg"
      },
      "outputs": [],
      "source": [
        "#To load the data set for mist and fashion mnist\n",
        "def load_dataset():\n",
        "\t# load dataset for mnist\n",
        "\t(trainX_mnist, trainY_mnist), (testX_mnist, testY_mnist) = mnist.load_data()\n",
        " #load dataset for fashion mnist\n",
        "\t(trainX_fmnist, trainY_fmnist), (testX_fmnist, testY_fmnist) = fashion_mnist.load_data()\n",
        "\n",
        "\t# one hot encode target values\n",
        "\ttrainY_mnist = to_categorical(trainY_mnist)\n",
        "\ttestY_mnist = to_categorical(testY_mnist)\n",
        " \n",
        "\ttrainY_fmnist = to_categorical(trainY_fmnist)\n",
        "\ttestY_fmnist = to_categorical(testY_fmnist)\n",
        " \n",
        "\treturn trainX_mnist, trainY_mnist, testX_mnist, testY_mnist,trainX_fmnist, trainY_fmnist, testX_fmnist, testY_fmnist\n"
      ]
    },
    {
      "cell_type": "markdown",
      "source": [
        "##Flatten,Normalize and Reduce data sets size function"
      ],
      "metadata": {
        "id": "dkwjTGt6PavV"
      }
    },
    {
      "cell_type": "code",
      "execution_count": 5,
      "metadata": {
        "id": "B2tvSWaK3uFO"
      },
      "outputs": [],
      "source": [
        "# flatten\n",
        "def flat(train_mnist,test_mnist,train_fmnist,test_fmnist):\n",
        "  train_x_flatten_mnist = train_mnist.reshape(train_mnist.shape[0],-1)#.T\n",
        "  test_x_flatten_mnist = test_mnist.reshape(test_mnist.shape[0],-1)#.T\n",
        "  train_x_flatten_fmnist=train_fmnist.reshape(train_fmnist.shape[0],-1)#.T\n",
        "  test_x_flatten_fmnist=test_fmnist.reshape(test_fmnist.shape[0],-1)#.T\n",
        "  return train_x_flatten_mnist, test_x_flatten_mnist,train_x_flatten_fmnist, test_x_flatten_fmnist\n"
      ]
    },
    {
      "cell_type": "code",
      "execution_count": 6,
      "metadata": {
        "id": "jdfYTUmC3w8U"
      },
      "outputs": [],
      "source": [
        "# scale pixels\n",
        "def normalize(train_mnist, test_mnist,train_fmnist,test_fmnist):\n",
        "\t# convert from integers to floats\n",
        "  train_norm_mnist = train_mnist.astype('float32')\n",
        "  test_norm_mnist = test_mnist.astype('float32')\n",
        "  \n",
        "  train_norm_fmnist = train_fmnist.astype('float32')\n",
        "  test_norm_fmnist = test_fmnist.astype('float32')\n",
        "\t# normalize to range 0-1\n",
        "  train_norm_mnist = train_norm_mnist / 255.0\n",
        "  test_norm_mnist = test_norm_mnist / 255.0\n",
        "\n",
        "  train_norm_fmnist = train_norm_fmnist / 255.0\n",
        "  test_norm_fmnist = test_norm_fmnist / 255.0\n",
        "\t# return normalized images\n",
        "  return train_norm_mnist, test_norm_mnist,train_norm_fmnist, test_norm_fmnist"
      ]
    },
    {
      "cell_type": "code",
      "execution_count": 7,
      "metadata": {
        "id": "L7QC03soMmLz"
      },
      "outputs": [],
      "source": [
        "def reducedatasets(trainX_mnist,trainY_mnist,testX_mnist,testY_mnist,trainX_fmnist,trainY_fmnist,testX_fmnist,testY_fmnist):\n",
        "  train_x_mnist = trainX_mnist[:number_of_train_examples, :]\n",
        "  test_x_mnist = testX_mnist[:number_of_test_examples, :]\n",
        "  train_y_mnist = trainY_mnist[:number_of_train_examples, :]\n",
        "  test_y_mnist = testY_mnist[:number_of_test_examples, :]\n",
        "  train_x_fmnist = trainX_fmnist[:number_of_train_examples, :]\n",
        "  test_x_fmnist = testX_fmnist[:number_of_test_examples, :]\n",
        "  train_y_fmnist = trainY_fmnist[:number_of_train_examples, :]\n",
        "  test_y_fmnist = testY_fmnist[:number_of_test_examples, :]\n",
        "  return train_x_mnist,train_y_mnist, test_x_mnist,test_y_mnist,train_x_fmnist,train_y_fmnist, test_x_fmnist,test_y_fmnist"
      ]
    },
    {
      "cell_type": "markdown",
      "source": [
        "## Load,FLatten and Normalize "
      ],
      "metadata": {
        "id": "N9dbbDSmPtmx"
      }
    },
    {
      "cell_type": "code",
      "execution_count": 8,
      "metadata": {
        "id": "-WKdR3GASjiu",
        "colab": {
          "base_uri": "https://localhost:8080/"
        },
        "outputId": "7b88110f-15f9-4f7c-bddd-a7abed45eca8"
      },
      "outputs": [
        {
          "output_type": "stream",
          "name": "stdout",
          "text": [
            "Downloading data from https://storage.googleapis.com/tensorflow/tf-keras-datasets/mnist.npz\n",
            "11493376/11490434 [==============================] - 0s 0us/step\n",
            "11501568/11490434 [==============================] - 0s 0us/step\n",
            "Downloading data from https://storage.googleapis.com/tensorflow/tf-keras-datasets/train-labels-idx1-ubyte.gz\n",
            "32768/29515 [=================================] - 0s 0us/step\n",
            "40960/29515 [=========================================] - 0s 0us/step\n",
            "Downloading data from https://storage.googleapis.com/tensorflow/tf-keras-datasets/train-images-idx3-ubyte.gz\n",
            "26427392/26421880 [==============================] - 1s 0us/step\n",
            "26435584/26421880 [==============================] - 1s 0us/step\n",
            "Downloading data from https://storage.googleapis.com/tensorflow/tf-keras-datasets/t10k-labels-idx1-ubyte.gz\n",
            "16384/5148 [===============================================================================================] - 0s 0us/step\n",
            "Downloading data from https://storage.googleapis.com/tensorflow/tf-keras-datasets/t10k-images-idx3-ubyte.gz\n",
            "4423680/4422102 [==============================] - 0s 0us/step\n",
            "4431872/4422102 [==============================] - 0s 0us/step\n"
          ]
        }
      ],
      "source": [
        "# loading mnist and fashion mnist and normalizing \n",
        "X_train_mnist, y_train_mnist, X_test_mnist, y_test_mnist,X_train_fmnist, y_train_fmnist, X_test_fmnist, y_test_fmnist = load_dataset()\n",
        "X_train_mnist, X_test_mnist,X_train_fmnist, X_test_fmnist = flat(X_train_mnist, X_test_mnist,X_train_fmnist, X_test_fmnist)\n",
        "X_train_mnist, X_test_mnist,X_train_fmnist, X_test_fmnist = normalize(X_train_mnist, X_test_mnist,X_train_fmnist, X_test_fmnist)"
      ]
    },
    {
      "cell_type": "code",
      "execution_count": 9,
      "metadata": {
        "id": "0J09SHcCMkX0"
      },
      "outputs": [],
      "source": [
        "# reducing training and testing sets \n",
        "X_train_mnist, y_train_mnist, X_test_mnist, y_test_mnist,X_train_fmnist, y_train_fmnist, X_test_fmnist, y_test_fmnist = reducedatasets(X_train_mnist, y_train_mnist, X_test_mnist, y_test_mnist,X_train_fmnist, y_train_fmnist, X_test_fmnist, y_test_fmnist)"
      ]
    },
    {
      "cell_type": "code",
      "execution_count": 10,
      "metadata": {
        "id": "jUqjbthWQpcn"
      },
      "outputs": [],
      "source": [
        "# Split dataset into batches for mnist and fashion mnist\n",
        "train_ds_mnist = tf.data.Dataset.from_tensor_slices((X_train_mnist, y_train_mnist)).batch(32)\n",
        "test_ds_mnist = tf.data.Dataset.from_tensor_slices((X_test_mnist, y_test_mnist)).batch(4)\n",
        "\n",
        "train_ds_fmnist = tf.data.Dataset.from_tensor_slices((X_train_fmnist, y_train_fmnist)).batch(32)\n",
        "test_ds_fmnist = tf.data.Dataset.from_tensor_slices((X_test_fmnist, y_test_fmnist)).batch(4)\n"
      ]
    },
    {
      "cell_type": "code",
      "execution_count": 11,
      "metadata": {
        "id": "eTNdGfElF3yt",
        "colab": {
          "base_uri": "https://localhost:8080/"
        },
        "outputId": "f9eb80bf-6a88-4135-9dcb-f0c297aad77d"
      },
      "outputs": [
        {
          "output_type": "stream",
          "name": "stdout",
          "text": [
            " MNIST Dataset Shape:\n",
            "X_train-ds: <BatchDataset shapes: ((None, 784), (None, 10)), types: (tf.float32, tf.float32)>\n",
            "Y_train-ds: <BatchDataset shapes: ((None, 784), (None, 10)), types: (tf.float32, tf.float32)>\n",
            " fashion MNIST Dataset Shape:\n",
            "X_train-ds: <BatchDataset shapes: ((None, 784), (None, 10)), types: (tf.float32, tf.float32)>\n",
            "Y_train-ds: <BatchDataset shapes: ((None, 784), (None, 10)), types: (tf.float32, tf.float32)>\n"
          ]
        }
      ],
      "source": [
        "#Testing the mnist and fashion mnist loading\n",
        "print(' MNIST Dataset Shape:')\n",
        "print('X_train-ds: ' + str(train_ds_mnist))\n",
        "print('Y_train-ds: ' + str(test_ds_mnist))\n",
        "print(' fashion MNIST Dataset Shape:')\n",
        "print('X_train-ds: ' + str(train_ds_fmnist))\n",
        "print('Y_train-ds: ' + str(test_ds_fmnist))"
      ]
    },
    {
      "cell_type": "markdown",
      "metadata": {
        "id": "_70kdmB6sVbH"
      },
      "source": [
        "##**The below 3 blocks codes is on models without reguralization,with drop out reguralization and with L1 reguralization repesctively.**\n",
        "\n",
        "\n"
      ]
    },
    {
      "cell_type": "code",
      "execution_count": 12,
      "metadata": {
        "id": "nd7neF1BQpfu"
      },
      "outputs": [],
      "source": [
        "#without any regularization.\n",
        "class MLP(tf.keras.Model):\n",
        "  def __init__(self, size_input, size_hidden, size_output, device=None):\n",
        "    super(MLP, self).__init__()\n",
        "    \"\"\"\n",
        "    size_input: int, size of input layer\n",
        "    size_hidden: int, size of hidden layer\n",
        "    size_output: int, size of output layer\n",
        "    device: str or None, either 'cpu' or 'gpu' or None. If None, the device to be used will be decided automatically during Eager Execution\n",
        "    \"\"\"\n",
        "\n",
        "    # self.size_input = 784\n",
        "    # self.size_hidden = 128\n",
        "    # self.size_output = 10\n",
        "    # self.device = 'gpu'\n",
        "    self.size_input, self.size_hidden, self.size_output, self.device =\\\n",
        "    size_input, size_hidden, size_output, device\n",
        "    \n",
        "    \n",
        "    # Initialize weights between input layer and hidden layer\n",
        "    self.W1 = tf.Variable(tf.random.normal([self.size_input, self.size_hidden[0]]))\n",
        "    # Initialize biases for hidden layer\n",
        "    self.b1 = tf.Variable(tf.random.normal([1, self.size_hidden[0]]))\n",
        "\n",
        "    # Initialize weights between hidden layer and hideen layer\n",
        "    self.W2 = tf.Variable(tf.random.normal([self.size_hidden[0], self.size_hidden[1]]))\n",
        "    # Initialize biases for hidden layer\n",
        "    self.b2 = tf.Variable(tf.random.normal([1, self.size_hidden[1]]))\n",
        "\n",
        "    # Initialize weights between hidden layer and output layer\n",
        "    self.W3 = tf.Variable(tf.random.normal([self.size_hidden[1], self.size_output]))\n",
        "    # Initialize biases for output layer\n",
        "    self.b3 = tf.Variable(tf.random.normal([1, self.size_output]))\n",
        "    \n",
        "    # Define variables to be updated during backpropagation\n",
        "    #self.MLP_variables = [self.W1, self.W2,self.W3,self.W4, self.b1, self.b2, self.b3, self.b4]\n",
        "    self.MLP_variables = [self.W1, self.W2,self.W3, self.b1, self.b2, self.b3]\n",
        "    \n",
        "    \n",
        "  def forward(self, X):\n",
        "    \"\"\"\n",
        "    forward pass\n",
        "    X: Tensor, inputs\n",
        "    \"\"\"\n",
        "    if self.device is not None:\n",
        "      with tf.device('gpu:0' if self.device=='gpu' else 'cpu'):\n",
        "        self.y = self.compute_output(X)\n",
        "    else:\n",
        "      self.y = self.compute_output(X)\n",
        "      \n",
        "    return self.y\n",
        "  \n",
        "  def loss(self, y_pred, y_true):\n",
        "    '''\n",
        "    y_pred - Tensor of shape (batch_size, size_output)\n",
        "    y_true - Tensor of shape (batch_size, size_output)\n",
        "    '''\n",
        "    y_true_tf = tf.cast(tf.reshape(y_true, (-1, self.size_output)), dtype=tf.float32)\n",
        "    y_pred_tf = tf.cast(y_pred, dtype=tf.float32)\n",
        "\n",
        "    categorical_cross_entropy = tf.keras.losses.CategoricalCrossentropy()\n",
        "    return categorical_cross_entropy(y_true=y_true,y_pred=y_pred)\n",
        "    #return tf.keras.losses.sparse_categorical_crossentropy(y_true,y_pred)\n",
        "    #return tf.losses.mean_squared_error(y_true_tf, y_pred_tf)\n",
        "    #return tf.nn.softmax_cross_entropy_with_logits(logits=y_pred,labels=y_true)\n",
        "  \n",
        "  def backward(self, X_train, y_train):\n",
        "    \"\"\"\n",
        "    backward pass\n",
        "    \"\"\"\n",
        "    #optimizer = tf.keras.optimizers.SGD(learning_rate=1e-4)\n",
        "    optimizer = tf.keras.optimizers.Adam(learning_rate=1e-5)\n",
        "    #optimizer = tf.keras.optimizers.Adamax(learning_rate=1e-5)\n",
        "    with tf.GradientTape() as tape:\n",
        "      predicted = self.forward(X_train)\n",
        "      current_loss = self.loss(predicted, y_train)\n",
        "    grads = tape.gradient(current_loss, self.MLP_variables)\n",
        "    optimizer.apply_gradients(zip(grads, self.MLP_variables))\n",
        "        \n",
        "        \n",
        "  def compute_output(self, X):\n",
        "    \"\"\"\n",
        "    Custom method to obtain output tensor during forward pass\n",
        "    \"\"\"\n",
        "    # Cast X to float32\n",
        "    X_tf = tf.cast(X, dtype=tf.float32)\n",
        "    #Remember to normalize your dataset before moving forward\n",
        "    X_tf=X_tf/255.0\n",
        "    # Compute values in hidden layer\n",
        "    what = tf.matmul(X_tf, self.W1) + self.b1\n",
        "    hhat = tf.nn.relu(what)\n",
        "\n",
        "\n",
        "    what1 = tf.matmul(hhat, self.W2) + self.b2\n",
        "    hhat1 = tf.nn.relu(what1)\n",
        "    # Compute output\n",
        "    output = tf.matmul(hhat1, self.W3) + self.b3\n",
        "    #Now consider two things , First look at inbuild loss functions if they work with softmax or not and then change this\n",
        "    #Second add tf.Softmax(output) and then return this variable\n",
        "    output=tf.nn.softmax(output)\n",
        "    return output"
      ]
    },
    {
      "cell_type": "code",
      "source": [
        "#with drop out regularization.\n",
        "class MLP_Regdp(tf.keras.Model):\n",
        "  def __init__(self, size_input, size_hidden, size_output, device=None):\n",
        "    super(MLP_Regdp, self).__init__()\n",
        "    \"\"\"\n",
        "    size_input: int, size of input layer\n",
        "    size_hidden: int, size of hidden layer\n",
        "    size_output: int, size of output layer\n",
        "    device: str or None, either 'cpu' or 'gpu' or None. If None, the device to be used will be decided automatically during Eager Execution\n",
        "    \"\"\"\n",
        "\n",
        "    # self.size_input = 784\n",
        "    # self.size_hidden = 128\n",
        "    # self.size_output = 10\n",
        "    # self.device = 'gpu'\n",
        "    self.size_input, self.size_hidden, self.size_output, self.device =\\\n",
        "    size_input, size_hidden, size_output, device\n",
        "    \n",
        "    \n",
        "    # Initialize weights between input layer and hidden layer\n",
        "    self.W1 = tf.Variable(tf.random.normal([self.size_input, self.size_hidden[0]]))\n",
        "    # Initialize biases for hidden layer\n",
        "    self.b1 = tf.Variable(tf.random.normal([1, self.size_hidden[0]]))\n",
        "\n",
        "    # Initialize weights between hidden layer and hideen layer\n",
        "    self.W2 = tf.Variable(tf.random.normal([self.size_hidden[0], self.size_hidden[1]]))\n",
        "    # Initialize biases for hidden layer\n",
        "    self.b2 = tf.Variable(tf.random.normal([1, self.size_hidden[1]]))\n",
        "\n",
        "    # Initialize weights between hidden layer and output layer\n",
        "    self.W3 = tf.Variable(tf.random.normal([self.size_hidden[1], self.size_output]))\n",
        "    # Initialize biases for output layer\n",
        "    self.b3 = tf.Variable(tf.random.normal([1, self.size_output]))\n",
        "    \n",
        "    # Define variables to be updated during backpropagation\n",
        "    #self.MLP_variables = [self.W1, self.W2,self.W3,self.W4, self.b1, self.b2, self.b3, self.b4]\n",
        "    self.MLP_variables = [self.W1, self.W2,self.W3, self.b1, self.b2, self.b3]\n",
        "    \n",
        "    \n",
        "  def forward(self, X):\n",
        "    \"\"\"\n",
        "    forward pass\n",
        "    X: Tensor, inputs\n",
        "    \"\"\"\n",
        "    if self.device is not None:\n",
        "      with tf.device('gpu:0' if self.device=='gpu' else 'cpu'):\n",
        "        self.y = self.compute_output(X)\n",
        "    else:\n",
        "      self.y = self.compute_output(X)\n",
        "      \n",
        "    return self.y\n",
        "  \n",
        "  def loss(self, y_pred, y_true):\n",
        "    '''\n",
        "    y_pred - Tensor of shape (batch_size, size_output)\n",
        "    y_true - Tensor of shape (batch_size, size_output)\n",
        "    '''\n",
        "    y_true_tf = tf.cast(tf.reshape(y_true, (-1, self.size_output)), dtype=tf.float32)\n",
        "    y_pred_tf = tf.cast(y_pred, dtype=tf.float32)\n",
        "\n",
        "    categorical_cross_entropy = tf.keras.losses.CategoricalCrossentropy()\n",
        "    return categorical_cross_entropy(y_true=y_true,y_pred=y_pred)\n",
        "    #return tf.keras.losses.sparse_categorical_crossentropy(y_true,y_pred)\n",
        "    #return tf.losses.mean_squared_error(y_true_tf, y_pred_tf)\n",
        "  \n",
        "  def backward(self, X_train, y_train):\n",
        "    \"\"\"\n",
        "    backward pass\n",
        "    \"\"\"\n",
        "    #optimizer = tf.keras.optimizers.SGD(learning_rate=1e-4)\n",
        "    optimizer = tf.keras.optimizers.Adam(learning_rate=1e-4)\n",
        "    #optimizer = tf.keras.optimizers.Adamax(learning_rate=1e-5)\n",
        "    with tf.GradientTape() as tape:\n",
        "      predicted = self.forward(X_train)\n",
        "      current_loss = self.loss(predicted, y_train)\n",
        "    grads = tape.gradient(current_loss, self.MLP_variables)\n",
        "    optimizer.apply_gradients(zip(grads, self.MLP_variables))\n",
        "        \n",
        "        \n",
        "  def compute_output(self, X):\n",
        "    \"\"\"\n",
        "    Custom method to obtain output tensor during forward pass\n",
        "    \"\"\"\n",
        "    # Cast X to float32\n",
        "    X_tf = tf.cast(X, dtype=tf.float32)\n",
        "    #Remember to normalize your dataset before moving forward\n",
        "    X_tf=X_tf/255.0\n",
        "    # Compute values in hidden layer\n",
        "    what = tf.matmul(X_tf, self.W1) + self.b1\n",
        "    hhat = tf.nn.relu(what)\n",
        "    drop_out = tf.nn.dropout(hhat, 0.2)\n",
        "    what1 = tf.matmul(drop_out, self.W2) + self.b2\n",
        "    hhat1 = tf.nn.relu(what1)\n",
        "    drop_out1 = tf.nn.dropout(hhat1, 0.2)\n",
        "    # Compute output\n",
        "    #adding dropout\n",
        "    output = tf.matmul(drop_out1, self.W3) + self.b3\n",
        "    #Now consider two things , First look at inbuild loss functions if they work with softmax or not and then change this\n",
        "    #Second add tf.Softmax(output) and then return this variable\n",
        "    output=tf.nn.softmax(output)\n",
        "    return output"
      ],
      "metadata": {
        "id": "eJvPuViuEYVT"
      },
      "execution_count": 13,
      "outputs": []
    },
    {
      "cell_type": "code",
      "source": [
        "#with L2  regularization.\n",
        "class MLP_RegL(tf.keras.Model):\n",
        "  def __init__(self, size_input, size_hidden, size_output, device=None):\n",
        "    super(MLP_RegL, self).__init__()\n",
        "    \"\"\"\n",
        "    size_input: int, size of input layer\n",
        "    size_hidden: int, size of hidden layer\n",
        "    size_output: int, size of output layer\n",
        "    device: str or None, either 'cpu' or 'gpu' or None. If None, the device to be used will be decided automatically during Eager Execution\n",
        "    \"\"\"\n",
        "\n",
        "    # self.size_input = 784\n",
        "    # self.size_hidden = 128\n",
        "    # self.size_output = 10\n",
        "    # self.device = 'gpu'\n",
        "    self.size_input, self.size_hidden, self.size_output, self.device =\\\n",
        "    size_input, size_hidden, size_output, device\n",
        "    \n",
        "    \n",
        "    # Initialize weights between input layer and hidden layer\n",
        "    self.W1 = tf.Variable(tf.random.normal([self.size_input, self.size_hidden[0]]))\n",
        "    # Initialize biases for hidden layer\n",
        "    self.b1 = tf.Variable(tf.random.normal([1, self.size_hidden[0]]))\n",
        "\n",
        "    # Initialize weights between hidden layer and hideen layer\n",
        "    self.W2 = tf.Variable(tf.random.normal([self.size_hidden[0], self.size_hidden[1]]))\n",
        "    # Initialize biases for hidden layer\n",
        "    self.b2 = tf.Variable(tf.random.normal([1, self.size_hidden[1]]))\n",
        "\n",
        "    # Initialize weights between hidden layer and output layer\n",
        "    self.W3 = tf.Variable(tf.random.normal([self.size_hidden[1], self.size_output]))\n",
        "    # Initialize biases for output layer\n",
        "    self.b3 = tf.Variable(tf.random.normal([1, self.size_output]))\n",
        "    \n",
        "    # Define variables to be updated during backpropagation\n",
        "    #self.MLP_variables = [self.W1, self.W2,self.W3,self.W4, self.b1, self.b2, self.b3, self.b4]\n",
        "    self.MLP_variables = [self.W1, self.W2,self.W3, self.b1, self.b2, self.b3]\n",
        "    \n",
        "    \n",
        "  def forward(self, X):\n",
        "    \"\"\"\n",
        "    forward pass\n",
        "    X: Tensor, inputs\n",
        "    \"\"\"\n",
        "    if self.device is not None:\n",
        "      with tf.device('gpu:0' if self.device=='gpu' else 'cpu'):\n",
        "        self.y = self.compute_output(X)\n",
        "    else:\n",
        "      self.y = self.compute_output(X)\n",
        "      \n",
        "    return self.y\n",
        "  \n",
        "  def loss(self, y_pred, y_true):\n",
        "    '''\n",
        "    y_pred - Tensor of shape (batch_size, size_output)\n",
        "    y_true - Tensor of shape (batch_size, size_output)\n",
        "    '''\n",
        "    y_true_tf = tf.cast(tf.reshape(y_true, (-1, self.size_output)), dtype=tf.float32)\n",
        "    y_pred_tf = tf.cast(y_pred, dtype=tf.float32)\n",
        "\n",
        "    categorical_cross_entropy = tf.keras.losses.CategoricalCrossentropy()\n",
        "    return categorical_cross_entropy(y_true=y_true,y_pred=y_pred) +0.01*tf.nn.l2_loss(self.W2) +0.01*tf.nn.l2_loss(self.W3)\n",
        "    #return tf.keras.losses.sparse_categorical_crossentropy(y_true,y_pred)\n",
        "    #return tf.losses.mean_squared_error(y_true_tf, y_pred_tf)\n",
        "  \n",
        "  def backward(self, X_train, y_train):\n",
        "    \"\"\"\n",
        "    backward pass\n",
        "    \"\"\"\n",
        "    #optimizer = tf.keras.optimizers.SGD(learning_rate=1e-4)\n",
        "    optimizer = tf.keras.optimizers.Adam(learning_rate=1e-4)\n",
        "    #optimizer = tf.keras.optimizers.Adamax(learning_rate=1e-5)\n",
        "    with tf.GradientTape() as tape:\n",
        "      predicted = self.forward(X_train)\n",
        "      current_loss = self.loss(predicted, y_train)\n",
        "    grads = tape.gradient(current_loss, self.MLP_variables)\n",
        "    optimizer.apply_gradients(zip(grads, self.MLP_variables))\n",
        "        \n",
        "        \n",
        "  def compute_output(self, X):\n",
        "    \"\"\"\n",
        "    Custom method to obtain output tensor during forward pass\n",
        "    \"\"\"\n",
        "    # Cast X to float32\n",
        "    X_tf = tf.cast(X, dtype=tf.float32)\n",
        "    #Remember to normalize your dataset before moving forward\n",
        "    X_tf=X_tf/255.0\n",
        "    # Compute values in hidden layer\n",
        "    what = tf.matmul(X_tf, self.W1) + self.b1\n",
        "    hhat = tf.nn.relu(what)\n",
        "\n",
        "\n",
        "    what1 = tf.matmul(hhat, self.W2) + self.b2\n",
        "    hhat1 = tf.nn.relu(what1)\n",
        "    # Compute output\n",
        "    output = tf.matmul(hhat1, self.W3) + self.b3\n",
        "    #Now consider two things , First look at inbuild loss functions if they work with softmax or not and then change this\n",
        "    #Second add tf.Softmax(output) and then return this variable\n",
        "    output=tf.nn.softmax(output)\n",
        "    return output"
      ],
      "metadata": {
        "id": "Qj-G4mz_FXhC"
      },
      "execution_count": 14,
      "outputs": []
    },
    {
      "cell_type": "code",
      "execution_count": 15,
      "metadata": {
        "id": "n9w8SJ9Xf-qT"
      },
      "outputs": [],
      "source": [
        "# Set number of epochs\n",
        "NUM_EPOCHS = 10\n",
        "iterations=[1,2,3,4,5,6,7,8,9,10]"
      ]
    },
    {
      "cell_type": "code",
      "source": [
        "def categorical_accuracy( y_pred,y_true):\n",
        "    return tf.cast(tf.equal(tf.argmax(y_true, axis=-1),tf.argmax(y_pred, axis=-1)),tf.keras.backend.floatx())"
      ],
      "metadata": {
        "id": "45Tad5gzYBcL"
      },
      "execution_count": 16,
      "outputs": []
    },
    {
      "cell_type": "markdown",
      "metadata": {
        "id": "JRCVni6FsF3j"
      },
      "source": [
        "##**The below 3 blocks codes is on MNIST without reguralization,with drop out reguralization and with L1 reguralization repesctively.**"
      ]
    },
    {
      "cell_type": "code",
      "execution_count": 31,
      "metadata": {
        "colab": {
          "base_uri": "https://localhost:8080/"
        },
        "id": "ih59_ZCl9D07",
        "outputId": "b78319db-0898-440d-de98-34c886825483"
      },
      "outputs": [
        {
          "output_type": "stream",
          "name": "stdout",
          "text": [
            "For MNIST GPU without Reguralization\n",
            "\n",
            "Number of Epoch = 1 - Average categorical_cross_entropy:= 0.45267368861607143 - accuracy:=99.875\n",
            "Number of Epoch = 2 - Average categorical_cross_entropy:= 0.4526974051339286 - accuracy:=99.91666666666667\n",
            "Number of Epoch = 3 - Average categorical_cross_entropy:= 0.4526493791852679 - accuracy:=99.83333333333333\n",
            "Number of Epoch = 4 - Average categorical_cross_entropy:= 0.4527213309151786 - accuracy:=99.95833333333333\n",
            "Number of Epoch = 5 - Average categorical_cross_entropy:= 0.4526734793526786 - accuracy:=99.875\n",
            "Number of Epoch = 6 - Average categorical_cross_entropy:= 0.45267344447544644 - accuracy:=99.875\n",
            "Number of Epoch = 7 - Average categorical_cross_entropy:= 0.45267344447544644 - accuracy:=99.875\n",
            "Number of Epoch = 8 - Average categorical_cross_entropy:= 0.45269737025669643 - accuracy:=99.91666666666667\n",
            "Number of Epoch = 9 - Average categorical_cross_entropy:= 0.45269747488839285 - accuracy:=99.91666666666667\n",
            "Number of Epoch = 10 - Average categorical_cross_entropy:= 0.45267344447544644 - accuracy:=99.875\n",
            "\n",
            "Total time taken (in seconds): 84.05\n"
          ]
        }
      ],
      "source": [
        "# Initialize model using GPU for mnist with out regularization train set\n",
        "#mlp_on_gpu = MLP()\n",
        "mlp_on_gpu = MLP(size_input, size_hidden, size_output, device='gpu')\n",
        "time_start = time.time()\n",
        "acce_mnist_train=[]\n",
        "#acce_mnist_test=[]\n",
        "print(\"For MNIST GPU without Reguralization\\n\")\n",
        "for epoch in range(NUM_EPOCHS):\n",
        "  loss_total_gpu = tf.zeros([1,1], dtype=tf.float32)\n",
        "  lt = 0\n",
        "  accuracy=0\n",
        "  train_ds_mnist = tf.data.Dataset.from_tensor_slices((X_train_mnist, y_train_mnist)).shuffle(25, seed=epoch*(seed)).batch(32)\n",
        "  for inputs, outputs in train_ds_mnist:\n",
        "    preds = mlp_on_gpu.forward(inputs)\n",
        "    loss_total_gpu = loss_total_gpu + mlp_on_gpu.loss(preds, outputs)\n",
        "    lt = lt + mlp_on_gpu.loss(preds, outputs)\n",
        "    mlp_on_gpu.backward(inputs, outputs)\n",
        "    accuracy=categorical_accuracy(preds, outputs)\n",
        "  acce_mnist_train.append(np.sum(loss_total_gpu) / X_train_mnist.shape[0])\n",
        "  print('Number of Epoch = {} - Average categorical_cross_entropy:= {} - accuracy:={}'.format(epoch + 1, np.sum(loss_total_gpu) / X_train_mnist.shape[0],(100-(np.abs(np.sum(np.abs(accuracy)))/accuracy.shape[0]))))\n",
        "time_taken = time.time() - time_start\n",
        "\n",
        "print('\\nTotal time taken (in seconds): {:.2f}'.format(time_taken))"
      ]
    },
    {
      "cell_type": "code",
      "execution_count": 32,
      "metadata": {
        "id": "Ro0m8_Nhfv_G",
        "colab": {
          "base_uri": "https://localhost:8080/"
        },
        "outputId": "f2c4a1b4-0006-4bab-dbb5-8a7d68dcd71d"
      },
      "outputs": [
        {
          "output_type": "stream",
          "name": "stdout",
          "text": [
            "For MNIST GPU with Reguralization Drop Out\n",
            "\n",
            "Number of Epoch = 1 - Average categorical_cross_entropy:= 0.5822149135044643 - accuracy:=99.9375\n",
            "Number of Epoch = 2 - Average categorical_cross_entropy:= 0.5808330775669643 - accuracy:=99.875\n",
            "Number of Epoch = 3 - Average categorical_cross_entropy:= 0.5823743722098215 - accuracy:=99.9375\n",
            "Number of Epoch = 4 - Average categorical_cross_entropy:= 0.581331787109375 - accuracy:=99.875\n",
            "Number of Epoch = 5 - Average categorical_cross_entropy:= 0.5802337820870536 - accuracy:=99.9375\n",
            "Number of Epoch = 6 - Average categorical_cross_entropy:= 0.5778423549107143 - accuracy:=99.9375\n",
            "Number of Epoch = 7 - Average categorical_cross_entropy:= 0.58142578125 - accuracy:=100.0\n",
            "Number of Epoch = 8 - Average categorical_cross_entropy:= 0.5737910505022321 - accuracy:=99.8125\n",
            "Number of Epoch = 9 - Average categorical_cross_entropy:= 0.5828118373325892 - accuracy:=99.9375\n",
            "Number of Epoch = 10 - Average categorical_cross_entropy:= 0.5757952008928572 - accuracy:=99.9375\n",
            "\n",
            "Total time taken (in seconds): 126.99\n"
          ]
        }
      ],
      "source": [
        "# Initialize model using GPU for mnist with  regularization drop out\n",
        "#mlp_on_gpu = MLP()\n",
        "mlp_on_gpu = MLP_Regdp(size_input, size_hidden, size_output, device='cpu')\n",
        "time_start = time.time()\n",
        "acce_mnist_train_rdp=[]\n",
        "print(\"For MNIST GPU with Reguralization Drop Out\\n\")\n",
        "for epoch in range(NUM_EPOCHS):\n",
        "  loss_total_gpu = tf.zeros([1,1], dtype=tf.float32)\n",
        "  lt = 0\n",
        "  accuracy=0\n",
        "  train_ds_mnist = tf.data.Dataset.from_tensor_slices((X_train_mnist, y_train_mnist)).shuffle(25, seed=epoch*(seed)).batch(24)\n",
        "  for inputs, outputs in train_ds_mnist:\n",
        "    preds = mlp_on_gpu.forward(inputs)\n",
        "    loss_total_gpu = loss_total_gpu + mlp_on_gpu.loss(preds, outputs)\n",
        "    lt = lt + mlp_on_gpu.loss(preds, outputs)\n",
        "    mlp_on_gpu.backward(inputs, outputs)\n",
        "    accuracy=categorical_accuracy(preds, outputs)\n",
        "  acce_mnist_train_rdp.append(np.sum(loss_total_gpu) / X_train_mnist.shape[0])\n",
        "  print('Number of Epoch = {} - Average categorical_cross_entropy:= {} - accuracy:={}'.format(epoch + 1, np.sum(loss_total_gpu) / X_train_mnist.shape[0],(100-(np.abs(np.sum(np.abs(accuracy)))/accuracy.shape[0]))))\n",
        "time_taken = time.time() - time_start\n",
        "\n",
        "print('\\nTotal time taken (in seconds): {:.2f}'.format(time_taken))"
      ]
    },
    {
      "cell_type": "code",
      "execution_count": 86,
      "metadata": {
        "id": "ffJW_D6arbXZ",
        "colab": {
          "base_uri": "https://localhost:8080/"
        },
        "outputId": "4097db51-4ce3-419c-9a25-7535a9c9221a"
      },
      "outputs": [
        {
          "output_type": "stream",
          "name": "stdout",
          "text": [
            "For MNIST GPU with Reguralization L2\n",
            "\n",
            "Number of Epoch = 1 - Average categorical_cross_entropy:= 1.6820062779017857 - accuracy:=99.75\n",
            "Number of Epoch = 2 - Average categorical_cross_entropy:= 1.6255678013392858 - accuracy:=99.875\n",
            "Number of Epoch = 3 - Average categorical_cross_entropy:= 1.5853204520089286 - accuracy:=99.83333333333333\n",
            "Number of Epoch = 4 - Average categorical_cross_entropy:= 1.546716517857143 - accuracy:=99.66666666666667\n",
            "Number of Epoch = 5 - Average categorical_cross_entropy:= 1.5093159877232143 - accuracy:=99.58333333333333\n",
            "Number of Epoch = 6 - Average categorical_cross_entropy:= 1.4731943359375 - accuracy:=99.70833333333333\n",
            "Number of Epoch = 7 - Average categorical_cross_entropy:= 1.4067544642857144 - accuracy:=99.70833333333333\n",
            "Number of Epoch = 8 - Average categorical_cross_entropy:= 1.358173828125 - accuracy:=99.70833333333333\n",
            "Number of Epoch = 9 - Average categorical_cross_entropy:= 1.325374302455357 - accuracy:=99.5\n",
            "Number of Epoch = 10 - Average categorical_cross_entropy:= 1.2933842075892856 - accuracy:=99.45833333333333\n",
            "\n",
            "Total time taken (in seconds): 97.17\n"
          ]
        }
      ],
      "source": [
        "# Initialize model using GPU for mnist with  regularization L2 train set\n",
        "#mlp_on_gpu = MLP()\n",
        "mlp_on_gpu = MLP_RegL(size_input, size_hidden, size_output, device='cpu')\n",
        "time_start = time.time()\n",
        "acce_mnist_train_rl=[]\n",
        "print(\"For MNIST GPU with Reguralization L2\\n\")\n",
        "for epoch in range(NUM_EPOCHS):\n",
        "  loss_total_gpu = tf.zeros([1,1], dtype=tf.float32)\n",
        "  lt = 0\n",
        "  accuracy=0\n",
        "  train_ds_mnist = tf.data.Dataset.from_tensor_slices((X_train_mnist, y_train_mnist)).shuffle(25, seed=epoch*(seed)).batch(32)\n",
        "  for inputs, outputs in train_ds_mnist:\n",
        "    preds = mlp_on_gpu.forward(inputs)\n",
        "    loss_total_gpu = loss_total_gpu + mlp_on_gpu.loss(preds, outputs)\n",
        "    lt = lt + mlp_on_gpu.loss(preds, outputs)\n",
        "    mlp_on_gpu.backward(inputs, outputs)\n",
        "    accuracy=categorical_accuracy(preds, outputs)\n",
        "  acce_mnist_train_rl.append(np.sum(loss_total_gpu) / X_train_mnist.shape[0])\n",
        "  print('Number of Epoch = {} - Average categorical_cross_entropy:= {} - accuracy:={}'.format(epoch + 1, np.sum(loss_total_gpu) / X_train_mnist.shape[0],(100-(np.abs(np.sum(np.abs(accuracy)))/accuracy.shape[0]))))\n",
        "time_taken = time.time() - time_start\n",
        "\n",
        "print('\\nTotal time taken (in seconds): {:.2f}'.format(time_taken))"
      ]
    },
    {
      "cell_type": "markdown",
      "metadata": {
        "id": "BnVFo00CrlMV"
      },
      "source": [
        "##**The below 3 blocks codes is on fashion MNIST without reguralization,with drop out reguralization and with L1 reguralization repesctively.**\n",
        "\n"
      ]
    },
    {
      "cell_type": "code",
      "execution_count": 88,
      "metadata": {
        "colab": {
          "base_uri": "https://localhost:8080/"
        },
        "id": "dGG7huxA9HQU",
        "outputId": "81bd527f-1a9f-4156-949e-614194291df4"
      },
      "outputs": [
        {
          "output_type": "stream",
          "name": "stdout",
          "text": [
            "For Fashion MNIST GPU without Reguralization\n",
            "\n",
            "Number of Epoch = 1 - Average categorical_cross_entropy:= 0.4442196568080357 - accuracy:=99.91666666666667\n",
            "Number of Epoch = 2 - Average categorical_cross_entropy:= 0.4249189801897321 - accuracy:=99.91666666666667\n",
            "Number of Epoch = 3 - Average categorical_cross_entropy:= 0.4126382533482143 - accuracy:=99.91666666666667\n",
            "Number of Epoch = 4 - Average categorical_cross_entropy:= 0.4111673060825893 - accuracy:=99.875\n",
            "Number of Epoch = 5 - Average categorical_cross_entropy:= 0.410490234375 - accuracy:=99.83333333333333\n",
            "Number of Epoch = 6 - Average categorical_cross_entropy:= 0.4099150390625 - accuracy:=99.875\n",
            "Number of Epoch = 7 - Average categorical_cross_entropy:= 0.40936146763392856 - accuracy:=99.79166666666667\n",
            "Number of Epoch = 8 - Average categorical_cross_entropy:= 0.4089474051339286 - accuracy:=99.91666666666667\n",
            "Number of Epoch = 9 - Average categorical_cross_entropy:= 0.4084927455357143 - accuracy:=99.875\n",
            "Number of Epoch = 10 - Average categorical_cross_entropy:= 0.4080311802455357 - accuracy:=99.70833333333333\n",
            "\n",
            "Total time taken (in seconds): 113.01\n"
          ]
        }
      ],
      "source": [
        "# Initialize model using GPU for fashion mnist without reguralization\n",
        "#mlp_on_gpu = MLP()\n",
        "mlp_on_gpu = MLP(size_input, size_hidden, size_output, device='gpu')\n",
        "time_start = time.time()\n",
        "print(\"For Fashion MNIST GPU without Reguralization\\n\")\n",
        "acce_fmnist_train=[]\n",
        "for epoch in range(NUM_EPOCHS):\n",
        "  loss_total_gpu = tf.zeros([1,1], dtype=tf.float32)\n",
        "  lt = 0\n",
        "  accuracy=0\n",
        "  train_ds_fmnist = tf.data.Dataset.from_tensor_slices((X_train_fmnist, y_train_fmnist)).shuffle(25, seed=epoch*(1234)).batch(32)\n",
        "  for inputs, outputs in train_ds_fmnist:\n",
        "    preds = mlp_on_gpu.forward(inputs)\n",
        "    loss_total_gpu = loss_total_gpu + mlp_on_gpu.loss(preds, outputs)\n",
        "    lt = lt + mlp_on_gpu.loss(preds, outputs)\n",
        "    mlp_on_gpu.backward(inputs, outputs)\n",
        "    accuracy=categorical_accuracy(preds, outputs)\n",
        "  acce_fmnist_train.append(np.sum(loss_total_gpu) / X_train_fmnist.shape[0])\n",
        "  print('Number of Epoch = {} - Average categorical_cross_entropy:= {} - accuracy:={}'.format(epoch + 1, np.sum(loss_total_gpu) / X_train_fmnist.shape[0],(100-(np.abs(np.sum(np.abs(accuracy)))/accuracy.shape[0]))))\n",
        "time_taken = time.time() - time_start\n",
        "\n",
        "print('\\nTotal time taken (in seconds): {:.2f}'.format(time_taken))"
      ]
    },
    {
      "cell_type": "code",
      "execution_count": 89,
      "metadata": {
        "id": "i6o4XZ3CqfK5",
        "colab": {
          "base_uri": "https://localhost:8080/"
        },
        "outputId": "a260cba1-1c4d-46cc-bba7-ed6df700ffc3"
      },
      "outputs": [
        {
          "output_type": "stream",
          "name": "stdout",
          "text": [
            "For Fashion MNIST GPU with Reguralization Drop Out\n",
            "\n",
            "Number of Epoch = 1 - Average categorical_cross_entropy:= 0.440268310546875 - accuracy:=99.91666666666667\n",
            "Number of Epoch = 2 - Average categorical_cross_entropy:= 0.44065237862723217 - accuracy:=99.875\n",
            "Number of Epoch = 3 - Average categorical_cross_entropy:= 0.4381923130580357 - accuracy:=99.91666666666667\n",
            "Number of Epoch = 4 - Average categorical_cross_entropy:= 0.4384303501674107 - accuracy:=99.875\n",
            "Number of Epoch = 5 - Average categorical_cross_entropy:= 0.4374399065290179 - accuracy:=99.79166666666667\n",
            "Number of Epoch = 6 - Average categorical_cross_entropy:= 0.4377294224330357 - accuracy:=99.875\n",
            "Number of Epoch = 7 - Average categorical_cross_entropy:= 0.4363187430245536 - accuracy:=99.875\n",
            "Number of Epoch = 8 - Average categorical_cross_entropy:= 0.43549072265625 - accuracy:=99.79166666666667\n",
            "Number of Epoch = 9 - Average categorical_cross_entropy:= 0.43242996651785715 - accuracy:=99.875\n",
            "Number of Epoch = 10 - Average categorical_cross_entropy:= 0.43418331473214283 - accuracy:=99.83333333333333\n",
            "\n",
            "Total time taken (in seconds): 89.09\n"
          ]
        }
      ],
      "source": [
        "# Initialize model using GPU for  fashion mnist with  regularization drop out\n",
        "#mlp_on_gpu = MLP()\n",
        "mlp_on_gpu = MLP_Regdp(size_input, size_hidden, size_output, device='gpu')\n",
        "time_start = time.time()\n",
        "acce_fmnist_train_rdp=[]\n",
        "print(\"For Fashion MNIST GPU with Reguralization Drop Out\\n\")\n",
        "for epoch in range(NUM_EPOCHS):\n",
        "  loss_total_gpu = tf.zeros([1,1], dtype=tf.float32)\n",
        "  lt = 0\n",
        "  accuracy=0\n",
        "  train_ds_fmnist = tf.data.Dataset.from_tensor_slices((X_train_fmnist, y_train_fmnist)).shuffle(25, seed=epoch*(seed)).batch(32)\n",
        "  for inputs, outputs in train_ds_fmnist:\n",
        "    preds = mlp_on_gpu.forward(inputs)\n",
        "    loss_total_gpu = loss_total_gpu + mlp_on_gpu.loss(preds, outputs)\n",
        "    lt = lt + mlp_on_gpu.loss(preds, outputs)\n",
        "    mlp_on_gpu.backward(inputs, outputs)\n",
        "    accuracy=categorical_accuracy(preds, outputs)\n",
        "  acce_fmnist_train_rdp.append(np.sum(loss_total_gpu) / X_train_fmnist.shape[0])\n",
        "  print('Number of Epoch = {} - Average categorical_cross_entropy:= {} - accuracy:={}'.format(epoch + 1, np.sum(loss_total_gpu) / X_train_fmnist.shape[0],(100-(np.abs(np.sum(np.abs(accuracy)))/accuracy.shape[0]))))\n",
        "time_taken = time.time() - time_start\n",
        "\n",
        "print('\\nTotal time taken (in seconds): {:.2f}'.format(time_taken))"
      ]
    },
    {
      "cell_type": "code",
      "execution_count": 90,
      "metadata": {
        "id": "xO9iOMm8qz1D",
        "colab": {
          "base_uri": "https://localhost:8080/"
        },
        "outputId": "a0090b94-0868-4e90-dd08-aea93a0083df"
      },
      "outputs": [
        {
          "output_type": "stream",
          "name": "stdout",
          "text": [
            "For Fashion MNIST GPU with Reguralization L2\n",
            "\n",
            "Number of Epoch = 1 - Average categorical_cross_entropy:= 1.8063604910714286 - accuracy:=99.875\n",
            "Number of Epoch = 2 - Average categorical_cross_entropy:= 1.7316092354910715 - accuracy:=99.83333333333333\n",
            "Number of Epoch = 3 - Average categorical_cross_entropy:= 1.6341934988839286 - accuracy:=99.75\n",
            "Number of Epoch = 4 - Average categorical_cross_entropy:= 1.594478515625 - accuracy:=99.75\n",
            "Number of Epoch = 5 - Average categorical_cross_entropy:= 1.5565185546875 - accuracy:=99.75\n",
            "Number of Epoch = 6 - Average categorical_cross_entropy:= 1.520040736607143 - accuracy:=99.79166666666667\n",
            "Number of Epoch = 7 - Average categorical_cross_entropy:= 1.4844732142857142 - accuracy:=99.83333333333333\n",
            "Number of Epoch = 8 - Average categorical_cross_entropy:= 1.4498067801339285 - accuracy:=99.75\n",
            "Number of Epoch = 9 - Average categorical_cross_entropy:= 1.4162222377232143 - accuracy:=99.75\n",
            "Number of Epoch = 10 - Average categorical_cross_entropy:= 1.383275111607143 - accuracy:=99.70833333333333\n",
            "\n",
            "Total time taken (in seconds): 84.02\n"
          ]
        }
      ],
      "source": [
        "# Initialize model using GPU for  fashion mnist with  regularization L2\n",
        "#mlp_on_gpu = MLP()\n",
        "mlp_on_gpu = MLP_RegL(size_input, size_hidden, size_output, device='gpu')\n",
        "time_start = time.time()\n",
        "print(\"For Fashion MNIST GPU with Reguralization L2\\n\")\n",
        "acce_fmnist_train_rl=[]\n",
        "for epoch in range(NUM_EPOCHS):\n",
        "  loss_total_gpu = tf.zeros([1,1], dtype=tf.float32)\n",
        "  lt = 0\n",
        "  accuracy=0\n",
        "  train_ds_fmnist = tf.data.Dataset.from_tensor_slices((X_train_fmnist, y_train_fmnist)).shuffle(25, seed=epoch*(seed)).batch(32)\n",
        "  for inputs, outputs in train_ds_fmnist:\n",
        "    preds = mlp_on_gpu.forward(inputs)\n",
        "    loss_total_gpu = loss_total_gpu + mlp_on_gpu.loss(preds, outputs)\n",
        "    lt = lt + mlp_on_gpu.loss(preds, outputs)\n",
        "    mlp_on_gpu.backward(inputs, outputs)\n",
        "    accuracy=categorical_accuracy(preds, outputs)\n",
        "  acce_fmnist_train_rl.append(np.sum(loss_total_gpu) / X_train_fmnist.shape[0])\n",
        "  print('Number of Epoch = {} - Average categorical_cross_entropy:= {} - accuracy:={}'.format(epoch + 1, np.sum(loss_total_gpu) / X_train_fmnist.shape[0],(100-(np.abs(np.sum(np.abs(accuracy)))/accuracy.shape[0]))))\n",
        "time_taken = time.time() - time_start\n",
        "\n",
        "print('\\nTotal time taken (in seconds): {:.2f}'.format(time_taken))"
      ]
    },
    {
      "cell_type": "markdown",
      "source": [
        "##Plotting for MNIST for 3 models"
      ],
      "metadata": {
        "id": "-Dmt9Qu3QI5K"
      }
    },
    {
      "cell_type": "code",
      "source": [
        "# Plot learning curve (with errors)\n",
        "errors = np.squeeze(acce_mnist_train)\n",
        "errors_rdp = np.squeeze(acce_mnist_train_rdp)\n",
        "errors_rl = np.squeeze(acce_mnist_train_rl)\n",
        "plt.plot(iterations,errors,label ='MNIST')\n",
        "plt.plot(iterations,errors_rdp,label ='MNIST drop out')\n",
        "plt.plot(iterations,errors_rl,label ='MNIST L2')\n",
        "plt.ylabel('errors')\n",
        "plt.xlabel('iterations ')\n",
        "plt.title(\"MNIST\")\n",
        "plt.legend()\n",
        "plt.show()"
      ],
      "metadata": {
        "colab": {
          "base_uri": "https://localhost:8080/",
          "height": 295
        },
        "id": "r3aM-WJbQMD0",
        "outputId": "e96b817e-3b15-4d0e-a60c-79c83257885b"
      },
      "execution_count": 91,
      "outputs": [
        {
          "output_type": "display_data",
          "data": {
            "image/png": "[encoded data removed]",
            "text/plain": [
              "<Figure size 432x288 with 1 Axes>"
            ]
          },
          "metadata": {
            "needs_background": "light"
          }
        }
      ]
    },
    {
      "cell_type": "markdown",
      "source": [
        "##Plotting for fashion MNIST for 3 models"
      ],
      "metadata": {
        "id": "OuZRkLeKaMNy"
      }
    },
    {
      "cell_type": "code",
      "source": [
        "# Plot learning curve (with errors)\n",
        "errors = np.squeeze(acce_fmnist_train)\n",
        "errors_rdp = np.squeeze(acce_fmnist_train_rdp)\n",
        "errors_rl = np.squeeze(acce_fmnist_train_rl)\n",
        "plt.plot(iterations,errors,label='Fashion MNIST')\n",
        "plt.plot(iterations,errors_rdp,label='Fashion MNIST drop out')\n",
        "plt.plot(iterations,errors_rl,label='Fashion MNIST L2')\n",
        "plt.ylabel('errors')\n",
        "plt.xlabel('iterations ')\n",
        "plt.title(\"Fashion MNIST\")\n",
        "plt.legend()\n",
        "plt.show()"
      ],
      "metadata": {
        "colab": {
          "base_uri": "https://localhost:8080/",
          "height": 295
        },
        "id": "-uwKg3QDaD2y",
        "outputId": "c66ce389-3c85-4e35-c2ae-cc60bd17634e"
      },
      "execution_count": 92,
      "outputs": [
        {
          "output_type": "display_data",
          "data": {
            "image/png": "[encoded data removed]",
            "text/plain": [
              "<Figure size 432x288 with 1 Axes>"
            ]
          },
          "metadata": {
            "needs_background": "light"
          }
        }
      ]
    },
    {
      "cell_type": "markdown",
      "metadata": {
        "id": "aiORnznaqvsU"
      },
      "source": [
        "## One Step Inference\n",
        "## Default Mode for MNIST"
      ]
    },
    {
      "cell_type": "code",
      "source": [
        "#Default mode\n",
        "mlp_on_default = MLP(size_input, size_hidden, size_output)\n",
        "#Default mode for L2 reguralization\n",
        "mlp_on_default_l = MLP_RegL(size_input, size_hidden, size_output)\n",
        "#Default mode for drop out\n",
        "mlp_on_default_dp = MLP_Regdp(size_input, size_hidden, size_output)\n"
      ],
      "metadata": {
        "id": "v50dIkY6RaNt"
      },
      "execution_count": 130,
      "outputs": []
    },
    {
      "cell_type": "code",
      "source": [
        "train_ds_mnist = tf.data.Dataset.from_tensor_slices((X_train_mnist, y_train_mnist)).shuffle(25, seed=epoch*(seed)).batch(32)"
      ],
      "metadata": {
        "id": "KwzW_lbsZSDY"
      },
      "execution_count": 131,
      "outputs": []
    },
    {
      "cell_type": "code",
      "execution_count": 132,
      "metadata": {
        "id": "3bYYBYs0k9Mt",
        "colab": {
          "base_uri": "https://localhost:8080/"
        },
        "outputId": "168c5ff8-40f6-4296-b131-6f0d4760810d"
      },
      "outputs": [
        {
          "output_type": "stream",
          "name": "stdout",
          "text": [
            "For MNIST inference\n",
            "\n",
            "Test categorical_cross_entropy: 0.4542- Accuracy:=99.95833333333333\n"
          ]
        }
      ],
      "source": [
        "test_loss_total = tf.Variable(0, dtype=tf.float32)\n",
        "#test_loss_total = 0.0\n",
        "accuracy=0\n",
        "for inputs, outputs in train_ds_mnist:\n",
        "  preds = mlp_on_default.forward(inputs)\n",
        "  #b = mlp_on_default.loss(preds, outputs)\n",
        "  test_loss_total = test_loss_total + mlp_on_default.loss(preds, outputs)\n",
        "  accuracy=categorical_accuracy(preds, outputs)\n",
        "# a = (test_loss_total.numpy() / X_train.shape[0])\n",
        "# print(X_train.shape[0])\n",
        "# print(test_loss_total.numpy())\n",
        "# print(b)\n",
        "print(\"For MNIST inference\\n\")\n",
        "print('Test categorical_cross_entropy: {:.4f}- Accuracy:={}'.format(np.sum(test_loss_total.numpy()) / X_train_mnist.shape[0],(100-(np.abs(np.sum(np.abs(accuracy)))/accuracy.shape[0]))))"
      ]
    },
    {
      "cell_type": "code",
      "source": [
        "test_loss_total = tf.Variable(0, dtype=tf.float32)\n",
        "#test_loss_total = 0.0\n",
        "accuracy=0\n",
        "for inputs, outputs in train_ds_mnist:\n",
        "  preds = mlp_on_default_dp.forward(inputs)\n",
        "  #b = mlp_on_default.loss(preds, outputs)\n",
        "  test_loss_total = test_loss_total + mlp_on_default_dp.loss(preds, outputs)\n",
        "  accuracy=categorical_accuracy(preds, outputs)\n",
        "# a = (test_loss_total.numpy() / X_train.shape[0])\n",
        "# print(X_train.shape[0])\n",
        "# print(test_loss_total.numpy())\n",
        "# print(b)\n",
        "print(\"For MNIST inference\\n\")\n",
        "print('Test categorical_cross_entropy: {:.4f}- Accuracy:={}'.format(np.sum(test_loss_total.numpy()) / X_train_mnist.shape[0],(100-(np.abs(np.sum(np.abs(accuracy)))/accuracy.shape[0]))))"
      ],
      "metadata": {
        "colab": {
          "base_uri": "https://localhost:8080/"
        },
        "id": "RO3jNlxtStwV",
        "outputId": "0ff0e3fc-f09b-4b5e-a596-79f03969ed7f"
      },
      "execution_count": 133,
      "outputs": [
        {
          "output_type": "stream",
          "name": "stdout",
          "text": [
            "For MNIST inference\n",
            "\n",
            "Test categorical_cross_entropy: 0.4522- Accuracy:=99.875\n"
          ]
        }
      ]
    },
    {
      "cell_type": "code",
      "source": [
        "test_loss_total = tf.Variable(0, dtype=tf.float32)\n",
        "#test_loss_total = 0.0\n",
        "accuracy=0\n",
        "for inputs, outputs in train_ds_mnist:\n",
        "  preds = mlp_on_default_l.forward(inputs)\n",
        "  #b = mlp_on_default.loss(preds, outputs)\n",
        "  test_loss_total = test_loss_total + mlp_on_default_l.loss(preds, outputs)\n",
        "  accuracy=categorical_accuracy(preds, outputs)\n",
        "# a = (test_loss_total.numpy() / X_train.shape[0])\n",
        "# print(X_train.shape[0])\n",
        "# print(test_loss_total.numpy())\n",
        "# print(b)\n",
        "print(\"For MNIST inference\\n\")\n",
        "print('Test categorical_cross_entropy: {:.4f}- Accuracy:={}'.format(np.sum(test_loss_total.numpy()) / X_train_mnist.shape[0],(100-(np.abs(np.sum(np.abs(accuracy)))/accuracy.shape[0]))))"
      ],
      "metadata": {
        "colab": {
          "base_uri": "https://localhost:8080/"
        },
        "id": "JUhT20foSu3T",
        "outputId": "e2ac6222-6b83-4ee5-a107-3db4a77089bc"
      },
      "execution_count": 134,
      "outputs": [
        {
          "output_type": "stream",
          "name": "stdout",
          "text": [
            "For MNIST inference\n",
            "\n",
            "Test categorical_cross_entropy: 1.8758- Accuracy:=99.95833333333333\n"
          ]
        }
      ]
    },
    {
      "cell_type": "markdown",
      "source": [
        "## Default Mode for Fashion MNIST"
      ],
      "metadata": {
        "id": "BEeLLHczS_Eq"
      }
    },
    {
      "cell_type": "code",
      "source": [
        "#Default mode\n",
        "mlp_on_default = MLP(size_input, size_hidden, size_output)\n",
        "\n",
        "#Default mode for drop out\n",
        "mlp_on_default_dp = MLP_Regdp(size_input, size_hidden, size_output)\n",
        "\n",
        "#Default mode for L2 reguralization\n",
        "mlp_on_default_l = MLP_RegL(size_input, size_hidden, size_output)"
      ],
      "metadata": {
        "id": "baOLeT2VSOkJ"
      },
      "execution_count": 135,
      "outputs": []
    },
    {
      "cell_type": "code",
      "source": [
        "train_ds_fmnist = tf.data.Dataset.from_tensor_slices((X_train_fmnist, y_train_fmnist)).shuffle(25, seed=epoch*(seed)).batch(32)"
      ],
      "metadata": {
        "id": "dYejf7zHaCDm"
      },
      "execution_count": 136,
      "outputs": []
    },
    {
      "cell_type": "code",
      "execution_count": 137,
      "metadata": {
        "id": "jjnpqXFUmETY",
        "colab": {
          "base_uri": "https://localhost:8080/"
        },
        "outputId": "867bad48-4bae-438a-c8a5-28f34ece1504"
      },
      "outputs": [
        {
          "output_type": "stream",
          "name": "stdout",
          "text": [
            "For Fashion MNIST inference\n",
            "\n",
            "Test categorical_cross_entropy: 0.4545- Accuracy:=99.875\n"
          ]
        }
      ],
      "source": [
        "test_loss_total = tf.Variable(0, dtype=tf.float32)\n",
        "#test_loss_total = 0.0\n",
        "accuracy=0\n",
        "for inputs, outputs in train_ds_fmnist:\n",
        "  preds = mlp_on_default.forward(inputs)\n",
        "  #b = mlp_on_default.loss(preds, outputs)\n",
        "  test_loss_total = test_loss_total + mlp_on_default.loss(preds, outputs)\n",
        "  accuracy=categorical_accuracy(preds, outputs)\n",
        "# a = (test_loss_total.numpy() / X_train.shape[0])\n",
        "# print(X_train.shape[0])\n",
        "# print(test_loss_total.numpy())\n",
        "# print(b)\n",
        "print(\"For Fashion MNIST inference\\n\")\n",
        "print('Test categorical_cross_entropy: {:.4f}- Accuracy:={}'.format(np.sum(test_loss_total.numpy()) / X_train_fmnist.shape[0],(100-(np.abs(np.sum(np.abs(accuracy)))/accuracy.shape[0]))))"
      ]
    },
    {
      "cell_type": "code",
      "source": [
        "test_loss_total = tf.Variable(0, dtype=tf.float32)\n",
        "#test_loss_total = 0.0\n",
        "accuracy=0\n",
        "for inputs, outputs in train_ds_fmnist:\n",
        "  preds = mlp_on_default_dp.forward(inputs)\n",
        "  #b = mlp_on_default.loss(preds, outputs)\n",
        "  test_loss_total = test_loss_total + mlp_on_default_dp.loss(preds, outputs)\n",
        "  accuracy=categorical_accuracy(preds, outputs)\n",
        "# a = (test_loss_total.numpy() / X_train.shape[0])\n",
        "# print(X_train.shape[0])\n",
        "# print(test_loss_total.numpy())\n",
        "# print(b)\n",
        "print(\"For Fashion MNIST inference\\n\")\n",
        "print('Test categorical_cross_entropy: {:.4f}- Accuracy:={}'.format(np.sum(test_loss_total.numpy()) / X_train_fmnist.shape[0],(100-(np.abs(np.sum(np.abs(accuracy)))/accuracy.shape[0]))))"
      ],
      "metadata": {
        "colab": {
          "base_uri": "https://localhost:8080/"
        },
        "id": "4h8Ze3LFUNHm",
        "outputId": "ee1ebfae-e2fb-4f8d-d584-6a2af8dd8770"
      },
      "execution_count": 138,
      "outputs": [
        {
          "output_type": "stream",
          "name": "stdout",
          "text": [
            "For Fashion MNIST inference\n",
            "\n",
            "Test categorical_cross_entropy: 0.4254- Accuracy:=99.95833333333333\n"
          ]
        }
      ]
    },
    {
      "cell_type": "code",
      "source": [
        "test_loss_total = tf.Variable(0, dtype=tf.float32)\n",
        "#test_loss_total = 0.0\n",
        "accuracy=0\n",
        "for inputs, outputs in train_ds_fmnist:\n",
        "  preds = mlp_on_default_l.forward(inputs)\n",
        "  #b = mlp_on_default.loss(preds, outputs)\n",
        "  test_loss_total = test_loss_total + mlp_on_default_l.loss(preds, outputs)\n",
        "  accuracy=categorical_accuracy(preds, outputs)\n",
        "# a = (test_loss_total.numpy() / X_train.shape[0])\n",
        "# print(X_train.shape[0])\n",
        "# print(test_loss_total.numpy())\n",
        "# print(b)\n",
        "print(\"For Fashion MNIST inference\\n\")\n",
        "print('Test categorical_cross_entropy: {:.4f}- Accuracy:={}'.format(np.sum(test_loss_total.numpy()) / X_train_fmnist.shape[0],(100-(np.abs(np.sum(np.abs(accuracy)))/accuracy.shape[0]))))"
      ],
      "metadata": {
        "colab": {
          "base_uri": "https://localhost:8080/"
        },
        "id": "jbbs1S3dUNUY",
        "outputId": "267acad6-2b66-4121-bed7-d0f7f6e5bcdd"
      },
      "execution_count": 139,
      "outputs": [
        {
          "output_type": "stream",
          "name": "stdout",
          "text": [
            "For Fashion MNIST inference\n",
            "\n",
            "Test categorical_cross_entropy: 1.8102- Accuracy:=99.95833333333333\n"
          ]
        }
      ]
    }
  ],
  "metadata": {
    "colab": {
      "collapsed_sections": [],
      "name": "IST597_MLP_tfv5097_assignment02.ipynb",
      "provenance": []
    },
    "kernelspec": {
      "display_name": "Python 3",
      "name": "python3"
    },
    "language_info": {
      "name": "python"
    },
    "accelerator": "GPU"
  },
  "nbformat": 4,
  "nbformat_minor": 0
}