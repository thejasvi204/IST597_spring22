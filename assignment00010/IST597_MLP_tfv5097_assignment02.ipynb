{
  "cells": [
    {
      "cell_type": "markdown",
      "source": [
        "##* Design MLP with 2 hidden layers (Input Layer - 2 hidden Layer - Output layer) to classify objects (fashionMNIST) and digits (MNIST).\n",
        "##* Design regularization approaches, and analyze drop/boost in performance of your model. Report results with atleast 2 regularization variants (droput, L1 penalty, L2, L1+L2, Normalization, Noise)\n",
        "\n",
        "#* tfv5097@psu.edu :Thejasvi Velaga"
      ],
      "metadata": {
        "id": "kkfX8FIJOHgb"
      }
    },
    {
      "cell_type": "code",
      "execution_count": 5,
      "metadata": {
        "colab": {
          "base_uri": "https://localhost:8080/"
        },
        "id": "mPN_DtXq9mns",
        "outputId": "39ad580b-f734-4918-d53a-cb7e4966c443"
      },
      "outputs": [
        {
          "output_type": "execute_result",
          "data": {
            "text/plain": [
              "[PhysicalDevice(name='/physical_device:GPU:0', device_type='GPU')]"
            ]
          },
          "metadata": {},
          "execution_count": 5
        }
      ],
      "source": [
        "# baseline cnn model for mnist\n",
        "import os\n",
        "import numpy as np\n",
        "import time\n",
        "import tensorflow as tf\n",
        "import matplotlib.pyplot as plt\n",
        "%matplotlib inline\n",
        "from tensorflow.keras.datasets import mnist\n",
        "from tensorflow.keras.datasets import fashion_mnist\n",
        "from tensorflow.keras.utils import to_categorical\n",
        "seed=5097\n",
        "np.random.seed(seed)\n",
        "tf.random.set_seed(seed)\n",
        "tf.config.list_physical_devices('GPU')"
      ]
    },
    {
      "cell_type": "code",
      "execution_count": 6,
      "metadata": {
        "id": "vtpOvonMQj0f"
      },
      "outputs": [],
      "source": [
        "# Constants \n",
        "size_input = 784\n",
        "size_hidden = [128,64]\n",
        "size_output = 10\n",
        "number_of_train_examples = 10000 #60000\n",
        "number_of_test_examples = 5000   #10000"
      ]
    },
    {
      "cell_type": "markdown",
      "source": [
        "## Load Dataset Function"
      ],
      "metadata": {
        "id": "bxKhx0c7PK2r"
      }
    },
    {
      "cell_type": "code",
      "execution_count": 7,
      "metadata": {
        "id": "D5VqKmW_Sdhg"
      },
      "outputs": [],
      "source": [
        "#To load the data set for mist and fashion mnist\n",
        "def load_dataset():\n",
        "\t# load dataset for mnist\n",
        "\t(trainX_mnist, trainY_mnist), (testX_mnist, testY_mnist) = mnist.load_data()\n",
        " #load dataset for fashion mnist\n",
        "\t(trainX_fmnist, trainY_fmnist), (testX_fmnist, testY_fmnist) = fashion_mnist.load_data()\n",
        "\n",
        "\t# one hot encode target values\n",
        "\ttrainY_mnist = to_categorical(trainY_mnist)\n",
        "\ttestY_mnist = to_categorical(testY_mnist)\n",
        " \n",
        "\ttrainY_fmnist = to_categorical(trainY_fmnist)\n",
        "\ttestY_fmnist = to_categorical(testY_fmnist)\n",
        " \n",
        "\treturn trainX_mnist, trainY_mnist, testX_mnist, testY_mnist,trainX_fmnist, trainY_fmnist, testX_fmnist, testY_fmnist\n"
      ]
    },
    {
      "cell_type": "markdown",
      "source": [
        "##Flatten,Normalize and Reduce data sets size function"
      ],
      "metadata": {
        "id": "dkwjTGt6PavV"
      }
    },
    {
      "cell_type": "code",
      "execution_count": 8,
      "metadata": {
        "id": "B2tvSWaK3uFO"
      },
      "outputs": [],
      "source": [
        "# flatten\n",
        "def flat(train_mnist,test_mnist,train_fmnist,test_fmnist):\n",
        "  train_x_flatten_mnist = train_mnist.reshape(train_mnist.shape[0],-1)#.T\n",
        "  test_x_flatten_mnist = test_mnist.reshape(test_mnist.shape[0],-1)#.T\n",
        "  train_x_flatten_fmnist=train_fmnist.reshape(train_fmnist.shape[0],-1)#.T\n",
        "  test_x_flatten_fmnist=test_fmnist.reshape(test_fmnist.shape[0],-1)#.T\n",
        "  return train_x_flatten_mnist, test_x_flatten_mnist,train_x_flatten_fmnist, test_x_flatten_fmnist\n"
      ]
    },
    {
      "cell_type": "code",
      "execution_count": 9,
      "metadata": {
        "id": "jdfYTUmC3w8U"
      },
      "outputs": [],
      "source": [
        "# scale pixels\n",
        "def normalize(train_mnist, test_mnist,train_fmnist,test_fmnist):\n",
        "\t# convert from integers to floats\n",
        "  train_norm_mnist = train_mnist.astype('float32')\n",
        "  test_norm_mnist = test_mnist.astype('float32')\n",
        "  \n",
        "  train_norm_fmnist = train_fmnist.astype('float32')\n",
        "  test_norm_fmnist = test_fmnist.astype('float32')\n",
        "\t# normalize to range 0-1\n",
        "  train_norm_mnist = train_norm_mnist / 255.0\n",
        "  test_norm_mnist = test_norm_mnist / 255.0\n",
        "\n",
        "  train_norm_fmnist = train_norm_fmnist / 255.0\n",
        "  test_norm_fmnist = test_norm_fmnist / 255.0\n",
        "\t# return normalized images\n",
        "  return train_norm_mnist, test_norm_mnist,train_norm_fmnist, test_norm_fmnist"
      ]
    },
    {
      "cell_type": "code",
      "execution_count": 10,
      "metadata": {
        "id": "L7QC03soMmLz"
      },
      "outputs": [],
      "source": [
        "def reducedatasets(trainX_mnist,trainY_mnist,testX_mnist,testY_mnist,trainX_fmnist,trainY_fmnist,testX_fmnist,testY_fmnist):\n",
        "  train_x_mnist = trainX_mnist[:number_of_train_examples, :]\n",
        "  test_x_mnist = testX_mnist[:number_of_test_examples, :]\n",
        "  train_y_mnist = trainY_mnist[:number_of_train_examples, :]\n",
        "  test_y_mnist = testY_mnist[:number_of_test_examples, :]\n",
        "  train_x_fmnist = trainX_fmnist[:number_of_train_examples, :]\n",
        "  test_x_fmnist = testX_fmnist[:number_of_test_examples, :]\n",
        "  train_y_fmnist = trainY_fmnist[:number_of_train_examples, :]\n",
        "  test_y_fmnist = testY_fmnist[:number_of_test_examples, :]\n",
        "  return train_x_mnist,train_y_mnist, test_x_mnist,test_y_mnist,train_x_fmnist,train_y_fmnist, test_x_fmnist,test_y_fmnist"
      ]
    },
    {
      "cell_type": "markdown",
      "source": [
        "## Load,FLatten and Normalize "
      ],
      "metadata": {
        "id": "N9dbbDSmPtmx"
      }
    },
    {
      "cell_type": "code",
      "execution_count": 11,
      "metadata": {
        "id": "-WKdR3GASjiu",
        "colab": {
          "base_uri": "https://localhost:8080/"
        },
        "outputId": "f7b1d9d8-27ef-4dde-d4fa-2c5b40a3caef"
      },
      "outputs": [
        {
          "output_type": "stream",
          "name": "stdout",
          "text": [
            "Downloading data from https://storage.googleapis.com/tensorflow/tf-keras-datasets/mnist.npz\n",
            "11493376/11490434 [==============================] - 0s 0us/step\n",
            "11501568/11490434 [==============================] - 0s 0us/step\n",
            "Downloading data from https://storage.googleapis.com/tensorflow/tf-keras-datasets/train-labels-idx1-ubyte.gz\n",
            "32768/29515 [=================================] - 0s 0us/step\n",
            "40960/29515 [=========================================] - 0s 0us/step\n",
            "Downloading data from https://storage.googleapis.com/tensorflow/tf-keras-datasets/train-images-idx3-ubyte.gz\n",
            "26427392/26421880 [==============================] - 0s 0us/step\n",
            "26435584/26421880 [==============================] - 0s 0us/step\n",
            "Downloading data from https://storage.googleapis.com/tensorflow/tf-keras-datasets/t10k-labels-idx1-ubyte.gz\n",
            "16384/5148 [===============================================================================================] - 0s 0us/step\n",
            "Downloading data from https://storage.googleapis.com/tensorflow/tf-keras-datasets/t10k-images-idx3-ubyte.gz\n",
            "4423680/4422102 [==============================] - 0s 0us/step\n",
            "4431872/4422102 [==============================] - 0s 0us/step\n"
          ]
        }
      ],
      "source": [
        "# loading mnist and fashion mnist and normalizing \n",
        "X_train_mnist, y_train_mnist, X_test_mnist, y_test_mnist,X_train_fmnist, y_train_fmnist, X_test_fmnist, y_test_fmnist = load_dataset()\n",
        "X_train_mnist, X_test_mnist,X_train_fmnist, X_test_fmnist = flat(X_train_mnist, X_test_mnist,X_train_fmnist, X_test_fmnist)\n",
        "X_train_mnist, X_test_mnist,X_train_fmnist, X_test_fmnist = normalize(X_train_mnist, X_test_mnist,X_train_fmnist, X_test_fmnist)"
      ]
    },
    {
      "cell_type": "code",
      "execution_count": 12,
      "metadata": {
        "id": "0J09SHcCMkX0"
      },
      "outputs": [],
      "source": [
        "# reducing training and testing sets \n",
        "X_train_mnist, y_train_mnist, X_test_mnist, y_test_mnist,X_train_fmnist, y_train_fmnist, X_test_fmnist, y_test_fmnist = reducedatasets(X_train_mnist, y_train_mnist, X_test_mnist, y_test_mnist,X_train_fmnist, y_train_fmnist, X_test_fmnist, y_test_fmnist)"
      ]
    },
    {
      "cell_type": "code",
      "execution_count": 13,
      "metadata": {
        "id": "jUqjbthWQpcn"
      },
      "outputs": [],
      "source": [
        "# Split dataset into batches for mnist and fashion mnist\n",
        "train_ds_mnist = tf.data.Dataset.from_tensor_slices((X_train_mnist, y_train_mnist)).batch(32)\n",
        "test_ds_mnist = tf.data.Dataset.from_tensor_slices((X_test_mnist, y_test_mnist)).batch(4)\n",
        "\n",
        "train_ds_fmnist = tf.data.Dataset.from_tensor_slices((X_train_fmnist, y_train_fmnist)).batch(32)\n",
        "test_ds_fmnist = tf.data.Dataset.from_tensor_slices((X_test_fmnist, y_test_fmnist)).batch(4)\n"
      ]
    },
    {
      "cell_type": "code",
      "execution_count": 54,
      "metadata": {
        "id": "eTNdGfElF3yt",
        "colab": {
          "base_uri": "https://localhost:8080/"
        },
        "outputId": "b8d641e8-fb82-4776-9576-ea92a03ee1a2"
      },
      "outputs": [
        {
          "output_type": "stream",
          "name": "stdout",
          "text": [
            " MNIST Dataset Shape:\n",
            "X_train-ds: <BatchDataset shapes: ((None, 784), (None, 10)), types: (tf.float32, tf.float32)>\n",
            "Y_train-ds: <BatchDataset shapes: ((None, 784), (None, 10)), types: (tf.float32, tf.float32)>\n",
            " fashion MNIST Dataset Shape:\n",
            "X_train-ds: <BatchDataset shapes: ((None, 784), (None, 10)), types: (tf.float32, tf.float32)>\n",
            "Y_train-ds: <BatchDataset shapes: ((None, 784), (None, 10)), types: (tf.float32, tf.float32)>\n"
          ]
        }
      ],
      "source": [
        "#Testing the mnist and fashion mnist loading\n",
        "print(' MNIST Dataset Shape:')\n",
        "print('X_train-ds: ' + str(train_ds_mnist))\n",
        "print('Y_train-ds: ' + str(test_ds_mnist))\n",
        "print(' fashion MNIST Dataset Shape:')\n",
        "print('X_train-ds: ' + str(train_ds_fmnist))\n",
        "print('Y_train-ds: ' + str(test_ds_fmnist))"
      ]
    },
    {
      "cell_type": "markdown",
      "metadata": {
        "id": "_70kdmB6sVbH"
      },
      "source": [
        "##**The below 3 blocks codes is on models without reguralization,with drop out reguralization and with L1 reguralization repesctively.**\n",
        "\n",
        "\n"
      ]
    },
    {
      "cell_type": "code",
      "execution_count": 14,
      "metadata": {
        "id": "nd7neF1BQpfu"
      },
      "outputs": [],
      "source": [
        "#without any regularization.\n",
        "class MLP(tf.keras.Model):\n",
        "  def __init__(self, size_input, size_hidden, size_output, device=None):\n",
        "    super(MLP, self).__init__()\n",
        "    \"\"\"\n",
        "    size_input: int, size of input layer\n",
        "    size_hidden: int, size of hidden layer\n",
        "    size_output: int, size of output layer\n",
        "    device: str or None, either 'cpu' or 'gpu' or None. If None, the device to be used will be decided automatically during Eager Execution\n",
        "    \"\"\"\n",
        "\n",
        "    # self.size_input = 784\n",
        "    # self.size_hidden = 128\n",
        "    # self.size_output = 10\n",
        "    # self.device = 'gpu'\n",
        "    self.size_input, self.size_hidden, self.size_output, self.device =\\\n",
        "    size_input, size_hidden, size_output, device\n",
        "    \n",
        "    \n",
        "    # Initialize weights between input layer and hidden layer\n",
        "    self.W1 = tf.Variable(tf.random.normal([self.size_input, self.size_hidden[0]]))\n",
        "    # Initialize biases for hidden layer\n",
        "    self.b1 = tf.Variable(tf.random.normal([1, self.size_hidden[0]]))\n",
        "\n",
        "    # Initialize weights between hidden layer and hideen layer\n",
        "    self.W2 = tf.Variable(tf.random.normal([self.size_hidden[0], self.size_hidden[1]]))\n",
        "    # Initialize biases for hidden layer\n",
        "    self.b2 = tf.Variable(tf.random.normal([1, self.size_hidden[1]]))\n",
        "\n",
        "    # Initialize weights between hidden layer and output layer\n",
        "    self.W3 = tf.Variable(tf.random.normal([self.size_hidden[1], self.size_output]))\n",
        "    # Initialize biases for output layer\n",
        "    self.b3 = tf.Variable(tf.random.normal([1, self.size_output]))\n",
        "    \n",
        "    # Define variables to be updated during backpropagation\n",
        "    #self.MLP_variables = [self.W1, self.W2,self.W3,self.W4, self.b1, self.b2, self.b3, self.b4]\n",
        "    self.MLP_variables = [self.W1, self.W2,self.W3, self.b1, self.b2, self.b3]\n",
        "    \n",
        "    \n",
        "  def forward(self, X):\n",
        "    \"\"\"\n",
        "    forward pass\n",
        "    X: Tensor, inputs\n",
        "    \"\"\"\n",
        "    if self.device is not None:\n",
        "      with tf.device('gpu:0' if self.device=='gpu' else 'cpu'):\n",
        "        self.y = self.compute_output(X)\n",
        "    else:\n",
        "      self.y = self.compute_output(X)\n",
        "      \n",
        "    return self.y\n",
        "  \n",
        "  def loss(self, y_pred, y_true):\n",
        "    '''\n",
        "    y_pred - Tensor of shape (batch_size, size_output)\n",
        "    y_true - Tensor of shape (batch_size, size_output)\n",
        "    '''\n",
        "    y_true_tf = tf.cast(tf.reshape(y_true, (-1, self.size_output)), dtype=tf.float32)\n",
        "    y_pred_tf = tf.cast(y_pred, dtype=tf.float32)\n",
        "\n",
        "    #categorical_cross_entropy = tf.keras.losses.CategoricalCrossentropy()\n",
        "    #return categorical_cross_entropy(y_true=y_true,y_pred=y_pred)\n",
        "    #return tf.keras.losses.sparse_categorical_crossentropy(y_true,y_pred)\n",
        "    #return tf.losses.mean_squared_error(y_true_tf, y_pred_tf)\n",
        "    return tf.nn.softmax_cross_entropy_with_logits(logits=y_pred,labels=y_true)\n",
        "  \n",
        "  def backward(self, X_train, y_train):\n",
        "    \"\"\"\n",
        "    backward pass\n",
        "    \"\"\"\n",
        "    #optimizer = tf.keras.optimizers.SGD(learning_rate=1e-4)\n",
        "    optimizer = tf.keras.optimizers.Adam()\n",
        "    #optimizer = tf.keras.optimizers.Adamax(learning_rate=1e-5)\n",
        "    with tf.GradientTape() as tape:\n",
        "      predicted = self.forward(X_train)\n",
        "      current_loss = self.loss(predicted, y_train)\n",
        "    grads = tape.gradient(current_loss, self.MLP_variables)\n",
        "    optimizer.apply_gradients(zip(grads, self.MLP_variables))\n",
        "        \n",
        "        \n",
        "  def compute_output(self, X):\n",
        "    \"\"\"\n",
        "    Custom method to obtain output tensor during forward pass\n",
        "    \"\"\"\n",
        "    # Cast X to float32\n",
        "    X_tf = tf.cast(X, dtype=tf.float32)\n",
        "    #Remember to normalize your dataset before moving forward\n",
        "    #X_tf=X_tf/255.0\n",
        "    # Compute values in hidden layer\n",
        "    what = tf.matmul(X_tf, self.W1) + self.b1\n",
        "    hhat = tf.nn.relu(what)\n",
        "\n",
        "\n",
        "    what1 = tf.matmul(hhat, self.W2) + self.b2\n",
        "    hhat1 = tf.nn.relu(what1)\n",
        "    # Compute output\n",
        "    output = tf.matmul(hhat1, self.W3) + self.b3\n",
        "    #Now consider two things , First look at inbuild loss functions if they work with softmax or not and then change this\n",
        "    #Second add tf.Softmax(output) and then return this variable\n",
        "    #output=tf.nn.softmax(output)\n",
        "    return output"
      ]
    },
    {
      "cell_type": "code",
      "source": [
        "#with drop out regularization.\n",
        "class MLP_Regdp(tf.keras.Model):\n",
        "  def __init__(self, size_input, size_hidden, size_output, device=None):\n",
        "    super(MLP_Regdp, self).__init__()\n",
        "    \"\"\"\n",
        "    size_input: int, size of input layer\n",
        "    size_hidden: int, size of hidden layer\n",
        "    size_output: int, size of output layer\n",
        "    device: str or None, either 'cpu' or 'gpu' or None. If None, the device to be used will be decided automatically during Eager Execution\n",
        "    \"\"\"\n",
        "\n",
        "    # self.size_input = 784\n",
        "    # self.size_hidden = 128\n",
        "    # self.size_output = 10\n",
        "    # self.device = 'gpu'\n",
        "    self.size_input, self.size_hidden, self.size_output, self.device =\\\n",
        "    size_input, size_hidden, size_output, device\n",
        "    \n",
        "    \n",
        "    # Initialize weights between input layer and hidden layer\n",
        "    self.W1 = tf.Variable(tf.random.normal([self.size_input, self.size_hidden[0]]))\n",
        "    # Initialize biases for hidden layer\n",
        "    self.b1 = tf.Variable(tf.random.normal([1, self.size_hidden[0]]))\n",
        "\n",
        "    # Initialize weights between hidden layer and hideen layer\n",
        "    self.W2 = tf.Variable(tf.random.normal([self.size_hidden[0], self.size_hidden[1]]))\n",
        "    # Initialize biases for hidden layer\n",
        "    self.b2 = tf.Variable(tf.random.normal([1, self.size_hidden[1]]))\n",
        "\n",
        "    # Initialize weights between hidden layer and output layer\n",
        "    self.W3 = tf.Variable(tf.random.normal([self.size_hidden[1], self.size_output]))\n",
        "    # Initialize biases for output layer\n",
        "    self.b3 = tf.Variable(tf.random.normal([1, self.size_output]))\n",
        "    \n",
        "    # Define variables to be updated during backpropagation\n",
        "    #self.MLP_variables = [self.W1, self.W2,self.W3,self.W4, self.b1, self.b2, self.b3, self.b4]\n",
        "    self.MLP_variables = [self.W1, self.W2,self.W3, self.b1, self.b2, self.b3]\n",
        "    \n",
        "    \n",
        "  def forward(self, X):\n",
        "    \"\"\"\n",
        "    forward pass\n",
        "    X: Tensor, inputs\n",
        "    \"\"\"\n",
        "    if self.device is not None:\n",
        "      with tf.device('gpu:0' if self.device=='gpu' else 'cpu'):\n",
        "        self.y = self.compute_output(X)\n",
        "    else:\n",
        "      self.y = self.compute_output(X)\n",
        "      \n",
        "    return self.y\n",
        "  \n",
        "  def loss(self, y_pred, y_true):\n",
        "    '''\n",
        "    y_pred - Tensor of shape (batch_size, size_output)\n",
        "    y_true - Tensor of shape (batch_size, size_output)\n",
        "    '''\n",
        "    y_true_tf = tf.cast(tf.reshape(y_true, (-1, self.size_output)), dtype=tf.float32)\n",
        "    y_pred_tf = tf.cast(y_pred, dtype=tf.float32)\n",
        "\n",
        "    #categorical_cross_entropy = tf.keras.losses.CategoricalCrossentropy()\n",
        "    #return categorical_cross_entropy(y_true=y_true,y_pred=y_pred)\n",
        "    #return tf.keras.losses.sparse_categorical_crossentropy(y_true,y_pred)\n",
        "    return tf.nn.softmax_cross_entropy_with_logits(logits=y_pred,labels=y_true)\n",
        "  \n",
        "  def backward(self, X_train, y_train):\n",
        "    \"\"\"\n",
        "    backward pass\n",
        "    \"\"\"\n",
        "    #optimizer = tf.keras.optimizers.SGD(learning_rate=1e-4)\n",
        "    optimizer = tf.keras.optimizers.Adam(learning_rate=1e-4)\n",
        "    #optimizer = tf.keras.optimizers.Adamax(learning_rate=1e-5)\n",
        "    with tf.GradientTape() as tape:\n",
        "      predicted = self.forward(X_train)\n",
        "      current_loss = self.loss(predicted, y_train)\n",
        "    grads = tape.gradient(current_loss, self.MLP_variables)\n",
        "    optimizer.apply_gradients(zip(grads, self.MLP_variables))\n",
        "        \n",
        "        \n",
        "  def compute_output(self, X):\n",
        "    \"\"\"\n",
        "    Custom method to obtain output tensor during forward pass\n",
        "    \"\"\"\n",
        "    # Cast X to float32\n",
        "    X_tf = tf.cast(X, dtype=tf.float32)\n",
        "    #Remember to normalize your dataset before moving forward\n",
        "    #X_tf=X_tf/255.0\n",
        "    # Compute values in hidden layer\n",
        "    what = tf.matmul(X_tf, self.W1) + self.b1\n",
        "    hhat = tf.nn.relu(what)\n",
        "    drop_out = tf.nn.dropout(hhat, 0.09)\n",
        "    what1 = tf.matmul(drop_out, self.W2) + self.b2\n",
        "    hhat1 = tf.nn.relu(what1)\n",
        "    drop_out1 = tf.nn.dropout(hhat1, 0.1)\n",
        "    # Compute output\n",
        "    #adding dropout\n",
        "    output = tf.matmul(drop_out1, self.W3) + self.b3\n",
        "    #Now consider two things , First look at inbuild loss functions if they work with softmax or not and then change this\n",
        "    #Second add tf.Softmax(output) and then return this variable\n",
        "    #output=tf.nn.softmax(output)\n",
        "    return output"
      ],
      "metadata": {
        "id": "eJvPuViuEYVT"
      },
      "execution_count": 15,
      "outputs": []
    },
    {
      "cell_type": "code",
      "source": [
        "#with L2  regularization.\n",
        "class MLP_RegL(tf.keras.Model):\n",
        "  def __init__(self, size_input, size_hidden, size_output, device=None):\n",
        "    super(MLP_RegL, self).__init__()\n",
        "    \"\"\"\n",
        "    size_input: int, size of input layer\n",
        "    size_hidden: int, size of hidden layer\n",
        "    size_output: int, size of output layer\n",
        "    device: str or None, either 'cpu' or 'gpu' or None. If None, the device to be used will be decided automatically during Eager Execution\n",
        "    \"\"\"\n",
        "\n",
        "    # self.size_input = 784\n",
        "    # self.size_hidden = 128\n",
        "    # self.size_output = 10\n",
        "    # self.device = 'gpu'\n",
        "    self.size_input, self.size_hidden, self.size_output, self.device =\\\n",
        "    size_input, size_hidden, size_output, device\n",
        "    \n",
        "    \n",
        "    # Initialize weights between input layer and hidden layer\n",
        "    self.W1 = tf.Variable(tf.random.normal([self.size_input, self.size_hidden[0]]))\n",
        "    # Initialize biases for hidden layer\n",
        "    self.b1 = tf.Variable(tf.random.normal([1, self.size_hidden[0]]))\n",
        "\n",
        "    # Initialize weights between hidden layer and hideen layer\n",
        "    self.W2 = tf.Variable(tf.random.normal([self.size_hidden[0], self.size_hidden[1]]))\n",
        "    # Initialize biases for hidden layer\n",
        "    self.b2 = tf.Variable(tf.random.normal([1, self.size_hidden[1]]))\n",
        "\n",
        "    # Initialize weights between hidden layer and output layer\n",
        "    self.W3 = tf.Variable(tf.random.normal([self.size_hidden[1], self.size_output]))\n",
        "    # Initialize biases for output layer\n",
        "    self.b3 = tf.Variable(tf.random.normal([1, self.size_output]))\n",
        "    \n",
        "    # Define variables to be updated during backpropagation\n",
        "    #self.MLP_variables = [self.W1, self.W2,self.W3,self.W4, self.b1, self.b2, self.b3, self.b4]\n",
        "    self.MLP_variables = [self.W1, self.W2,self.W3, self.b1, self.b2, self.b3]\n",
        "    \n",
        "    \n",
        "  def forward(self, X):\n",
        "    \"\"\"\n",
        "    forward pass\n",
        "    X: Tensor, inputs\n",
        "    \"\"\"\n",
        "    if self.device is not None:\n",
        "      with tf.device('gpu:0' if self.device=='gpu' else 'cpu'):\n",
        "        self.y = self.compute_output(X)\n",
        "    else:\n",
        "      self.y = self.compute_output(X)\n",
        "      \n",
        "    return self.y\n",
        "  \n",
        "  def loss(self, y_pred, y_true):\n",
        "    '''\n",
        "    y_pred - Tensor of shape (batch_size, size_output)\n",
        "    y_true - Tensor of shape (batch_size, size_output)\n",
        "    '''\n",
        "    y_true_tf = tf.cast(tf.reshape(y_true, (-1, self.size_output)), dtype=tf.float32)\n",
        "    y_pred_tf = tf.cast(y_pred, dtype=tf.float32)\n",
        "\n",
        "    #categorical_cross_entropy = tf.keras.losses.CategoricalCrossentropy()\n",
        "    #return categorical_cross_entropy(y_true=y_true,y_pred=y_pred) +0.01*tf.nn.l2_loss(self.W2) +0.01*tf.nn.l2_loss(self.W3)\n",
        "    #return tf.keras.losses.sparse_categorical_crossentropy(y_true,y_pred)\n",
        "    #return tf.losses.mean_squared_error(y_true_tf, y_pred_tf)\n",
        "    return tf.nn.softmax_cross_entropy_with_logits(logits=y_pred,labels=y_true)\n",
        "  \n",
        "  def backward(self, X_train, y_train):\n",
        "    \"\"\"\n",
        "    backward pass\n",
        "    \"\"\"\n",
        "    #optimizer = tf.keras.optimizers.SGD(learning_rate=1e-4)\n",
        "    optimizer = tf.keras.optimizers.Adam()\n",
        "    #optimizer = tf.keras.optimizers.Adamax(learning_rate=1e-5)\n",
        "    with tf.GradientTape() as tape:\n",
        "      predicted = self.forward(X_train)\n",
        "      current_loss = self.loss(predicted, y_train)\n",
        "    grads = tape.gradient(current_loss, self.MLP_variables)\n",
        "    optimizer.apply_gradients(zip(grads, self.MLP_variables))\n",
        "        \n",
        "        \n",
        "  def compute_output(self, X):\n",
        "    \"\"\"\n",
        "    Custom method to obtain output tensor during forward pass\n",
        "    \"\"\"\n",
        "    # Cast X to float32\n",
        "    X_tf = tf.cast(X, dtype=tf.float32)\n",
        "    #Remember to normalize your dataset before moving forward\n",
        "    # Compute values in hidden layer\n",
        "    what = tf.matmul(X_tf, self.W1) + self.b1\n",
        "    hhat = tf.nn.relu(what)\n",
        "\n",
        "\n",
        "    what1 = tf.matmul(hhat, self.W2) + self.b2\n",
        "    hhat1 = tf.nn.relu(what1)\n",
        "    # Compute output\n",
        "    output = tf.matmul(hhat1, self.W3) + self.b3\n",
        "    #Now consider two things , First look at inbuild loss functions if they work with softmax or not and then change this\n",
        "    #Second add tf.Softmax(output) and then return this variable\n",
        "    #output=tf.nn.softmax(output)\n",
        "    return output"
      ],
      "metadata": {
        "id": "Qj-G4mz_FXhC"
      },
      "execution_count": 16,
      "outputs": []
    },
    {
      "cell_type": "code",
      "execution_count": 17,
      "metadata": {
        "id": "n9w8SJ9Xf-qT"
      },
      "outputs": [],
      "source": [
        "# Set number of epochs\n",
        "NUM_EPOCHS = 10\n",
        "iterations=[1,2,3,4,5,6,7,8,9,10]"
      ]
    },
    {
      "cell_type": "markdown",
      "metadata": {
        "id": "JRCVni6FsF3j"
      },
      "source": [
        "##**The below 3 blocks codes is on MNIST without reguralization,with drop out reguralization and with L1 reguralization repesctively.**"
      ]
    },
    {
      "cell_type": "code",
      "execution_count": 18,
      "metadata": {
        "colab": {
          "base_uri": "https://localhost:8080/",
          "height": 429
        },
        "id": "ih59_ZCl9D07",
        "outputId": "60dd6ad8-5b45-4423-f347-233b4784f709"
      },
      "outputs": [
        {
          "output_type": "stream",
          "name": "stdout",
          "text": [
            "For MNIST GPU without Reguralization\n",
            "\n"
          ]
        },
        {
          "output_type": "error",
          "ename": "KeyboardInterrupt",
          "evalue": "ignored",
          "traceback": [
            "\u001b[0;31m---------------------------------------------------------------------------\u001b[0m",
            "\u001b[0;31mKeyboardInterrupt\u001b[0m                         Traceback (most recent call last)",
            "\u001b[0;32m<ipython-input-18-810f4109f541>\u001b[0m in \u001b[0;36m<module>\u001b[0;34m()\u001b[0m\n\u001b[1;32m     23\u001b[0m   \u001b[0mtest_ds_mnist\u001b[0m \u001b[0;34m=\u001b[0m \u001b[0mtf\u001b[0m\u001b[0;34m.\u001b[0m\u001b[0mdata\u001b[0m\u001b[0;34m.\u001b[0m\u001b[0mDataset\u001b[0m\u001b[0;34m.\u001b[0m\u001b[0mfrom_tensor_slices\u001b[0m\u001b[0;34m(\u001b[0m\u001b[0;34m(\u001b[0m\u001b[0mX_test_mnist\u001b[0m\u001b[0;34m,\u001b[0m \u001b[0my_test_mnist\u001b[0m\u001b[0;34m)\u001b[0m\u001b[0;34m)\u001b[0m\u001b[0;34m.\u001b[0m\u001b[0mshuffle\u001b[0m\u001b[0;34m(\u001b[0m\u001b[0;36m25\u001b[0m\u001b[0;34m,\u001b[0m \u001b[0mseed\u001b[0m\u001b[0;34m=\u001b[0m\u001b[0mepoch\u001b[0m\u001b[0;34m*\u001b[0m\u001b[0;34m(\u001b[0m\u001b[0mseed\u001b[0m\u001b[0;34m)\u001b[0m\u001b[0;34m)\u001b[0m\u001b[0;34m.\u001b[0m\u001b[0mbatch\u001b[0m\u001b[0;34m(\u001b[0m\u001b[0;36m100\u001b[0m\u001b[0;34m)\u001b[0m\u001b[0;34m\u001b[0m\u001b[0;34m\u001b[0m\u001b[0m\n\u001b[1;32m     24\u001b[0m   \u001b[0;32mfor\u001b[0m \u001b[0minputs\u001b[0m\u001b[0;34m,\u001b[0m \u001b[0moutputs\u001b[0m \u001b[0;32min\u001b[0m \u001b[0mtrain_ds_mnist\u001b[0m\u001b[0;34m:\u001b[0m\u001b[0;34m\u001b[0m\u001b[0;34m\u001b[0m\u001b[0m\n\u001b[0;32m---> 25\u001b[0;31m     \u001b[0mpreds\u001b[0m \u001b[0;34m=\u001b[0m \u001b[0mmlp_on_gpu\u001b[0m\u001b[0;34m.\u001b[0m\u001b[0mforward\u001b[0m\u001b[0;34m(\u001b[0m\u001b[0minputs\u001b[0m\u001b[0;34m)\u001b[0m\u001b[0;34m\u001b[0m\u001b[0;34m\u001b[0m\u001b[0m\n\u001b[0m\u001b[1;32m     26\u001b[0m     \u001b[0mloss_total_gpu\u001b[0m \u001b[0;34m=\u001b[0m \u001b[0mloss_total_gpu\u001b[0m \u001b[0;34m+\u001b[0m \u001b[0mmlp_on_gpu\u001b[0m\u001b[0;34m.\u001b[0m\u001b[0mloss\u001b[0m\u001b[0;34m(\u001b[0m\u001b[0mpreds\u001b[0m\u001b[0;34m,\u001b[0m \u001b[0moutputs\u001b[0m\u001b[0;34m)\u001b[0m\u001b[0;34m\u001b[0m\u001b[0;34m\u001b[0m\u001b[0m\n\u001b[1;32m     27\u001b[0m     \u001b[0mlt\u001b[0m \u001b[0;34m=\u001b[0m \u001b[0mlt\u001b[0m \u001b[0;34m+\u001b[0m \u001b[0mmlp_on_gpu\u001b[0m\u001b[0;34m.\u001b[0m\u001b[0mloss\u001b[0m\u001b[0;34m(\u001b[0m\u001b[0mpreds\u001b[0m\u001b[0;34m,\u001b[0m \u001b[0moutputs\u001b[0m\u001b[0;34m)\u001b[0m\u001b[0;34m\u001b[0m\u001b[0;34m\u001b[0m\u001b[0m\n",
            "\u001b[0;32m<ipython-input-14-a784a940b933>\u001b[0m in \u001b[0;36mforward\u001b[0;34m(self, X)\u001b[0m\n\u001b[1;32m     44\u001b[0m     \u001b[0;32mif\u001b[0m \u001b[0mself\u001b[0m\u001b[0;34m.\u001b[0m\u001b[0mdevice\u001b[0m \u001b[0;32mis\u001b[0m \u001b[0;32mnot\u001b[0m \u001b[0;32mNone\u001b[0m\u001b[0;34m:\u001b[0m\u001b[0;34m\u001b[0m\u001b[0;34m\u001b[0m\u001b[0m\n\u001b[1;32m     45\u001b[0m       \u001b[0;32mwith\u001b[0m \u001b[0mtf\u001b[0m\u001b[0;34m.\u001b[0m\u001b[0mdevice\u001b[0m\u001b[0;34m(\u001b[0m\u001b[0;34m'gpu:0'\u001b[0m \u001b[0;32mif\u001b[0m \u001b[0mself\u001b[0m\u001b[0;34m.\u001b[0m\u001b[0mdevice\u001b[0m\u001b[0;34m==\u001b[0m\u001b[0;34m'gpu'\u001b[0m \u001b[0;32melse\u001b[0m \u001b[0;34m'cpu'\u001b[0m\u001b[0;34m)\u001b[0m\u001b[0;34m:\u001b[0m\u001b[0;34m\u001b[0m\u001b[0;34m\u001b[0m\u001b[0m\n\u001b[0;32m---> 46\u001b[0;31m         \u001b[0mself\u001b[0m\u001b[0;34m.\u001b[0m\u001b[0my\u001b[0m \u001b[0;34m=\u001b[0m \u001b[0mself\u001b[0m\u001b[0;34m.\u001b[0m\u001b[0mcompute_output\u001b[0m\u001b[0;34m(\u001b[0m\u001b[0mX\u001b[0m\u001b[0;34m)\u001b[0m\u001b[0;34m\u001b[0m\u001b[0;34m\u001b[0m\u001b[0m\n\u001b[0m\u001b[1;32m     47\u001b[0m     \u001b[0;32melse\u001b[0m\u001b[0;34m:\u001b[0m\u001b[0;34m\u001b[0m\u001b[0;34m\u001b[0m\u001b[0m\n\u001b[1;32m     48\u001b[0m       \u001b[0mself\u001b[0m\u001b[0;34m.\u001b[0m\u001b[0my\u001b[0m \u001b[0;34m=\u001b[0m \u001b[0mself\u001b[0m\u001b[0;34m.\u001b[0m\u001b[0mcompute_output\u001b[0m\u001b[0;34m(\u001b[0m\u001b[0mX\u001b[0m\u001b[0;34m)\u001b[0m\u001b[0;34m\u001b[0m\u001b[0;34m\u001b[0m\u001b[0m\n",
            "\u001b[0;32m<ipython-input-14-a784a940b933>\u001b[0m in \u001b[0;36mcompute_output\u001b[0;34m(self, X)\u001b[0m\n\u001b[1;32m     87\u001b[0m     \u001b[0;31m#X_tf=X_tf/255.0\u001b[0m\u001b[0;34m\u001b[0m\u001b[0;34m\u001b[0m\u001b[0;34m\u001b[0m\u001b[0m\n\u001b[1;32m     88\u001b[0m     \u001b[0;31m# Compute values in hidden layer\u001b[0m\u001b[0;34m\u001b[0m\u001b[0;34m\u001b[0m\u001b[0;34m\u001b[0m\u001b[0m\n\u001b[0;32m---> 89\u001b[0;31m     \u001b[0mwhat\u001b[0m \u001b[0;34m=\u001b[0m \u001b[0mtf\u001b[0m\u001b[0;34m.\u001b[0m\u001b[0mmatmul\u001b[0m\u001b[0;34m(\u001b[0m\u001b[0mX_tf\u001b[0m\u001b[0;34m,\u001b[0m \u001b[0mself\u001b[0m\u001b[0;34m.\u001b[0m\u001b[0mW1\u001b[0m\u001b[0;34m)\u001b[0m \u001b[0;34m+\u001b[0m \u001b[0mself\u001b[0m\u001b[0;34m.\u001b[0m\u001b[0mb1\u001b[0m\u001b[0;34m\u001b[0m\u001b[0;34m\u001b[0m\u001b[0m\n\u001b[0m\u001b[1;32m     90\u001b[0m     \u001b[0mhhat\u001b[0m \u001b[0;34m=\u001b[0m \u001b[0mtf\u001b[0m\u001b[0;34m.\u001b[0m\u001b[0mnn\u001b[0m\u001b[0;34m.\u001b[0m\u001b[0mrelu\u001b[0m\u001b[0;34m(\u001b[0m\u001b[0mwhat\u001b[0m\u001b[0;34m)\u001b[0m\u001b[0;34m\u001b[0m\u001b[0;34m\u001b[0m\u001b[0m\n\u001b[1;32m     91\u001b[0m \u001b[0;34m\u001b[0m\u001b[0m\n",
            "\u001b[0;32m/usr/local/lib/python3.7/dist-packages/tensorflow/python/util/traceback_utils.py\u001b[0m in \u001b[0;36merror_handler\u001b[0;34m(*args, **kwargs)\u001b[0m\n\u001b[1;32m    148\u001b[0m     \u001b[0mfiltered_tb\u001b[0m \u001b[0;34m=\u001b[0m \u001b[0;32mNone\u001b[0m\u001b[0;34m\u001b[0m\u001b[0;34m\u001b[0m\u001b[0m\n\u001b[1;32m    149\u001b[0m     \u001b[0;32mtry\u001b[0m\u001b[0;34m:\u001b[0m\u001b[0;34m\u001b[0m\u001b[0;34m\u001b[0m\u001b[0m\n\u001b[0;32m--> 150\u001b[0;31m       \u001b[0;32mreturn\u001b[0m \u001b[0mfn\u001b[0m\u001b[0;34m(\u001b[0m\u001b[0;34m*\u001b[0m\u001b[0margs\u001b[0m\u001b[0;34m,\u001b[0m \u001b[0;34m**\u001b[0m\u001b[0mkwargs\u001b[0m\u001b[0;34m)\u001b[0m\u001b[0;34m\u001b[0m\u001b[0;34m\u001b[0m\u001b[0m\n\u001b[0m\u001b[1;32m    151\u001b[0m     \u001b[0;32mexcept\u001b[0m \u001b[0mException\u001b[0m \u001b[0;32mas\u001b[0m \u001b[0me\u001b[0m\u001b[0;34m:\u001b[0m\u001b[0;34m\u001b[0m\u001b[0;34m\u001b[0m\u001b[0m\n\u001b[1;32m    152\u001b[0m       \u001b[0mfiltered_tb\u001b[0m \u001b[0;34m=\u001b[0m \u001b[0m_process_traceback_frames\u001b[0m\u001b[0;34m(\u001b[0m\u001b[0me\u001b[0m\u001b[0;34m.\u001b[0m\u001b[0m__traceback__\u001b[0m\u001b[0;34m)\u001b[0m\u001b[0;34m\u001b[0m\u001b[0;34m\u001b[0m\u001b[0m\n",
            "\u001b[0;32m/usr/local/lib/python3.7/dist-packages/tensorflow/python/util/dispatch.py\u001b[0m in \u001b[0;36mop_dispatch_handler\u001b[0;34m(*args, **kwargs)\u001b[0m\n\u001b[1;32m   1094\u001b[0m       \u001b[0;31m# Fallback dispatch system (dispatch v1):\u001b[0m\u001b[0;34m\u001b[0m\u001b[0;34m\u001b[0m\u001b[0;34m\u001b[0m\u001b[0m\n\u001b[1;32m   1095\u001b[0m       \u001b[0;32mtry\u001b[0m\u001b[0;34m:\u001b[0m\u001b[0;34m\u001b[0m\u001b[0;34m\u001b[0m\u001b[0m\n\u001b[0;32m-> 1096\u001b[0;31m         \u001b[0;32mreturn\u001b[0m \u001b[0mdispatch_target\u001b[0m\u001b[0;34m(\u001b[0m\u001b[0;34m*\u001b[0m\u001b[0margs\u001b[0m\u001b[0;34m,\u001b[0m \u001b[0;34m**\u001b[0m\u001b[0mkwargs\u001b[0m\u001b[0;34m)\u001b[0m\u001b[0;34m\u001b[0m\u001b[0;34m\u001b[0m\u001b[0m\n\u001b[0m\u001b[1;32m   1097\u001b[0m       \u001b[0;32mexcept\u001b[0m \u001b[0;34m(\u001b[0m\u001b[0mTypeError\u001b[0m\u001b[0;34m,\u001b[0m \u001b[0mValueError\u001b[0m\u001b[0;34m)\u001b[0m\u001b[0;34m:\u001b[0m\u001b[0;34m\u001b[0m\u001b[0;34m\u001b[0m\u001b[0m\n\u001b[1;32m   1098\u001b[0m         \u001b[0;31m# Note: convert_to_eager_tensor currently raises a ValueError, not a\u001b[0m\u001b[0;34m\u001b[0m\u001b[0;34m\u001b[0m\u001b[0;34m\u001b[0m\u001b[0m\n",
            "\u001b[0;32m/usr/local/lib/python3.7/dist-packages/tensorflow/python/ops/math_ops.py\u001b[0m in \u001b[0;36mmatmul\u001b[0;34m(a, b, transpose_a, transpose_b, adjoint_a, adjoint_b, a_is_sparse, b_is_sparse, output_type, name)\u001b[0m\n\u001b[1;32m   3699\u001b[0m       \u001b[0;32melse\u001b[0m\u001b[0;34m:\u001b[0m\u001b[0;34m\u001b[0m\u001b[0;34m\u001b[0m\u001b[0m\n\u001b[1;32m   3700\u001b[0m         return gen_math_ops.mat_mul(\n\u001b[0;32m-> 3701\u001b[0;31m             a, b, transpose_a=transpose_a, transpose_b=transpose_b, name=name)\n\u001b[0m\u001b[1;32m   3702\u001b[0m \u001b[0;34m\u001b[0m\u001b[0m\n\u001b[1;32m   3703\u001b[0m \u001b[0;34m\u001b[0m\u001b[0m\n",
            "\u001b[0;32m/usr/local/lib/python3.7/dist-packages/tensorflow/python/ops/gen_math_ops.py\u001b[0m in \u001b[0;36mmat_mul\u001b[0;34m(a, b, transpose_a, transpose_b, name)\u001b[0m\n\u001b[1;32m   6013\u001b[0m       _result = pywrap_tfe.TFE_Py_FastPathExecute(\n\u001b[1;32m   6014\u001b[0m         \u001b[0m_ctx\u001b[0m\u001b[0;34m,\u001b[0m \u001b[0;34m\"MatMul\"\u001b[0m\u001b[0;34m,\u001b[0m \u001b[0mname\u001b[0m\u001b[0;34m,\u001b[0m \u001b[0ma\u001b[0m\u001b[0;34m,\u001b[0m \u001b[0mb\u001b[0m\u001b[0;34m,\u001b[0m \u001b[0;34m\"transpose_a\"\u001b[0m\u001b[0;34m,\u001b[0m \u001b[0mtranspose_a\u001b[0m\u001b[0;34m,\u001b[0m \u001b[0;34m\"transpose_b\"\u001b[0m\u001b[0;34m,\u001b[0m\u001b[0;34m\u001b[0m\u001b[0;34m\u001b[0m\u001b[0m\n\u001b[0;32m-> 6015\u001b[0;31m         transpose_b)\n\u001b[0m\u001b[1;32m   6016\u001b[0m       \u001b[0;32mreturn\u001b[0m \u001b[0m_result\u001b[0m\u001b[0;34m\u001b[0m\u001b[0;34m\u001b[0m\u001b[0m\n\u001b[1;32m   6017\u001b[0m     \u001b[0;32mexcept\u001b[0m \u001b[0m_core\u001b[0m\u001b[0;34m.\u001b[0m\u001b[0m_NotOkStatusException\u001b[0m \u001b[0;32mas\u001b[0m \u001b[0me\u001b[0m\u001b[0;34m:\u001b[0m\u001b[0;34m\u001b[0m\u001b[0;34m\u001b[0m\u001b[0m\n",
            "\u001b[0;31mKeyboardInterrupt\u001b[0m: "
          ]
        }
      ],
      "source": [
        "# Initialize model using GPU for mnist with out regularization train set\n",
        "#mlp_on_gpu = MLP()\n",
        "mlp_on_gpu = MLP(size_input, size_hidden, size_output, device='gpu')\n",
        "time_start = time.time()\n",
        "acce_mnist_train=[]\n",
        "acce_mnist_test=[]\n",
        "#\n",
        "#mnist_acc=[]\n",
        "#mnist_rdp_acc=[]\n",
        "#mnist_rl_acc=[]\n",
        "#fmnist_acc=[]\n",
        "#fmnist_rdp_acc=[]\n",
        "#fmnist_rl_acc=[]\n",
        "\n",
        "print(\"For MNIST GPU without Reguralization\\n\")\n",
        "for epoch in range(NUM_EPOCHS):\n",
        "  loss_total_gpu = tf.zeros([1,1], dtype=tf.float32)\n",
        "  loss_total_gpu_test = tf.zeros([1,1], dtype=tf.float32)\n",
        "  lt = 0\n",
        "  accuracy_train=0\n",
        "  accuracy_test=0\n",
        "  train_ds_mnist = tf.data.Dataset.from_tensor_slices((X_train_mnist, y_train_mnist)).shuffle(25, seed=epoch*(seed)).batch(100)\n",
        "  test_ds_mnist = tf.data.Dataset.from_tensor_slices((X_test_mnist, y_test_mnist)).shuffle(25, seed=epoch*(seed)).batch(100)\n",
        "  for inputs, outputs in train_ds_mnist:\n",
        "    preds = mlp_on_gpu.forward(inputs)\n",
        "    loss_total_gpu = loss_total_gpu + mlp_on_gpu.loss(preds, outputs)\n",
        "    lt = lt + mlp_on_gpu.loss(preds, outputs)\n",
        "    mlp_on_gpu.backward(inputs, outputs)\n",
        "    accuracy_train=tf.keras.metrics.CategoricalAccuracy()\n",
        "    accuracy_train.update_state(preds, outputs)\n",
        "  for inputs, outputs in test_ds_mnist:\n",
        "    preds = mlp_on_gpu.forward(inputs)\n",
        "    loss_total_gpu_test = loss_total_gpu_test + mlp_on_gpu.loss(preds, outputs)\n",
        "    lt = lt + mlp_on_gpu.loss(preds, outputs)\n",
        "    mlp_on_gpu.backward(inputs, outputs)\n",
        "    accuracy_test=tf.keras.metrics.CategoricalAccuracy()\n",
        "    accuracy_test.update_state(preds, outputs)\n",
        "  acce_mnist_train.append(np.sum(loss_total_gpu) / X_train_mnist.shape[0])\n",
        "  acce_mnist_test.append(np.sum(loss_total_gpu_test) / X_test_mnist.shape[0])\n",
        "  print('Number of Epoch = {} - Average MSE:= {} - accuracy:={}'.format(epoch + 1, np.sum(loss_total_gpu) / X_train_mnist.shape[0],accuracy_train.result()*100))\n",
        "\n",
        "time_taken = time.time() - time_start\n",
        "print('\\nTotal time taken (in seconds): {:.2f}'.format(time_taken))"
      ]
    },
    {
      "cell_type": "code",
      "execution_count": 60,
      "metadata": {
        "id": "Ro0m8_Nhfv_G",
        "colab": {
          "base_uri": "https://localhost:8080/"
        },
        "outputId": "f7f41ac6-b447-45ec-f460-9fb04022dd70"
      },
      "outputs": [
        {
          "output_type": "stream",
          "name": "stdout",
          "text": [
            "For MNIST GPU with Reguralization Drop Out\n",
            "\n",
            "Number of Epoch = 1 - Average MSE:= 594.74455 - accuracy:=10.0\n",
            "Number of Epoch = 2 - Average MSE:= 433.8414 - accuracy:=10.0\n",
            "Number of Epoch = 3 - Average MSE:= 338.642525 - accuracy:=13.0\n",
            "Number of Epoch = 4 - Average MSE:= 273.909075 - accuracy:=23.0\n",
            "Number of Epoch = 5 - Average MSE:= 226.582575 - accuracy:=30.000001907348633\n",
            "Number of Epoch = 6 - Average MSE:= 192.5428375 - accuracy:=30.000001907348633\n",
            "Number of Epoch = 7 - Average MSE:= 167.68 - accuracy:=36.0\n",
            "Number of Epoch = 8 - Average MSE:= 143.9419625 - accuracy:=37.0\n",
            "Number of Epoch = 9 - Average MSE:= 129.1663625 - accuracy:=43.0\n",
            "Number of Epoch = 10 - Average MSE:= 115.063 - accuracy:=52.0\n",
            "\n",
            "Total time taken (in seconds): 50.65\n"
          ]
        }
      ],
      "source": [
        "# Initialize model using GPU for mnist with  regularization drop out\n",
        "#mlp_on_gpu = MLP()\n",
        "mlp_on_gpu = MLP_Regdp(size_input, size_hidden, size_output, device='gpu')\n",
        "time_start = time.time()\n",
        "acce_mnist_train_rdp=[]\n",
        "acce_mnist_test_rdp=[]\n",
        "print(\"For MNIST GPU with Reguralization Drop Out\\n\")\n",
        "for epoch in range(NUM_EPOCHS):\n",
        "  loss_total_gpu = tf.zeros([1,1], dtype=tf.float32)\n",
        "  loss_total_gpu_test = tf.zeros([1,1], dtype=tf.float32)\n",
        "  lt = 0\n",
        "  accuracy_train=0\n",
        "  accuracy_test=0\n",
        "  train_ds_mnist = tf.data.Dataset.from_tensor_slices((X_train_mnist, y_train_mnist)).shuffle(25, seed=epoch*(seed)).batch(100)\n",
        "  test_ds_mnist = tf.data.Dataset.from_tensor_slices((X_test_mnist, y_test_mnist)).shuffle(25, seed=epoch*(seed)).batch(100)\n",
        "  for inputs, outputs in train_ds_mnist:\n",
        "    preds = mlp_on_gpu.forward(inputs)\n",
        "    loss_total_gpu = loss_total_gpu + mlp_on_gpu.loss(preds, outputs)\n",
        "    lt = lt + mlp_on_gpu.loss(preds, outputs)\n",
        "    mlp_on_gpu.backward(inputs, outputs)\n",
        "    accuracy_train=tf.keras.metrics.CategoricalAccuracy()\n",
        "    accuracy_train.update_state(preds, outputs)\n",
        "  for inputs, outputs in test_ds_mnist:\n",
        "    preds = mlp_on_gpu.forward(inputs)\n",
        "    loss_total_gpu_test = loss_total_gpu_test + mlp_on_gpu.loss(preds, outputs)\n",
        "    lt = lt + mlp_on_gpu.loss(preds, outputs)\n",
        "    mlp_on_gpu.backward(inputs, outputs)\n",
        "    accuracy_test=tf.keras.metrics.CategoricalAccuracy()\n",
        "    accuracy_test.update_state(preds, outputs)\n",
        "  acce_mnist_test_rdp.append(np.sum(loss_total_gpu_test) / X_test_mnist.shape[0])\n",
        "  acce_mnist_train_rdp.append(np.sum(loss_total_gpu) / X_train_mnist.shape[0])\n",
        "  print('Number of Epoch = {} - Average MSE:= {} - accuracy:={}'.format(epoch + 1, np.sum(loss_total_gpu) / X_train_mnist.shape[0],accuracy_train.result()*100))\n",
        "time_taken = time.time() - time_start\n",
        "\n",
        "print('\\nTotal time taken (in seconds): {:.2f}'.format(time_taken))"
      ]
    },
    {
      "cell_type": "code",
      "execution_count": 70,
      "metadata": {
        "id": "ffJW_D6arbXZ",
        "colab": {
          "base_uri": "https://localhost:8080/"
        },
        "outputId": "d7c4441a-da3b-47a5-e8d1-611355ebb85a"
      },
      "outputs": [
        {
          "output_type": "stream",
          "name": "stdout",
          "text": [
            "For MNIST GPU with Reguralization L2\n",
            "\n",
            "Number of Epoch = 1 - Average MSE:= 242.0144 - accuracy:=54.000003814697266\n",
            "Number of Epoch = 2 - Average MSE:= 52.194359375 - accuracy:=74.0\n",
            "Number of Epoch = 3 - Average MSE:= 31.284428125 - accuracy:=82.0\n",
            "Number of Epoch = 4 - Average MSE:= 22.8519421875 - accuracy:=82.0\n",
            "Number of Epoch = 5 - Average MSE:= 18.1411578125 - accuracy:=85.0\n",
            "Number of Epoch = 6 - Average MSE:= 15.0861265625 - accuracy:=84.0\n",
            "Number of Epoch = 7 - Average MSE:= 12.8523640625 - accuracy:=87.0\n",
            "Number of Epoch = 8 - Average MSE:= 11.223075 - accuracy:=89.0\n",
            "Number of Epoch = 9 - Average MSE:= 9.93979921875 - accuracy:=89.0\n",
            "Number of Epoch = 10 - Average MSE:= 8.868803125 - accuracy:=91.0\n",
            "\n",
            "Total time taken (in seconds): 33.55\n"
          ]
        }
      ],
      "source": [
        "# Initialize model using GPU for mnist with  regularization L2 train set\n",
        "#mlp_on_gpu = MLP()\n",
        "mlp_on_gpu = MLP_RegL(size_input, size_hidden, size_output, device='gpu')\n",
        "time_start = time.time()\n",
        "acce_mnist_train_rl=[]\n",
        "acce_mnist_test_rl=[]\n",
        "print(\"For MNIST GPU with Reguralization L2\\n\")\n",
        "for epoch in range(NUM_EPOCHS):\n",
        "  loss_total_gpu = tf.zeros([1,1], dtype=tf.float32)\n",
        "  loss_total_gpu_test = tf.zeros([1,1], dtype=tf.float32)\n",
        "  accuracy_train=0\n",
        "  accuracy_test=0\n",
        "  lt = 0\n",
        "  train_ds_mnist = tf.data.Dataset.from_tensor_slices((X_train_mnist, y_train_mnist)).shuffle(25, seed=epoch*(seed)).batch(100)\n",
        "  test_ds_mnist = tf.data.Dataset.from_tensor_slices((X_test_mnist, y_test_mnist)).shuffle(25, seed=epoch*(seed)).batch(100)\n",
        "  for inputs, outputs in train_ds_mnist:\n",
        "    preds = mlp_on_gpu.forward(inputs)\n",
        "    loss_total_gpu = loss_total_gpu + mlp_on_gpu.loss(preds, outputs)\n",
        "    lt = lt + mlp_on_gpu.loss(preds, outputs)\n",
        "    mlp_on_gpu.backward(inputs, outputs)\n",
        "    accuracy_train=tf.keras.metrics.CategoricalAccuracy()\n",
        "    accuracy_train.update_state(preds, outputs)\n",
        "  for inputs, outputs in test_ds_mnist:\n",
        "    preds = mlp_on_gpu.forward(inputs)\n",
        "    loss_total_gpu_test = loss_total_gpu_test + mlp_on_gpu.loss(preds, outputs)\n",
        "    lt = lt + mlp_on_gpu.loss(preds, outputs)\n",
        "    mlp_on_gpu.backward(inputs, outputs)\n",
        "    accuracy_test=tf.keras.metrics.CategoricalAccuracy()\n",
        "    accuracy_test.update_state(preds, outputs)\n",
        "  acce_mnist_test_rl.append(np.sum(loss_total_gpu_test) / X_test_mnist.shape[0])\n",
        "  acce_mnist_train_rl.append(np.sum(loss_total_gpu) / X_train_mnist.shape[0])\n",
        "  print('Number of Epoch = {} - Average MSE:= {} - accuracy:={}'.format(epoch + 1, np.sum(loss_total_gpu) / X_train_mnist.shape[0],accuracy_train.result()*100))\n",
        "time_taken = time.time() - time_start\n",
        "\n",
        "print('\\nTotal time taken (in seconds): {:.2f}'.format(time_taken))"
      ]
    },
    {
      "cell_type": "markdown",
      "metadata": {
        "id": "BnVFo00CrlMV"
      },
      "source": [
        "##**The below 3 blocks codes is on fashion MNIST without reguralization,with drop out reguralization and with L1 reguralization repesctively.**\n",
        "\n"
      ]
    },
    {
      "cell_type": "code",
      "execution_count": 62,
      "metadata": {
        "id": "dGG7huxA9HQU",
        "colab": {
          "base_uri": "https://localhost:8080/"
        },
        "outputId": "bcb20e12-7e12-4222-b4c2-ab32497b6dd5"
      },
      "outputs": [
        {
          "output_type": "stream",
          "name": "stdout",
          "text": [
            "For Fashion MNIST GPU without Reguralization\n",
            "\n",
            "Number of Epoch = 1 - Average MSE:= 218.11915 - accuracy:=52.999996185302734\n",
            "Number of Epoch = 2 - Average MSE:= 45.406275 - accuracy:=71.0\n",
            "Number of Epoch = 3 - Average MSE:= 32.71001875 - accuracy:=76.0\n",
            "Number of Epoch = 4 - Average MSE:= 26.7339375 - accuracy:=78.0\n",
            "Number of Epoch = 5 - Average MSE:= 22.5340953125 - accuracy:=79.0\n",
            "Number of Epoch = 6 - Average MSE:= 19.5037953125 - accuracy:=83.0\n",
            "Number of Epoch = 7 - Average MSE:= 17.31175625 - accuracy:=82.0\n",
            "Number of Epoch = 8 - Average MSE:= 15.584646875 - accuracy:=81.0\n",
            "Number of Epoch = 9 - Average MSE:= 14.3008125 - accuracy:=81.0\n",
            "Number of Epoch = 10 - Average MSE:= 13.1633609375 - accuracy:=84.0\n",
            "\n",
            "Total time taken (in seconds): 35.13\n"
          ]
        }
      ],
      "source": [
        "# Initialize model using GPU for fashion mnist without reguralization\n",
        "#mlp_on_gpu = MLP()\n",
        "mlp_on_gpu = MLP(size_input, size_hidden, size_output, device='gpu')\n",
        "time_start = time.time()\n",
        "print(\"For Fashion MNIST GPU without Reguralization\\n\")\n",
        "acce_fmnist_train=[]\n",
        "acce_fmnist_test=[]\n",
        "for epoch in range(NUM_EPOCHS):\n",
        "  loss_total_gpu = tf.zeros([1,1], dtype=tf.float32)\n",
        "  loss_total_gpu_test = tf.zeros([1,1], dtype=tf.float32)\n",
        "  accuracy_train=0\n",
        "  accuracy_test=0\n",
        "  lt = 0\n",
        "  train_ds_fmnist = tf.data.Dataset.from_tensor_slices((X_train_fmnist, y_train_fmnist)).shuffle(25, seed=epoch*(seed)).batch(100)\n",
        "  test_ds_fmnist = tf.data.Dataset.from_tensor_slices((X_test_fmnist, y_test_fmnist)).shuffle(25, seed=epoch*(seed)).batch(100)\n",
        "  for inputs, outputs in train_ds_fmnist:\n",
        "    preds = mlp_on_gpu.forward(inputs)\n",
        "    loss_total_gpu = loss_total_gpu + mlp_on_gpu.loss(preds, outputs)\n",
        "    lt = lt + mlp_on_gpu.loss(preds, outputs)\n",
        "    mlp_on_gpu.backward(inputs, outputs)\n",
        "    accuracy_train=tf.keras.metrics.CategoricalAccuracy()\n",
        "    accuracy_train.update_state(preds, outputs)\n",
        "  for inputs, outputs in test_ds_fmnist:\n",
        "    preds = mlp_on_gpu.forward(inputs)\n",
        "    loss_total_gpu_test = loss_total_gpu_test + mlp_on_gpu.loss(preds, outputs)\n",
        "    lt = lt + mlp_on_gpu.loss(preds, outputs)\n",
        "    mlp_on_gpu.backward(inputs, outputs)\n",
        "    accuracy_test=tf.keras.metrics.CategoricalAccuracy()\n",
        "    accuracy_test.update_state(preds, outputs)\n",
        "  acce_fmnist_test.append(np.sum(loss_total_gpu_test) / X_test_fmnist.shape[0])\n",
        "  acce_fmnist_train.append(np.sum(loss_total_gpu) / X_train_fmnist.shape[0])\n",
        "  print('Number of Epoch = {} - Average MSE:= {} - accuracy:={}'.format(epoch + 1, np.sum(loss_total_gpu) / X_train_fmnist.shape[0],accuracy_train.result()*100))\n",
        "time_taken = time.time() - time_start\n",
        "\n",
        "print('\\nTotal time taken (in seconds): {:.2f}'.format(time_taken))"
      ]
    },
    {
      "cell_type": "code",
      "execution_count": 63,
      "metadata": {
        "id": "i6o4XZ3CqfK5",
        "colab": {
          "base_uri": "https://localhost:8080/"
        },
        "outputId": "2f4542f4-b3ba-4050-bea7-b59ce6edf604"
      },
      "outputs": [
        {
          "output_type": "stream",
          "name": "stdout",
          "text": [
            "For Fashion MNIST GPU with Reguralization Drop Out\n",
            "\n",
            "Number of Epoch = 1 - Average MSE:= 655.23305 - accuracy:=18.0\n",
            "Number of Epoch = 2 - Average MSE:= 337.312325 - accuracy:=22.0\n",
            "Number of Epoch = 3 - Average MSE:= 214.7288 - accuracy:=32.0\n",
            "Number of Epoch = 4 - Average MSE:= 165.274325 - accuracy:=33.0\n",
            "Number of Epoch = 5 - Average MSE:= 133.0852 - accuracy:=37.0\n",
            "Number of Epoch = 6 - Average MSE:= 109.980425 - accuracy:=31.0\n",
            "Number of Epoch = 7 - Average MSE:= 96.49328125 - accuracy:=41.0\n",
            "Number of Epoch = 8 - Average MSE:= 84.92806875 - accuracy:=41.0\n",
            "Number of Epoch = 9 - Average MSE:= 79.16851875 - accuracy:=48.0\n",
            "Number of Epoch = 10 - Average MSE:= 70.5855375 - accuracy:=46.0\n",
            "\n",
            "Total time taken (in seconds): 36.73\n"
          ]
        }
      ],
      "source": [
        "# Initialize model using GPU for  fashion mnist with  regularization drop out\n",
        "#mlp_on_gpu = MLP()\n",
        "mlp_on_gpu = MLP_Regdp(size_input, size_hidden, size_output, device='gpu')\n",
        "time_start = time.time()\n",
        "acce_fmnist_train_rdp=[]\n",
        "acce_fmnist_test_rdp=[]\n",
        "print(\"For Fashion MNIST GPU with Reguralization Drop Out\\n\")\n",
        "for epoch in range(NUM_EPOCHS):\n",
        "  loss_total_gpu = tf.zeros([1,1], dtype=tf.float32)\n",
        "  loss_total_gpu_test = tf.zeros([1,1], dtype=tf.float32)\n",
        "  accuracy_train=0\n",
        "  accuracy_test=0\n",
        "  lt = 0\n",
        "  train_ds_fmnist = tf.data.Dataset.from_tensor_slices((X_train_fmnist, y_train_fmnist)).shuffle(25, seed=epoch*(seed)).batch(100)\n",
        "  test_ds_fmnist = tf.data.Dataset.from_tensor_slices((X_test_fmnist, y_test_fmnist)).shuffle(25, seed=epoch*(seed)).batch(100)\n",
        "  for inputs, outputs in train_ds_fmnist:\n",
        "    preds = mlp_on_gpu.forward(inputs)\n",
        "    loss_total_gpu = loss_total_gpu + mlp_on_gpu.loss(preds, outputs)\n",
        "    lt = lt + mlp_on_gpu.loss(preds, outputs)\n",
        "    mlp_on_gpu.backward(inputs, outputs)\n",
        "    accuracy_train=tf.keras.metrics.CategoricalAccuracy()\n",
        "    accuracy_train.update_state(preds, outputs)\n",
        "  for inputs, outputs in test_ds_fmnist:\n",
        "    preds = mlp_on_gpu.forward(inputs)\n",
        "    loss_total_gpu_test = loss_total_gpu_test + mlp_on_gpu.loss(preds, outputs)\n",
        "    lt = lt + mlp_on_gpu.loss(preds, outputs)\n",
        "    mlp_on_gpu.backward(inputs, outputs)\n",
        "    accuracy_test=tf.keras.metrics.CategoricalAccuracy()\n",
        "    accuracy_test.update_state(preds, outputs)\n",
        "  acce_fmnist_test_rdp.append(np.sum(loss_total_gpu_test) / X_test_fmnist.shape[0])\n",
        "  acce_fmnist_train_rdp.append(np.sum(loss_total_gpu) / X_train_fmnist.shape[0])\n",
        "  print('Number of Epoch = {} - Average MSE:= {} - accuracy:={}'.format(epoch + 1, np.sum(loss_total_gpu) / X_train_fmnist.shape[0],accuracy_train.result()*100))\n",
        "time_taken = time.time() - time_start\n",
        "\n",
        "print('\\nTotal time taken (in seconds): {:.2f}'.format(time_taken))"
      ]
    },
    {
      "cell_type": "code",
      "execution_count": 67,
      "metadata": {
        "id": "xO9iOMm8qz1D",
        "colab": {
          "base_uri": "https://localhost:8080/"
        },
        "outputId": "506cb3a2-64e8-47e4-87f1-032bf2b15a37"
      },
      "outputs": [
        {
          "output_type": "stream",
          "name": "stdout",
          "text": [
            "For Fashion MNIST GPU with Reguralization L2\n",
            "\n",
            "Number of Epoch = 1 - Average MSE:= 699.37335 - accuracy:=15.000000953674316\n",
            "Number of Epoch = 2 - Average MSE:= 114.7851875 - accuracy:=33.0\n",
            "Number of Epoch = 3 - Average MSE:= 70.5197875 - accuracy:=56.0\n",
            "Number of Epoch = 4 - Average MSE:= 57.0548 - accuracy:=60.000003814697266\n",
            "Number of Epoch = 5 - Average MSE:= 49.40276875 - accuracy:=68.0\n",
            "Number of Epoch = 6 - Average MSE:= 44.38815 - accuracy:=68.0\n",
            "Number of Epoch = 7 - Average MSE:= 40.46281875 - accuracy:=66.0\n",
            "Number of Epoch = 8 - Average MSE:= 37.2806375 - accuracy:=64.0\n",
            "Number of Epoch = 9 - Average MSE:= 35.302290625 - accuracy:=66.0\n",
            "Number of Epoch = 10 - Average MSE:= 33.37825625 - accuracy:=67.0\n",
            "\n",
            "Total time taken (in seconds): 21.24\n"
          ]
        }
      ],
      "source": [
        "# Initialize model using GPU for  fashion mnist with  regularization L2\n",
        "#mlp_on_gpu = MLP()\n",
        "mlp_on_gpu = MLP_RegL(size_input, size_hidden, size_output, device='gpu')\n",
        "time_start = time.time()\n",
        "print(\"For Fashion MNIST GPU with Reguralization L2\\n\")\n",
        "acce_fmnist_train_rl=[]\n",
        "acce_fmnist_test_rl=[]\n",
        "for epoch in range(NUM_EPOCHS):\n",
        "  loss_total_gpu = tf.zeros([1,1], dtype=tf.float32)\n",
        "  loss_total_gpu_test = tf.zeros([1,1], dtype=tf.float32)\n",
        "  accuracy_train=0\n",
        "  accuracy_test=0\n",
        "  lt = 0\n",
        "  train_ds_fmnist = tf.data.Dataset.from_tensor_slices((X_train_fmnist, y_train_fmnist)).shuffle(25, seed=epoch*(seed)).batch(100)\n",
        "  test_ds_fmnist = tf.data.Dataset.from_tensor_slices((X_test_fmnist, y_test_fmnist)).shuffle(25, seed=epoch*(seed)).batch(100)\n",
        "  for inputs, outputs in train_ds_fmnist:\n",
        "    preds = mlp_on_gpu.forward(inputs)\n",
        "    loss_total_gpu = loss_total_gpu + mlp_on_gpu.loss(preds, outputs)\n",
        "    lt = lt + mlp_on_gpu.loss(preds, outputs)\n",
        "    accuracy_train=tf.keras.metrics.CategoricalAccuracy()\n",
        "    accuracy_train.update_state(preds, outputs)\n",
        "  for inputs, outputs in test_ds_fmnist:\n",
        "    preds = mlp_on_gpu.forward(inputs)\n",
        "    loss_total_gpu_test = loss_total_gpu_test + mlp_on_gpu.loss(preds, outputs)\n",
        "    lt = lt + mlp_on_gpu.loss(preds, outputs)\n",
        "    mlp_on_gpu.backward(inputs, outputs)\n",
        "    accuracy_test=tf.keras.metrics.CategoricalAccuracy()\n",
        "    accuracy_test.update_state(preds, outputs)\n",
        "  acce_fmnist_test_rl.append(np.sum(loss_total_gpu_test) / X_test_fmnist.shape[0])\n",
        "  acce_fmnist_train_rl.append(np.sum(loss_total_gpu) / X_train_fmnist.shape[0])\n",
        "  print('Number of Epoch = {} - Average MSE:= {} - accuracy:={}'.format(epoch + 1, np.sum(loss_total_gpu) / X_train_fmnist.shape[0],accuracy_train.result()*100))\n",
        "time_taken = time.time() - time_start\n",
        "\n",
        "print('\\nTotal time taken (in seconds): {:.2f}'.format(time_taken))"
      ]
    },
    {
      "cell_type": "markdown",
      "source": [
        "##Plotting for MNIST for 3 models"
      ],
      "metadata": {
        "id": "-Dmt9Qu3QI5K"
      }
    },
    {
      "cell_type": "code",
      "source": [
        "# Plot learning curve (with errors)\n",
        "errors = np.squeeze(acce_mnist_train)\n",
        "errors_rdp = np.squeeze(acce_mnist_train_rdp)\n",
        "errors_rl = np.squeeze(acce_mnist_train_rl)\n",
        "plt.plot(iterations,errors,label ='MNIST')\n",
        "plt.plot(iterations,errors_rdp,label ='MNIST drop out')\n",
        "plt.plot(iterations,errors_rl,label ='MNIST L2')\n",
        "plt.ylabel('errors')\n",
        "plt.xlabel('iterations ')\n",
        "plt.title(\"MNIST 3 models\")\n",
        "plt.legend()\n",
        "plt.show()"
      ],
      "metadata": {
        "id": "r3aM-WJbQMD0",
        "colab": {
          "base_uri": "https://localhost:8080/",
          "height": 295
        },
        "outputId": "efea9f72-27c5-4f8c-b8c1-536c06649afb"
      },
      "execution_count": 65,
      "outputs": [
        {
          "output_type": "display_data",
          "data": {
            "image/png": "[encoded data removed]",
            "text/plain": [
              "<Figure size 432x288 with 1 Axes>"
            ]
          },
          "metadata": {
            "needs_background": "light"
          }
        }
      ]
    },
    {
      "cell_type": "markdown",
      "source": [
        "##Error Plot for MNIST (Train VS Test)"
      ],
      "metadata": {
        "id": "zdXHHyU_7i6E"
      }
    },
    {
      "cell_type": "code",
      "source": [
        "# Plot learning curve (with errors)\n",
        "errors_train = np.squeeze(acce_mnist_train)\n",
        "errors_test = np.squeeze(acce_mnist_test)\n",
        "errors_train_rdp = np.squeeze(acce_mnist_train_rdp)\n",
        "errors_test_rdp = np.squeeze(acce_mnist_test_rdp)\n",
        "errors_train_rl = np.squeeze(acce_mnist_train_rl)\n",
        "errors_test_rl = np.squeeze(acce_mnist_test_rl)\n",
        "plt.plot(iterations,errors_train,label ='MNIST Train error')\n",
        "plt.plot(iterations,errors_test,label ='MNIST Test error')\n",
        "plt.plot(iterations,errors_train_rdp,label ='MNIST Drop Out Train error')\n",
        "plt.plot(iterations,errors_test_rdp,label ='MNIST Drop OutTest error')\n",
        "plt.plot(iterations,errors_train_rl,label ='MNIST L2 Train error')\n",
        "plt.plot(iterations,errors_test_rl,label ='MNIST L2 Test error')\n",
        "plt.ylabel('errors')\n",
        "plt.xlabel('iterations ')\n",
        "plt.title(\"MNIST Training Errors VS Testing Errors\")\n",
        "plt.legend()\n",
        "plt.show()"
      ],
      "metadata": {
        "colab": {
          "base_uri": "https://localhost:8080/",
          "height": 295
        },
        "id": "1ouwqp25saME",
        "outputId": "f19cea80-85f9-4ce7-f68c-34636e734bb9"
      },
      "execution_count": 71,
      "outputs": [
        {
          "output_type": "display_data",
          "data": {
            "image/png": "[encoded data removed]",
            "text/plain": [
              "<Figure size 432x288 with 1 Axes>"
            ]
          },
          "metadata": {
            "needs_background": "light"
          }
        }
      ]
    },
    {
      "cell_type": "markdown",
      "source": [
        "##Plotting for fashion MNIST for 3 models"
      ],
      "metadata": {
        "id": "OuZRkLeKaMNy"
      }
    },
    {
      "cell_type": "code",
      "source": [
        "# Plot learning curve (with errors)\n",
        "errors = np.squeeze(acce_fmnist_train)\n",
        "errors_rdp = np.squeeze(acce_fmnist_train_rdp)\n",
        "errors_rl = np.squeeze(acce_fmnist_train_rl)\n",
        "plt.plot(iterations,errors,label='Fashion MNIST')\n",
        "plt.plot(iterations,errors_rdp,label='Fashion MNIST drop out')\n",
        "plt.plot(iterations,errors_rl,label='Fashion MNIST L2')\n",
        "plt.ylabel('errors')\n",
        "plt.xlabel('iterations ')\n",
        "plt.title(\"Fashion MNIST\")\n",
        "plt.legend()\n",
        "plt.show()"
      ],
      "metadata": {
        "id": "-uwKg3QDaD2y",
        "colab": {
          "base_uri": "https://localhost:8080/",
          "height": 295
        },
        "outputId": "558f8a96-203d-44b4-e4e8-370c31b07dbd"
      },
      "execution_count": 68,
      "outputs": [
        {
          "output_type": "display_data",
          "data": {
            "image/png": "[encoded data removed]",
            "text/plain": [
              "<Figure size 432x288 with 1 Axes>"
            ]
          },
          "metadata": {
            "needs_background": "light"
          }
        }
      ]
    },
    {
      "cell_type": "markdown",
      "source": [
        "## Error Plot for fashion MNIST(train VS Test)"
      ],
      "metadata": {
        "id": "suc3tLtm88u5"
      }
    },
    {
      "cell_type": "code",
      "source": [
        "# Plot learning curve (with errors)\n",
        "errors_train = np.squeeze(acce_fmnist_train)\n",
        "errors_test = np.squeeze(acce_fmnist_test)\n",
        "errors_train_rdp = np.squeeze(acce_fmnist_train_rdp)\n",
        "errors_test_rdp = np.squeeze(acce_fmnist_test_rdp)\n",
        "errors_train_rl = np.squeeze(acce_fmnist_train_rl)\n",
        "errors_test_rl = np.squeeze(acce_fmnist_test_rl)\n",
        "plt.plot(iterations,errors_train,label ='Fashion MNIST Train error')\n",
        "plt.plot(iterations,errors_test,label ='Fashion MNIST Test error')\n",
        "plt.plot(iterations,errors_train_rdp,label ='Fashion MNIST Drop Out Train error')\n",
        "plt.plot(iterations,errors_test_rdp,label ='Fashion MNIST Drop OutTest error')\n",
        "plt.plot(iterations,errors_train_rl,label ='Fashion MNIST L2 Train error')\n",
        "plt.plot(iterations,errors_test_rl,label ='Fashion MNIST L2 Test error')\n",
        "plt.ylabel('errors')\n",
        "plt.xlabel('iterations ')\n",
        "plt.title(\"Fashion MNIST Training Errors VS Testing Errors\")\n",
        "plt.legend()\n",
        "plt.show()"
      ],
      "metadata": {
        "colab": {
          "base_uri": "https://localhost:8080/",
          "height": 295
        },
        "id": "Pd8KMttv9D8j",
        "outputId": "cae33e61-8fdb-4bed-8f10-cf688c91a3bc"
      },
      "execution_count": 69,
      "outputs": [
        {
          "output_type": "display_data",
          "data": {
            "image/png": "[encoded data removed]",
            "text/plain": [
              "<Figure size 432x288 with 1 Axes>"
            ]
          },
          "metadata": {
            "needs_background": "light"
          }
        }
      ]
    },
    {
      "cell_type": "markdown",
      "metadata": {
        "id": "aiORnznaqvsU"
      },
      "source": [
        "## One Step Inference\n",
        "## Default Mode for MNIST"
      ]
    },
    {
      "cell_type": "code",
      "source": [
        "print(\"For MNIST inference\\n\")\n",
        "#list to store inferences of test for 10 seeds\n",
        "inference_mnist=[]\n",
        "inference_mnist_rdp=[]\n",
        "inference_mnist_rl=[]\n",
        "inference_fmnist=[]\n",
        "inference_fmnist_rdp=[]\n",
        "inference_fmnist_rl=[]\n",
        "##accuracy\n",
        "inference_mnist_acc=[]\n",
        "inference_mnist_rdp_acc=[]\n",
        "inference_mnist_rl_acc=[]\n",
        "inference_fmnist_acc=[]\n",
        "inference_fmnist_rdp_acc=[]\n",
        "inference_fmnist_rl_acc=[]\n",
        "\n",
        "Inferences_seeds=[5097,1111,1234,5678,199991,99999,3421,6642,8754,3454444]\n",
        "#Default mode\n",
        "mlp_on_default = MLP(size_input, size_hidden, size_output)\n",
        "#Default mode for L2 reguralization\n",
        "mlp_on_default_l = MLP_RegL(size_input, size_hidden, size_output)\n",
        "#Default mode for drop out\n",
        "mlp_on_default_dp = MLP_Regdp(size_input, size_hidden, size_output)\n",
        "test_loss_total = tf.Variable(0, dtype=tf.float32)\n",
        "for seed in Inferences_seeds:\n",
        "  print(\"For seed:{}\\n\".format(seed))\n",
        "  # Test DS for MNIST \n",
        "  test_ds_mnist = tf.data.Dataset.from_tensor_slices((X_test_mnist, y_test_mnist)).shuffle(25, seed=epoch*(seed)).batch(100)\n",
        "  #MNIST\n",
        "  test_loss_total = 0.0\n",
        "  accuracy=0\n",
        "  for inputs, outputs in test_ds_mnist:\n",
        "    preds = mlp_on_default.forward(inputs)\n",
        "    #b = mlp_on_default.loss(preds, outputs)\n",
        "    test_loss_total = test_loss_total + mlp_on_default.loss(preds, outputs)\n",
        "    accuracy=tf.keras.metrics.CategoricalAccuracy()\n",
        "    accuracy.update_state(preds, outputs)\n",
        "  inference_mnist.append(np.sum(test_loss_total.numpy()) / X_test_mnist.shape[0])\n",
        "  inference_mnist_acc.append(accuracy.result()*100)\n",
        "  print('Test MSE: {:.4f}- Accuracy:={}'.format(np.sum(test_loss_total.numpy()) / X_test_mnist.shape[0],accuracy.result()*100))\n",
        "  test_loss_total = 0.0\n",
        "  accuracy=0\n",
        "  for inputs, outputs in test_ds_mnist:\n",
        "    preds = mlp_on_default_dp.forward(inputs)\n",
        "    #b = mlp_on_default.loss(preds, outputs)\n",
        "    test_loss_total = test_loss_total + mlp_on_default_dp.loss(preds, outputs)\n",
        "    accuracy=tf.keras.metrics.CategoricalAccuracy()\n",
        "    accuracy.update_state(preds, outputs)\n",
        "  inference_mnist_rdp.append(np.sum(test_loss_total.numpy()) / X_test_mnist.shape[0])\n",
        "  inference_mnist_rdp_acc.append(accuracy.result()*100)\n",
        "  print('Drop out Test MSE: {:.4f}- Accuracy:={}'.format(np.sum(test_loss_total.numpy()) / X_test_mnist.shape[0],accuracy.result()*100))\n",
        "  test_loss_total = 0.0\n",
        "  accuracy=0\n",
        "  for inputs, outputs in test_ds_mnist:\n",
        "    preds = mlp_on_default_l.forward(inputs)\n",
        "    #b = mlp_on_default.loss(preds, outputs)\n",
        "    test_loss_total = test_loss_total + mlp_on_default_l.loss(preds, outputs)\n",
        "    accuracy=tf.keras.metrics.CategoricalAccuracy()\n",
        "    accuracy.update_state(preds, outputs)\n",
        "  inference_mnist_rl.append(np.sum(test_loss_total.numpy()) / X_test_mnist.shape[0])\n",
        "  inference_mnist_rl_acc.append(accuracy.result()*100)\n",
        "  print('L2Test MSE: {:.4f}- Accuracy:={}'.format(np.sum(test_loss_total.numpy()) / X_test_mnist.shape[0],accuracy.result()*100))\n",
        "  print(\"\\n\")"
      ],
      "metadata": {
        "id": "v50dIkY6RaNt",
        "colab": {
          "base_uri": "https://localhost:8080/"
        },
        "outputId": "d303f35a-e51f-4937-d69d-fb07245f00c5"
      },
      "execution_count": 19,
      "outputs": [
        {
          "output_type": "stream",
          "name": "stdout",
          "text": [
            "For MNIST inference\n",
            "\n",
            "For seed:5097\n",
            "\n",
            "Test MSE: 560.5309- Accuracy:=10.0\n",
            "Drop out Test MSE: 512.6189- Accuracy:=12.0\n",
            "L2Test MSE: 1104.2846- Accuracy:=10.0\n",
            "\n",
            "\n",
            "For seed:1111\n",
            "\n",
            "Test MSE: 560.5309- Accuracy:=10.0\n",
            "Drop out Test MSE: 515.2714- Accuracy:=14.0\n",
            "L2Test MSE: 1104.2846- Accuracy:=10.0\n",
            "\n",
            "\n",
            "For seed:1234\n",
            "\n",
            "Test MSE: 560.5309- Accuracy:=10.0\n",
            "Drop out Test MSE: 505.5651- Accuracy:=17.0\n",
            "L2Test MSE: 1104.2846- Accuracy:=10.0\n",
            "\n",
            "\n",
            "For seed:5678\n",
            "\n",
            "Test MSE: 560.5309- Accuracy:=10.0\n",
            "Drop out Test MSE: 509.4269- Accuracy:=9.0\n",
            "L2Test MSE: 1104.2846- Accuracy:=10.0\n",
            "\n",
            "\n",
            "For seed:199991\n",
            "\n",
            "Test MSE: 560.5309- Accuracy:=10.0\n",
            "Drop out Test MSE: 514.7587- Accuracy:=13.0\n",
            "L2Test MSE: 1104.2846- Accuracy:=10.0\n",
            "\n",
            "\n",
            "For seed:99999\n",
            "\n",
            "Test MSE: 560.5309- Accuracy:=10.0\n",
            "Drop out Test MSE: 505.6617- Accuracy:=12.0\n",
            "L2Test MSE: 1104.2846- Accuracy:=10.0\n",
            "\n",
            "\n",
            "For seed:3421\n",
            "\n",
            "Test MSE: 560.5309- Accuracy:=10.0\n",
            "Drop out Test MSE: 515.3543- Accuracy:=9.0\n",
            "L2Test MSE: 1104.2846- Accuracy:=10.0\n",
            "\n",
            "\n",
            "For seed:6642\n",
            "\n",
            "Test MSE: 560.5309- Accuracy:=10.0\n",
            "Drop out Test MSE: 513.0756- Accuracy:=13.0\n",
            "L2Test MSE: 1104.2846- Accuracy:=10.0\n",
            "\n",
            "\n",
            "For seed:8754\n",
            "\n",
            "Test MSE: 560.5309- Accuracy:=10.0\n",
            "Drop out Test MSE: 514.7971- Accuracy:=13.0\n",
            "L2Test MSE: 1104.2846- Accuracy:=10.0\n",
            "\n",
            "\n",
            "For seed:3454444\n",
            "\n",
            "Test MSE: 560.5309- Accuracy:=10.0\n",
            "Drop out Test MSE: 510.4228- Accuracy:=14.0\n",
            "L2Test MSE: 1104.2846- Accuracy:=10.0\n",
            "\n",
            "\n"
          ]
        }
      ]
    },
    {
      "cell_type": "code",
      "source": [
        "print(\"For Fashion MNIST inference\\n\")\n",
        "for seed in Inferences_seeds:\n",
        "  print(\"For seed:{}\\n\".format(seed))\n",
        "  # Test DS for MNIST \n",
        "  test_ds_fmnist = tf.data.Dataset.from_tensor_slices((X_test_fmnist, y_test_fmnist)).shuffle(25, seed=epoch*(seed)).batch(100)\n",
        "  #MNIST\n",
        "  test_loss_total = 0.0\n",
        "  accuracy=0\n",
        "  for inputs, outputs in test_ds_fmnist:\n",
        "    preds = mlp_on_default.forward(inputs)\n",
        "    #b = mlp_on_default.loss(preds, outputs)\n",
        "    test_loss_total = test_loss_total + mlp_on_default.loss(preds, outputs)\n",
        "    accuracy=tf.keras.metrics.CategoricalAccuracy()\n",
        "    accuracy.update_state(preds, outputs)\n",
        "  inference_fmnist.append(np.sum(test_loss_total.numpy()) / X_test_fmnist.shape[0])\n",
        "  inference_fmnist_acc.append(accuracy.result()*100)\n",
        "  print('Test MSE: {:.4f}- Accuracy:={}'.format(np.sum(test_loss_total.numpy()) / X_test_fmnist.shape[0],accuracy.result()*100))\n",
        "  test_loss_total = 0.0\n",
        "  accuracy=0\n",
        "  for inputs, outputs in test_ds_fmnist:\n",
        "    preds = mlp_on_default_dp.forward(inputs)\n",
        "    #b = mlp_on_default.loss(preds, outputs)\n",
        "    test_loss_total = test_loss_total + mlp_on_default_dp.loss(preds, outputs)\n",
        "    accuracy=tf.keras.metrics.CategoricalAccuracy()\n",
        "    accuracy.update_state(preds, outputs)\n",
        "  inference_fmnist_rdp.append(np.sum(test_loss_total.numpy()) / X_test_fmnist.shape[0])\n",
        "  inference_fmnist_rdp_acc.append(accuracy.result()*100)\n",
        "  print('Drop out Test MSE: {:.4f}- Accuracy:={}'.format(np.sum(test_loss_total.numpy()) / X_test_fmnist.shape[0],accuracy.result()*100))\n",
        "  test_loss_total = 0.0\n",
        "  accuracy=0\n",
        "  for inputs, outputs in test_ds_fmnist:\n",
        "    preds = mlp_on_default_l.forward(inputs)\n",
        "    #b = mlp_on_default.loss(preds, outputs)\n",
        "    test_loss_total = test_loss_total + mlp_on_default_l.loss(preds, outputs)\n",
        "    accuracy=tf.keras.metrics.CategoricalAccuracy()\n",
        "    accuracy.update_state(preds, outputs)\n",
        "  inference_fmnist_rl.append(np.sum(test_loss_total.numpy()) / X_test_fmnist.shape[0])\n",
        "  inference_fmnist_rl_acc.append(accuracy.result()*100)\n",
        "  print('L2Test MSE: {:.4f}- Accuracy:={}'.format(np.sum(test_loss_total.numpy()) / X_test_fmnist.shape[0],accuracy.result()*100))\n",
        "  print(\"\\n\")"
      ],
      "metadata": {
        "id": "KwzW_lbsZSDY",
        "colab": {
          "base_uri": "https://localhost:8080/"
        },
        "outputId": "6337a384-062c-49d1-9740-070212de3b08"
      },
      "execution_count": 20,
      "outputs": [
        {
          "output_type": "stream",
          "name": "stdout",
          "text": [
            "For Fashion MNIST inference\n",
            "\n",
            "For seed:5097\n",
            "\n",
            "Test MSE: 721.9364- Accuracy:=0.0\n",
            "Drop out Test MSE: 849.7916- Accuracy:=10.0\n",
            "L2Test MSE: 1372.9331- Accuracy:=15.000000953674316\n",
            "\n",
            "\n",
            "For seed:1111\n",
            "\n",
            "Test MSE: 721.9364- Accuracy:=0.0\n",
            "Drop out Test MSE: 854.6885- Accuracy:=10.0\n",
            "L2Test MSE: 1372.9331- Accuracy:=15.000000953674316\n",
            "\n",
            "\n",
            "For seed:1234\n",
            "\n",
            "Test MSE: 721.9364- Accuracy:=0.0\n",
            "Drop out Test MSE: 852.0114- Accuracy:=7.0\n",
            "L2Test MSE: 1372.9331- Accuracy:=15.000000953674316\n",
            "\n",
            "\n",
            "For seed:5678\n",
            "\n",
            "Test MSE: 721.9364- Accuracy:=0.0\n",
            "Drop out Test MSE: 850.7234- Accuracy:=9.0\n",
            "L2Test MSE: 1372.9331- Accuracy:=15.000000953674316\n",
            "\n",
            "\n",
            "For seed:199991\n",
            "\n",
            "Test MSE: 721.9364- Accuracy:=0.0\n",
            "Drop out Test MSE: 849.5248- Accuracy:=12.0\n",
            "L2Test MSE: 1372.9331- Accuracy:=15.000000953674316\n",
            "\n",
            "\n",
            "For seed:99999\n",
            "\n",
            "Test MSE: 721.9364- Accuracy:=0.0\n",
            "Drop out Test MSE: 840.1119- Accuracy:=8.0\n",
            "L2Test MSE: 1372.9331- Accuracy:=15.000000953674316\n",
            "\n",
            "\n",
            "For seed:3421\n",
            "\n",
            "Test MSE: 721.9364- Accuracy:=0.0\n",
            "Drop out Test MSE: 849.9523- Accuracy:=6.0\n",
            "L2Test MSE: 1372.9331- Accuracy:=15.000000953674316\n",
            "\n",
            "\n",
            "For seed:6642\n",
            "\n",
            "Test MSE: 721.9364- Accuracy:=0.0\n",
            "Drop out Test MSE: 852.5212- Accuracy:=9.0\n",
            "L2Test MSE: 1372.9331- Accuracy:=15.000000953674316\n",
            "\n",
            "\n",
            "For seed:8754\n",
            "\n",
            "Test MSE: 721.9364- Accuracy:=0.0\n",
            "Drop out Test MSE: 842.1769- Accuracy:=11.0\n",
            "L2Test MSE: 1372.9331- Accuracy:=15.000000953674316\n",
            "\n",
            "\n",
            "For seed:3454444\n",
            "\n",
            "Test MSE: 721.9364- Accuracy:=0.0\n",
            "Drop out Test MSE: 841.7893- Accuracy:=10.0\n",
            "L2Test MSE: 1372.9331- Accuracy:=15.000000953674316\n",
            "\n",
            "\n"
          ]
        }
      ]
    },
    {
      "cell_type": "markdown",
      "source": [
        "##Plot for single inferene for MNIST and Fashion MNIST"
      ],
      "metadata": {
        "id": "heFp7gaAJ3Yw"
      }
    },
    {
      "cell_type": "code",
      "source": [
        "# Plot learning curve (with errors)\n",
        "errors_inf = np.squeeze(inference_mnist)\n",
        "errors_rdp_inf = np.squeeze(inference_mnist_rdp)\n",
        "errors_rl_inf = np.squeeze(inference_mnist_rl)\n",
        "plt.plot(iterations,errors_inf,label='MNIST')\n",
        "plt.plot(iterations,errors_rdp_inf,label='MNIST drop out')\n",
        "plt.plot(iterations,errors_rl_inf,label='MNIST L2')\n",
        "plt.ylabel('errors')\n",
        "plt.xlabel('iterations ')\n",
        "plt.title(\"Single Inference MNIST\")\n",
        "plt.legend()\n",
        "plt.show()"
      ],
      "metadata": {
        "colab": {
          "base_uri": "https://localhost:8080/",
          "height": 295
        },
        "id": "h-pW5-3GJ2R8",
        "outputId": "89e12301-7bf9-475b-cc69-c671fa015f4d"
      },
      "execution_count": 118,
      "outputs": [
        {
          "output_type": "display_data",
          "data": {
            "image/png": "[encoded data removed]",
            "text/plain": [
              "<Figure size 432x288 with 1 Axes>"
            ]
          },
          "metadata": {
            "needs_background": "light"
          }
        }
      ]
    },
    {
      "cell_type": "code",
      "source": [
        "# Plot learning curve (with errors)\n",
        "errors_inf = np.squeeze(inference_fmnist)\n",
        "errors_rdp_inf = np.squeeze(inference_fmnist_rdp)\n",
        "errors_rl_inf = np.squeeze(inference_fmnist_rl)\n",
        "plt.plot(iterations,errors_inf,label='Fashion MNIST')\n",
        "plt.plot(iterations,errors_rdp_inf,label='Fashion MNIST drop out')\n",
        "plt.plot(iterations,errors_rl_inf,label='Fashion MNIST L2')\n",
        "plt.ylabel('errors')\n",
        "plt.xlabel('iterations ')\n",
        "plt.title(\"Single Inference Fashion MNIST\")\n",
        "plt.legend()\n",
        "plt.show()"
      ],
      "metadata": {
        "colab": {
          "base_uri": "https://localhost:8080/",
          "height": 295
        },
        "id": "pkp8uTK6KvbL",
        "outputId": "0d97bdc5-723e-4e95-faa8-14698b0cc81a"
      },
      "execution_count": 119,
      "outputs": [
        {
          "output_type": "display_data",
          "data": {
            "image/png": "[encoded data removed]",
            "text/plain": [
              "<Figure size 432x288 with 1 Axes>"
            ]
          },
          "metadata": {
            "needs_background": "light"
          }
        }
      ]
    }
  ],
  "metadata": {
    "colab": {
      "collapsed_sections": [],
      "name": "IST597_MLP_tfv5097_assignment02.ipynb",
      "provenance": []
    },
    "kernelspec": {
      "display_name": "Python 3",
      "name": "python3"
    },
    "language_info": {
      "name": "python"
    },
    "accelerator": "GPU"
  },
  "nbformat": 4,
  "nbformat_minor": 0
}