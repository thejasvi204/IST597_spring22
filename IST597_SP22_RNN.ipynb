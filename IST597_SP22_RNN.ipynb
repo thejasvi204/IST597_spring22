{
  "cells": [
    {
      "cell_type": "markdown",
      "metadata": {
        "id": "view-in-github"
      },
      "source": [
        "<a href=\"https://colab.research.google.com/github/AnkurMali/IST597_SP21/blob/main/IST597_SP21_RNN.ipynb\" target=\"_parent\"><img src=\"https://colab.research.google.com/assets/colab-badge.svg\" alt=\"Open In Colab\"/></a>"
      ]
    },
    {
      "cell_type": "markdown",
      "metadata": {
        "id": "-C4rdQxKP7UT"
      },
      "source": [
        "# IST597 :Recurrent Neural Networks (RNNs) for sequence classification\n",
        "Thanks to @googleAI, @Keras, @madlalina @nvidia_research \n",
        "----\n",
        "\n",
        "We will be  building a RNN for sentiment analysis on IMDB movie reviews ( [stanford_imdb](https://https://ai.stanford.edu/~amaas/data/sentiment/)). \n"
      ]
    },
    {
      "cell_type": "code",
      "execution_count": 1,
      "metadata": {
        "id": "rvcyRuYbP7UV"
      },
      "outputs": [],
      "source": [
        "import tensorflow as tf\n",
        "import pandas as pd\n",
        "import pickle\n",
        "import time\n",
        "import matplotlib.pyplot as plt\n",
        "%matplotlib inline\n",
        "seed=5097\n",
        "tf.random.set_seed(seed)"
      ]
    },
    {
      "cell_type": "code",
      "execution_count": 2,
      "metadata": {
        "id": "ur6a2Sw5WJjM"
      },
      "outputs": [],
      "source": [
        "import sys\n",
        "sys.path.insert(1,'/content/')\n",
        "from data_utils import parse_imdb_sequence"
      ]
    },
    {
      "cell_type": "code",
      "execution_count": 3,
      "metadata": {
        "colab": {
          "base_uri": "https://localhost:8080/",
          "height": 281
        },
        "id": "CMNILJ0PP7UW",
        "outputId": "121b651f-f900-42aa-8432-a1b0c62638ad"
      },
      "outputs": [
        {
          "output_type": "display_data",
          "data": {
            "text/plain": [
              "<Figure size 432x288 with 1 Axes>"
            ],
            "image/png": "[encoded data removed]"
          },
          "metadata": {
            "needs_background": "light"
          }
        }
      ],
      "source": [
        "length_reviews = pickle.load(open('/content/length_reviews.pkl', 'rb'))\n",
        "pd.DataFrame(length_reviews, columns=['Length reviews']).hist(bins=100, color='blue');\n",
        "plt.grid(False);"
      ]
    },
    {
      "cell_type": "code",
      "execution_count": 4,
      "metadata": {
        "id": "ijVfbU9jP7UY"
      },
      "outputs": [],
      "source": [
        "\n",
        "train_dataset = tf.data.TFRecordDataset('/content/train.tfrecords')\n",
        "eval_dataset=train_dataset.take(5000) \n",
        "train_dataset=train_dataset.skip(5000) \n",
        "train_dataset = train_dataset.map(parse_imdb_sequence).shuffle(buffer_size=10000)\n",
        "#train_dataset = train_dataset.padded_batch(512, padded_shapes=([None],[],[]))\n",
        "\n",
        "eval_dataset = eval_dataset.map(parse_imdb_sequence).shuffle(buffer_size=10000)\n",
        "#eval_dataset = eval_dataset.padded_batch(512, padded_shapes=([None],[],[]))\n",
        "\n",
        "test_dataset = tf.data.TFRecordDataset('/content/test.tfrecords')\n",
        "test_dataset = test_dataset.map(parse_imdb_sequence).shuffle(buffer_size=10000,seed=seed)\n",
        "#test_dataset = test_dataset.padded_batch(512, padded_shapes=([None],[],[]))"
      ]
    },
    {
      "cell_type": "code",
      "execution_count": 5,
      "metadata": {
        "id": "-0boPqdDP7UY"
      },
      "outputs": [],
      "source": [
        "# Read the word vocabulary\n",
        "word2idx = pickle.load(open('/content/word2idx.pkl', 'rb'))"
      ]
    },
    {
      "cell_type": "markdown",
      "metadata": {
        "id": "7jVOSepgP7UY"
      },
      "source": [
        "## RNN model for sequence classification, compatible with Eager API \n",
        "----\n",
        "In the cell below, you can find the class that I have created for the RNN model. The API is very similar with one I created in the previous tutorial, except that now we track the accuracy of the model instead of the loss.\n",
        "\n",
        "The idea of the network is very simple. We simply take each word in the review, select its corresponding word embedding (initialized randomly in the beginning), and pass it through the RNN cell. We then take the output of the RNN cell at the end of the sequence and pass it through a dense layer (with ReLU activation) to obtain the final predictions. \n",
        "\n",
        "Like usually, the network inherits from tf.keras.Model in order to keep track of all variables and save/restore them easily.\n",
        "\n",
        "![img](tutorials_graphics/rnn_imdb.png)"
      ]
    },
    {
      "cell_type": "code",
      "execution_count": 85,
      "metadata": {
        "id": "Zt_VL05v4-7v"
      },
      "outputs": [],
      "source": [
        "class RNNModel(tf.keras.Model):\n",
        "    def __init__(self, embedding_size=100, cell_size=64, dense_size=128, \n",
        "                 num_classes=2, vocabulary_size=None, rnn_cell='lstm',\n",
        "                 device='cpu:0', checkpoint_directory=None):\n",
        "        ''' Define the parameterized layers used during forward-pass, the device\n",
        "            where you would like to run the computation on and the checkpoint\n",
        "            directory. Additionaly, you can also modify the default size of the \n",
        "            network.\n",
        "            \n",
        "            Args:\n",
        "                embedding_size: the size of the word embedding.\n",
        "                cell_size: RNN cell size.\n",
        "                dense_size: the size of the dense layer.\n",
        "                num_classes: the number of labels in the network.\n",
        "                vocabulary_size: the size of the word vocabulary.\n",
        "                rnn_cell: string, either 'lstm' or 'ugrnn'.\n",
        "                device: string, 'cpu:n' or 'gpu:n' (n can vary). Default, 'cpu:0'.\n",
        "                checkpoint_directory: the directory where you would like to save or \n",
        "                                      restore a model.\n",
        "        '''\n",
        "        super(RNNModel, self).__init__()\n",
        "        \n",
        "        # Weights initializer function\n",
        "        w_initializer = tf.compat.v1.keras.initializers.glorot_uniform()\n",
        "    \n",
        "        # Biases initializer function\n",
        "        b_initializer = tf.zeros_initializer()\n",
        "        \n",
        "        # Initialize weights for word embeddings \n",
        "        self.embeddings = tf.keras.layers.Embedding(vocabulary_size, embedding_size, \n",
        "                                                    embeddings_initializer=w_initializer)\n",
        "        \n",
        "        # Dense layer initialization\n",
        "        self.dense_layer = tf.keras.layers.Dense(dense_size, activation=tf.nn.relu, \n",
        "                                                 kernel_initializer=w_initializer, \n",
        "                                                 bias_initializer=b_initializer)\n",
        "        \n",
        "        # Predictions layer initialization\n",
        "        self.pred_layer = tf.keras.layers.Dense(num_classes, activation=None, \n",
        "                                                kernel_initializer=w_initializer, \n",
        "                                                bias_initializer=b_initializer)\n",
        "        \n",
        "        # Basic LSTM cell\n",
        "        if rnn_cell=='lstm':\n",
        "            self.rnn_cell = tf.compat.v1.nn.rnn_cell.BasicLSTMCell(cell_size)\n",
        "        elif rnn_cell=='gru':\n",
        "            self.rnn_cell = tf.compat.v1.nn.rnn_cell.GRUCell(cell_size)\n",
        "        # Else RNN cell\n",
        "        else:\n",
        "            self.rnn_cell = tf.compat.v1.nn.rnn_cell.BasicRNNCell(cell_size)\n",
        "            \n",
        "        # Define the device \n",
        "        self.device = device\n",
        "        \n",
        "        # Define the checkpoint directory\n",
        "        self.checkpoint_directory = checkpoint_directory\n",
        "        \n",
        "    def predict(self, X, seq_length, is_training):\n",
        "        '''\n",
        "        Predicts the probability of each class, based on the input sample.\n",
        "\n",
        "        Args:\n",
        "            X: 2D tensor of shape (batch_size, time_steps).\n",
        "            seq_length: the length of each sequence in the batch.\n",
        "            is_training: Boolean. Either the network is predicting in\n",
        "                         training mode or not.\n",
        "        '''\n",
        "        \n",
        "        # Get the number of samples within a batch\n",
        "        num_samples = tf.shape(X)[0]\n",
        "\n",
        "        # Initialize LSTM cell state with zeros\n",
        "        state = self.rnn_cell.zero_state(num_samples, dtype=tf.float32)\n",
        "        \n",
        "        # Get the embedding of each word in the sequence\n",
        "        embedded_words = self.embeddings(X)\n",
        "        \n",
        "        # Unstack the embeddings\n",
        "        unstacked_embeddings = tf.unstack(embedded_words, axis=1)\n",
        "        \n",
        "        # Iterate through each timestep and append the predictions\n",
        "        outputs = []\n",
        "        for input_step in unstacked_embeddings:\n",
        "            output, state = self.rnn_cell(input_step, state)\n",
        "            outputs.append(output)\n",
        "            \n",
        "        # Stack outputs to (batch_size, time_steps, cell_size)\n",
        "        outputs = tf.stack(outputs, axis=1)\n",
        "        \n",
        "        # Extract the output of the last time step, of each sample\n",
        "        idxs_last_output = tf.stack([tf.range(num_samples), \n",
        "                                     tf.cast(seq_length-1, tf.int32)], axis=1)\n",
        "        final_output = tf.gather_nd(outputs, idxs_last_output)\n",
        "        \n",
        "        # Add dropout for regularization\n",
        "        #dropped_output = tf.compat.v1.layers.Dropout(final_output, rate=0.3, training=is_training)\n",
        "        \n",
        "        # Pass the last cell state through a dense layer (ReLU activation)\n",
        "        dense = self.dense_layer(final_output)\n",
        "        \n",
        "        # Compute the unnormalized log probabilities\n",
        "        logits = self.pred_layer(dense)\n",
        "        return logits\n",
        "    \n",
        "    def loss_fn(self, X, y, seq_length, is_training):\n",
        "        \"\"\" Defines the loss function used during \n",
        "            training.         \n",
        "        \"\"\"\n",
        "        preds = self.predict(X, seq_length, is_training)\n",
        "        loss = tf.nn.sparse_softmax_cross_entropy_with_logits(labels=y, logits=preds)\n",
        "        return loss\n",
        "    \n",
        "    def grads_fn(self, X, y, seq_length, is_training):\n",
        "        \"\"\" Dynamically computes the gradients of the loss value\n",
        "            with respect to the parameters of the model, in each\n",
        "            forward pass.\n",
        "        \"\"\"\n",
        "        with tf.GradientTape() as tape:\n",
        "            loss = self.loss_fn(X, y, seq_length, is_training)\n",
        "        return tape.gradient(loss, self.variables)\n",
        "    \n",
        "    def restore_model(self):\n",
        "        \"\"\" Function to restore trained model.\n",
        "        \"\"\"\n",
        "        with tf.device(self.device):\n",
        "            # Run the model once to initialize variables\n",
        "            dummy_input = tf.constant(tf.zeros((1,1)))\n",
        "            dummy_length = tf.constant(1, shape=(1,))\n",
        "            dummy_pred = self.predict(dummy_input, dummy_length, False)\n",
        "            # Restore the variables of the model\n",
        "            saver = tf.compat.v1.train.Saver(self.variables)\n",
        "            saver.restore(tf.train.latest_checkpoint\n",
        "                          (self.checkpoint_directory))\n",
        "    \n",
        "    def save_model(self, global_step=0):\n",
        "        \"\"\" Function to save trained model.\n",
        "        \"\"\"\n",
        "        tf.compat.v1.train.Saver(self.variables).save(save_path=self.checkpoint_directory, \n",
        "                                       global_step=global_step)   \n",
        "    \n",
        "    def evaluate(self,test_data,batch_size=1024):\n",
        "        time_start = time.time()\n",
        "        test_data = test_data.padded_batch(batch_size, padded_shapes=([None],[],[]))\n",
        "        test_acc=tf.keras.metrics.Accuracy('test_acc')\n",
        "        self.history['test_acc'] = []\n",
        "        # Check accuracy test dataset\n",
        "        for step, (X, y, seq_length) in enumerate(test_data):\n",
        "          logits = self.predict(X, seq_length, False)\n",
        "          preds = tf.argmax(logits, axis=1)\n",
        "          test_acc(preds, y)\n",
        "        self.history['test_acc'].append(test_acc.result().numpy())\n",
        "        time_taken = time.time() - time_start\n",
        "        print('Test accuracy for batch size {} is: {} in time {:.2f}\\n\\n ' .format(batch_size,self.history['test_acc'][-1],time_taken))\n",
        "        \n",
        "        #print('\\nTotal time taken (in seconds): {:.2f}'.format(time_taken)) \n",
        "        # Reset metrics\n",
        "        test_acc.reset_states()\n",
        "              \n",
        "    def fit(self, training_data, eval_data, optimizer, num_epochs=500, \n",
        "            early_stopping_rounds=10, verbose=10, train_from_scratch=False,learningrate=1e-4,batch_size=1024):\n",
        "        \"\"\" Function to train the model, using the selected optimizer and\n",
        "            for the desired number of epochs. You can either train from scratch\n",
        "            or load the latest model trained. Early stopping is used in order to\n",
        "            mitigate the risk of overfitting the network.\n",
        "            \n",
        "            Args:\n",
        "                training_data: the data you would like to train the model on.\n",
        "                                Must be in the tf.data.Dataset format.\n",
        "                eval_data: the data you would like to evaluate the model on.\n",
        "                            Must be in the tf.data.Dataset format.\n",
        "                optimizer: the optimizer used during training.\n",
        "                num_epochs: the maximum number of iterations you would like to \n",
        "                            train the model.\n",
        "                early_stopping_rounds: stop training if the accuracy on the eval \n",
        "                                       dataset does not increase after n epochs.\n",
        "                verbose: int. Specify how often to print the loss value of the network.\n",
        "                train_from_scratch: boolean. Whether to initialize variables of the\n",
        "                                    the last trained model or initialize them\n",
        "                                    randomly.\n",
        "        \"\"\" \n",
        "        # Define optimizer.\n",
        "        if optimizer==\"Adam\":\n",
        "          optimizer = tf.compat.v1.train.AdamOptimizer(learning_rate=learningrate)\n",
        "        elif optimizer==\"SGD\":\n",
        "          optimizer = tf.compat.v1.train.GradientDescentOptimizer(learning_rate=learningrate)\n",
        "        elif optimizer==\"RMSProp\":\n",
        "          optimizer = tf.compat.v1.train.RMSPropOptimizer(learning_rate=learningrate)\n",
        "\n",
        "        #Batch size\n",
        "        training_data = training_data.padded_batch(batch_size, padded_shapes=([None],[],[]))\n",
        "        eval_data = eval_data.padded_batch(batch_size, padded_shapes=([None],[],[]))\n",
        "\n",
        "        if train_from_scratch==False:\n",
        "            self.restore_model()\n",
        "        \n",
        "        # Initialize best_acc. This variable will store the highest accuracy\n",
        "        # on the eval dataset.\n",
        "        best_acc = 0\n",
        "        \n",
        "        # Initialize classes to update the mean accuracy of train and eval\n",
        "        train_acc = tf.keras.metrics.Accuracy('train_acc')\n",
        "        eval_acc = tf.keras.metrics.Accuracy('eval_acc')\n",
        "        \n",
        "        \n",
        "        # Initialize dictionary to store the accuracy history\n",
        "        self.history = {}\n",
        "        self.history['train_acc'] = []\n",
        "        self.history['eval_acc'] = []\n",
        "        \n",
        "        #Time tracking\n",
        "        time_start = time.time()\n",
        "\n",
        "        # Begin training\n",
        "        with tf.device(self.device):\n",
        "            for i in range(num_epochs):\n",
        "                # Training with gradient descent\n",
        "                for step, (X, y, seq_length) in enumerate(training_data):\n",
        "                    grads = self.grads_fn(X, y, seq_length, True)\n",
        "                    optimizer.apply_gradients(zip(grads, self.variables))\n",
        "                    \n",
        "                # Check accuracy train dataset\n",
        "                for step, (X, y, seq_length) in enumerate(training_data):\n",
        "                    logits = self.predict(X, seq_length, False)\n",
        "                    preds = tf.argmax(logits, axis=1)\n",
        "                    train_acc(preds, y)\n",
        "                self.history['train_acc'].append(train_acc.result().numpy())\n",
        "                # Reset metrics\n",
        "                train_acc.reset_states()\n",
        "\n",
        "                # Check accuracy eval dataset\n",
        "                for step, (X, y, seq_length) in enumerate(eval_data):\n",
        "                    logits = self.predict(X, seq_length, False)\n",
        "                    preds = tf.argmax(logits, axis=1)\n",
        "                    eval_acc(preds, y)\n",
        "                self.history['eval_acc'].append(eval_acc.result().numpy())\n",
        "                # Reset metrics\n",
        "                eval_acc.reset_states()\n",
        "                \n",
        "                \n",
        "                # Print train and eval accuracy\n",
        "                if (i==0) | ((i+1)%verbose==0):\n",
        "                    #print('Epoch: {} -Train Accuracy:{:4f} - Eval Accuracy: {:4f} - Test Accuracy: {:4f} ' .format(i+1, self.history['train_acc'][-1],self.history['eval_acc'][-1],self.history['test_acc'][-1]))\n",
        "                    print('Epoch: {} -Train Accuracy:{:4f} - Eval Accuracy: {:4f}' .format(i+1, self.history['train_acc'][-1],self.history['eval_acc'][-1]))\n",
        "                    #print('Eval accuracy at epoch %d: ' %(i+1), self.history['eval_acc'][-1])\n",
        "\n",
        "                # Check for early stopping\n",
        "                if self.history['eval_acc'][-1]>best_acc:\n",
        "                    best_acc = self.history['eval_acc'][-1]\n",
        "                    count = early_stopping_rounds\n",
        "                else:\n",
        "                    count -= 1\n",
        "                if count==0:\n",
        "                    break  \n",
        "        time_taken = time.time() - time_start\n",
        "        print('\\nTotal time taken (in seconds): {:.2f}'.format(time_taken)) "
      ]
    },
    {
      "cell_type": "markdown",
      "metadata": {
        "id": "Pq07GFNrP7UZ"
      },
      "source": [
        "## Train model with gradient descent and early stopping\n",
        "----"
      ]
    },
    {
      "cell_type": "markdown",
      "metadata": {
        "id": "VIuGUj5CP7UZ"
      },
      "source": [
        "### Model training with simple LSTM cells\n",
        "----"
      ]
    },
    {
      "cell_type": "code",
      "execution_count": 7,
      "metadata": {
        "colab": {
          "base_uri": "https://localhost:8080/"
        },
        "id": "uqk_DJZ3P7Ua",
        "outputId": "9d910c95-de26-4b16-971a-c32966a322cb"
      },
      "outputs": [
        {
          "output_type": "stream",
          "name": "stdout",
          "text": [
            "WARNING:tensorflow:<keras.layers.legacy_rnn.rnn_cell_impl.BasicLSTMCell object at 0x7f124031a390>: Note that this cell is not optimized for performance. Please use tf.contrib.cudnn_rnn.CudnnLSTM for better performance on GPU.\n"
          ]
        },
        {
          "output_type": "stream",
          "name": "stderr",
          "text": [
            "/usr/local/lib/python3.7/dist-packages/ipykernel_launcher.py:45: UserWarning: `tf.nn.rnn_cell.BasicLSTMCell` is deprecated and will be removed in a future version. This class is equivalent as `tf.keras.layers.LSTMCell`, and will be replaced by that in Tensorflow 2.0.\n",
            "/usr/local/lib/python3.7/dist-packages/keras/layers/legacy_rnn/rnn_cell_impl.py:756: UserWarning: `layer.add_variable` is deprecated and will be removed in a future version. Please use `layer.add_weight` method instead.\n",
            "  shape=[input_depth + h_depth, 4 * self._num_units])\n",
            "/usr/local/lib/python3.7/dist-packages/keras/layers/legacy_rnn/rnn_cell_impl.py:760: UserWarning: `layer.add_variable` is deprecated and will be removed in a future version. Please use `layer.add_weight` method instead.\n",
            "  initializer=tf.compat.v1.zeros_initializer(dtype=self.dtype))\n"
          ]
        },
        {
          "output_type": "stream",
          "name": "stdout",
          "text": [
            "Epoch: 1 -Train Accuracy:0.640350 - Eval Accuracy: 0.620400\n",
            "Epoch: 2 -Train Accuracy:0.719900 - Eval Accuracy: 0.673000\n",
            "Epoch: 4 -Train Accuracy:0.791850 - Eval Accuracy: 0.739800\n",
            "Epoch: 6 -Train Accuracy:0.862950 - Eval Accuracy: 0.834800\n",
            "Epoch: 8 -Train Accuracy:0.929650 - Eval Accuracy: 0.873400\n",
            "Epoch: 10 -Train Accuracy:0.955600 - Eval Accuracy: 0.884200\n",
            "\n",
            "Total time taken (in seconds): 433.16\n"
          ]
        }
      ],
      "source": [
        "# Specify the path where you want to save/restore the trained variables.\n",
        "checkpoint_directory = 'models_checkpoints/LSTMRNN/'\n",
        "\n",
        "# Use the GPU if available.\n",
        "device = 'gpu:0'\n",
        "\n",
        "# Instantiate model. This doesn't initialize the variables yet.\n",
        "lstm_model = RNNModel(vocabulary_size=len(word2idx), device=device, \n",
        "                      checkpoint_directory=checkpoint_directory)\n",
        "\n",
        "# Train model\n",
        "lstm_model.fit(train_dataset,eval_dataset, optimizer=\"Adam\", num_epochs=10, \n",
        "                early_stopping_rounds=8, verbose=2, train_from_scratch=True)"
      ]
    },
    {
      "cell_type": "code",
      "execution_count": 8,
      "metadata": {
        "id": "_EjYsfyvBaOG"
      },
      "outputs": [],
      "source": [
        "#stm_model.save_model(global_step=0)\n",
        "checkpoint = tf.train.Checkpoint(lstm_model)\n",
        "save_path = checkpoint.save(checkpoint_directory)"
      ]
    },
    {
      "cell_type": "code",
      "execution_count": 9,
      "metadata": {
        "id": "E2iBta7JFM_9",
        "colab": {
          "base_uri": "https://localhost:8080/"
        },
        "outputId": "f527d440-d5d0-4e9a-a834-216c57e3e5a6"
      },
      "outputs": [
        {
          "output_type": "stream",
          "name": "stdout",
          "text": [
            "WARNING:tensorflow:<keras.layers.legacy_rnn.rnn_cell_impl.BasicLSTMCell object at 0x7f11b7f4c190>: Note that this cell is not optimized for performance. Please use tf.contrib.cudnn_rnn.CudnnLSTM for better performance on GPU.\n"
          ]
        },
        {
          "output_type": "stream",
          "name": "stderr",
          "text": [
            "/usr/local/lib/python3.7/dist-packages/ipykernel_launcher.py:45: UserWarning: `tf.nn.rnn_cell.BasicLSTMCell` is deprecated and will be removed in a future version. This class is equivalent as `tf.keras.layers.LSTMCell`, and will be replaced by that in Tensorflow 2.0.\n",
            "/usr/local/lib/python3.7/dist-packages/keras/layers/legacy_rnn/rnn_cell_impl.py:756: UserWarning: `layer.add_variable` is deprecated and will be removed in a future version. Please use `layer.add_weight` method instead.\n",
            "  shape=[input_depth + h_depth, 4 * self._num_units])\n",
            "/usr/local/lib/python3.7/dist-packages/keras/layers/legacy_rnn/rnn_cell_impl.py:760: UserWarning: `layer.add_variable` is deprecated and will be removed in a future version. Please use `layer.add_weight` method instead.\n",
            "  initializer=tf.compat.v1.zeros_initializer(dtype=self.dtype))\n"
          ]
        },
        {
          "output_type": "stream",
          "name": "stdout",
          "text": [
            "Epoch: 1 -Train Accuracy:0.910250 - Eval Accuracy: 0.877000\n",
            "Epoch: 2 -Train Accuracy:0.958800 - Eval Accuracy: 0.873200\n",
            "Epoch: 4 -Train Accuracy:0.984550 - Eval Accuracy: 0.864800\n",
            "Epoch: 6 -Train Accuracy:0.998350 - Eval Accuracy: 0.869400\n",
            "Epoch: 8 -Train Accuracy:0.996550 - Eval Accuracy: 0.861200\n",
            "Epoch: 10 -Train Accuracy:0.998600 - Eval Accuracy: 0.875200\n",
            "\n",
            "Total time taken (in seconds): 792.24\n"
          ]
        }
      ],
      "source": [
        "# Specify the path where you want to save/restore the trained variables.\n",
        "checkpoint_directory = 'models_checkpoints/LSTMRNNLB/'\n",
        "\n",
        "# Use the GPU if available.\n",
        "device = 'gpu:0'\n",
        "\n",
        "# Instantiate model. This doesn't initialize the variables yet.\n",
        "lstm_model_lb = RNNModel(vocabulary_size=len(word2idx), device=device, \n",
        "                      checkpoint_directory=checkpoint_directory)\n",
        "\n",
        "# Train model\n",
        "lstm_model_lb.fit(train_dataset,eval_dataset, optimizer=\"Adam\", num_epochs=10, \n",
        "                early_stopping_rounds=10, verbose=2, train_from_scratch=True,learningrate=1e-3,batch_size=512)"
      ]
    },
    {
      "cell_type": "code",
      "execution_count": 10,
      "metadata": {
        "id": "Qz2wL8z7FXCT"
      },
      "outputs": [],
      "source": [
        "#stm_model.save_model(global_step=0)\n",
        "checkpoint = tf.train.Checkpoint(lstm_model_lb)\n",
        "save_path = checkpoint.save(checkpoint_directory)"
      ]
    },
    {
      "cell_type": "code",
      "execution_count": 11,
      "metadata": {
        "id": "93uBldjeFOWf",
        "colab": {
          "base_uri": "https://localhost:8080/"
        },
        "outputId": "85ff4490-2d9c-4172-fb84-931fb491a674"
      },
      "outputs": [
        {
          "output_type": "stream",
          "name": "stdout",
          "text": [
            "WARNING:tensorflow:<keras.layers.legacy_rnn.rnn_cell_impl.BasicLSTMCell object at 0x7f124036b950>: Note that this cell is not optimized for performance. Please use tf.contrib.cudnn_rnn.CudnnLSTM for better performance on GPU.\n"
          ]
        },
        {
          "output_type": "stream",
          "name": "stderr",
          "text": [
            "/usr/local/lib/python3.7/dist-packages/ipykernel_launcher.py:45: UserWarning: `tf.nn.rnn_cell.BasicLSTMCell` is deprecated and will be removed in a future version. This class is equivalent as `tf.keras.layers.LSTMCell`, and will be replaced by that in Tensorflow 2.0.\n",
            "/usr/local/lib/python3.7/dist-packages/keras/layers/legacy_rnn/rnn_cell_impl.py:756: UserWarning: `layer.add_variable` is deprecated and will be removed in a future version. Please use `layer.add_weight` method instead.\n",
            "  shape=[input_depth + h_depth, 4 * self._num_units])\n",
            "/usr/local/lib/python3.7/dist-packages/keras/layers/legacy_rnn/rnn_cell_impl.py:760: UserWarning: `layer.add_variable` is deprecated and will be removed in a future version. Please use `layer.add_weight` method instead.\n",
            "  initializer=tf.compat.v1.zeros_initializer(dtype=self.dtype))\n"
          ]
        },
        {
          "output_type": "stream",
          "name": "stdout",
          "text": [
            "Epoch: 1 -Train Accuracy:0.847400 - Eval Accuracy: 0.761200\n",
            "Epoch: 2 -Train Accuracy:0.947250 - Eval Accuracy: 0.838800\n",
            "Epoch: 4 -Train Accuracy:0.994400 - Eval Accuracy: 0.849400\n",
            "Epoch: 6 -Train Accuracy:0.979450 - Eval Accuracy: 0.814200\n",
            "Epoch: 8 -Train Accuracy:0.999400 - Eval Accuracy: 0.843000\n",
            "Epoch: 10 -Train Accuracy:0.999550 - Eval Accuracy: 0.843200\n",
            "\n",
            "Total time taken (in seconds): 1538.61\n"
          ]
        }
      ],
      "source": [
        "# Specify the path where you want to save/restore the trained variables.\n",
        "checkpoint_directory = 'models_checkpoints/LSTMRNNLB2/'\n",
        "\n",
        "# Use the GPU if available.\n",
        "device = 'gpu:0'\n",
        "\n",
        "# Instantiate model. This doesn't initialize the variables yet.\n",
        "lstm_model_lb2 = RNNModel(vocabulary_size=len(word2idx), device=device, \n",
        "                      checkpoint_directory=checkpoint_directory)\n",
        "\n",
        "# Train model\n",
        "lstm_model_lb2.fit(train_dataset,eval_dataset, optimizer=\"Adam\", num_epochs=10, \n",
        "                early_stopping_rounds=8, verbose=2, train_from_scratch=True,learningrate=1e-2,batch_size=256)\n",
        "                "
      ]
    },
    {
      "cell_type": "code",
      "execution_count": 12,
      "metadata": {
        "id": "BI66YyXqFYI8"
      },
      "outputs": [],
      "source": [
        "#stm_model.save_model(global_step=0)\n",
        "checkpoint = tf.train.Checkpoint(lstm_model_lb2)\n",
        "save_path = checkpoint.save(checkpoint_directory)"
      ]
    },
    {
      "cell_type": "markdown",
      "metadata": {
        "id": "JmzXh0ljP7Ua"
      },
      "source": [
        "### Model training with RNN cells \n",
        "---"
      ]
    },
    {
      "cell_type": "code",
      "execution_count": 13,
      "metadata": {
        "id": "TmjyKjDYP7Ub",
        "colab": {
          "base_uri": "https://localhost:8080/"
        },
        "outputId": "81966244-cd2b-4c7e-e854-638bfa73a923"
      },
      "outputs": [
        {
          "output_type": "stream",
          "name": "stdout",
          "text": [
            "WARNING:tensorflow:<keras.layers.legacy_rnn.rnn_cell_impl.BasicRNNCell object at 0x7f11d008f650>: Note that this cell is not optimized for performance. Please use tf.contrib.cudnn_rnn.CudnnRNNTanh for better performance on GPU.\n"
          ]
        },
        {
          "output_type": "stream",
          "name": "stderr",
          "text": [
            "/usr/local/lib/python3.7/dist-packages/ipykernel_launcher.py:50: UserWarning: `tf.nn.rnn_cell.BasicRNNCell` is deprecated and will be removed in a future version. This class is equivalent as `tf.keras.layers.SimpleRNNCell`, and will be replaced by that in Tensorflow 2.0.\n",
            "/usr/local/lib/python3.7/dist-packages/keras/layers/legacy_rnn/rnn_cell_impl.py:459: UserWarning: `layer.add_variable` is deprecated and will be removed in a future version. Please use `layer.add_weight` method instead.\n",
            "  shape=[input_depth + self._num_units, self._num_units])\n",
            "/usr/local/lib/python3.7/dist-packages/keras/layers/legacy_rnn/rnn_cell_impl.py:463: UserWarning: `layer.add_variable` is deprecated and will be removed in a future version. Please use `layer.add_weight` method instead.\n",
            "  initializer=tf.compat.v1.zeros_initializer(dtype=self.dtype))\n"
          ]
        },
        {
          "output_type": "stream",
          "name": "stdout",
          "text": [
            "Epoch: 1 -Train Accuracy:0.571350 - Eval Accuracy: 0.557200\n",
            "Epoch: 2 -Train Accuracy:0.679000 - Eval Accuracy: 0.591400\n",
            "Epoch: 4 -Train Accuracy:0.770050 - Eval Accuracy: 0.596200\n",
            "Epoch: 6 -Train Accuracy:0.869300 - Eval Accuracy: 0.561000\n",
            "Epoch: 8 -Train Accuracy:0.928550 - Eval Accuracy: 0.546800\n",
            "Epoch: 10 -Train Accuracy:0.964550 - Eval Accuracy: 0.532200\n",
            "\n",
            "Total time taken (in seconds): 232.68\n"
          ]
        }
      ],
      "source": [
        "\n",
        "checkpoint_directory = 'models_checkpoints/UGRNN/'\n",
        "# Use the GPU if available.\n",
        "device = 'gpu:0'\n",
        "\n",
        "# Instantiate model. This doesn't initialize the variables yet.\n",
        "ugrnn_model = RNNModel(vocabulary_size=len(word2idx), rnn_cell='ugrnn', \n",
        "                       device=device, checkpoint_directory=checkpoint_directory)\n",
        "# Train model\n",
        "ugrnn_model.fit(train_dataset,eval_dataset,optimizer=\"Adam\", num_epochs=10, \n",
        "                early_stopping_rounds=8, verbose=2, train_from_scratch=True)"
      ]
    },
    {
      "cell_type": "code",
      "execution_count": 14,
      "metadata": {
        "id": "heol-XXyc1ag"
      },
      "outputs": [],
      "source": [
        "#ugrnn_model.save_model()\n",
        "checkpoint = tf.train.Checkpoint(ugrnn_model)\n",
        "save_path = checkpoint.save(checkpoint_directory)"
      ]
    },
    {
      "cell_type": "code",
      "execution_count": 15,
      "metadata": {
        "id": "1uHLBirM3DuR",
        "colab": {
          "base_uri": "https://localhost:8080/"
        },
        "outputId": "b922f6a3-3618-451a-da45-85815c6dff6d"
      },
      "outputs": [
        {
          "output_type": "stream",
          "name": "stdout",
          "text": [
            "WARNING:tensorflow:<keras.layers.legacy_rnn.rnn_cell_impl.BasicRNNCell object at 0x7f124dc38e50>: Note that this cell is not optimized for performance. Please use tf.contrib.cudnn_rnn.CudnnRNNTanh for better performance on GPU.\n"
          ]
        },
        {
          "output_type": "stream",
          "name": "stderr",
          "text": [
            "/usr/local/lib/python3.7/dist-packages/ipykernel_launcher.py:50: UserWarning: `tf.nn.rnn_cell.BasicRNNCell` is deprecated and will be removed in a future version. This class is equivalent as `tf.keras.layers.SimpleRNNCell`, and will be replaced by that in Tensorflow 2.0.\n",
            "/usr/local/lib/python3.7/dist-packages/keras/layers/legacy_rnn/rnn_cell_impl.py:459: UserWarning: `layer.add_variable` is deprecated and will be removed in a future version. Please use `layer.add_weight` method instead.\n",
            "  shape=[input_depth + self._num_units, self._num_units])\n",
            "/usr/local/lib/python3.7/dist-packages/keras/layers/legacy_rnn/rnn_cell_impl.py:463: UserWarning: `layer.add_variable` is deprecated and will be removed in a future version. Please use `layer.add_weight` method instead.\n",
            "  initializer=tf.compat.v1.zeros_initializer(dtype=self.dtype))\n"
          ]
        },
        {
          "output_type": "stream",
          "name": "stdout",
          "text": [
            "Epoch: 1 -Train Accuracy:0.705500 - Eval Accuracy: 0.690600\n",
            "Epoch: 2 -Train Accuracy:0.911150 - Eval Accuracy: 0.839600\n",
            "Epoch: 4 -Train Accuracy:0.962500 - Eval Accuracy: 0.841800\n",
            "Epoch: 6 -Train Accuracy:0.992850 - Eval Accuracy: 0.856600\n",
            "Epoch: 8 -Train Accuracy:0.976650 - Eval Accuracy: 0.787200\n",
            "Epoch: 10 -Train Accuracy:0.996400 - Eval Accuracy: 0.837400\n",
            "\n",
            "Total time taken (in seconds): 418.13\n"
          ]
        }
      ],
      "source": [
        "\n",
        "checkpoint_directory = 'models_checkpoints/UGRNNLB/'\n",
        "# Use the GPU if available.\n",
        "device = 'gpu:0'\n",
        "\n",
        "# Instantiate model. This doesn't initialize the variables yet.\n",
        "ugrnn_model_lb = RNNModel(vocabulary_size=len(word2idx), rnn_cell='ugrnn', \n",
        "                       device=device, checkpoint_directory=checkpoint_directory)\n",
        "# Train model\n",
        "ugrnn_model_lb.fit(train_dataset,eval_dataset,optimizer=\"Adam\", num_epochs=10, \n",
        "                early_stopping_rounds=8, verbose=2, train_from_scratch=True,learningrate=1e-3,batch_size=512)"
      ]
    },
    {
      "cell_type": "code",
      "execution_count": 16,
      "metadata": {
        "id": "cdHKNuMO3FhK"
      },
      "outputs": [],
      "source": [
        "#ugrnn_model.save_model()\n",
        "checkpoint = tf.train.Checkpoint(ugrnn_model_lb)\n",
        "save_path = checkpoint.save(checkpoint_directory)"
      ]
    },
    {
      "cell_type": "code",
      "execution_count": 17,
      "metadata": {
        "id": "5xAk0MmD3CHF",
        "colab": {
          "base_uri": "https://localhost:8080/"
        },
        "outputId": "c365155d-eef7-432d-e9a3-db20f1a44e0c"
      },
      "outputs": [
        {
          "output_type": "stream",
          "name": "stdout",
          "text": [
            "WARNING:tensorflow:<keras.layers.legacy_rnn.rnn_cell_impl.BasicRNNCell object at 0x7f11b7f453d0>: Note that this cell is not optimized for performance. Please use tf.contrib.cudnn_rnn.CudnnRNNTanh for better performance on GPU.\n"
          ]
        },
        {
          "output_type": "stream",
          "name": "stderr",
          "text": [
            "/usr/local/lib/python3.7/dist-packages/ipykernel_launcher.py:50: UserWarning: `tf.nn.rnn_cell.BasicRNNCell` is deprecated and will be removed in a future version. This class is equivalent as `tf.keras.layers.SimpleRNNCell`, and will be replaced by that in Tensorflow 2.0.\n",
            "/usr/local/lib/python3.7/dist-packages/keras/layers/legacy_rnn/rnn_cell_impl.py:459: UserWarning: `layer.add_variable` is deprecated and will be removed in a future version. Please use `layer.add_weight` method instead.\n",
            "  shape=[input_depth + self._num_units, self._num_units])\n",
            "/usr/local/lib/python3.7/dist-packages/keras/layers/legacy_rnn/rnn_cell_impl.py:463: UserWarning: `layer.add_variable` is deprecated and will be removed in a future version. Please use `layer.add_weight` method instead.\n",
            "  initializer=tf.compat.v1.zeros_initializer(dtype=self.dtype))\n"
          ]
        },
        {
          "output_type": "stream",
          "name": "stdout",
          "text": [
            "Epoch: 1 -Train Accuracy:0.717650 - Eval Accuracy: 0.645600\n",
            "Epoch: 2 -Train Accuracy:0.869350 - Eval Accuracy: 0.712200\n",
            "Epoch: 4 -Train Accuracy:0.909000 - Eval Accuracy: 0.703600\n",
            "Epoch: 6 -Train Accuracy:0.723250 - Eval Accuracy: 0.583400\n",
            "Epoch: 8 -Train Accuracy:0.708500 - Eval Accuracy: 0.593800\n",
            "Epoch: 10 -Train Accuracy:0.872600 - Eval Accuracy: 0.675200\n",
            "\n",
            "Total time taken (in seconds): 777.82\n"
          ]
        }
      ],
      "source": [
        "\n",
        "checkpoint_directory = 'models_checkpoints/UGRNNLB2/'\n",
        "# Use the GPU if available.\n",
        "device = 'gpu:0'\n",
        "\n",
        "# Instantiate model. This doesn't initialize the variables yet.\n",
        "ugrnn_model_lb2 = RNNModel(vocabulary_size=len(word2idx), rnn_cell='ugrnn', \n",
        "                       device=device, checkpoint_directory=checkpoint_directory)\n",
        "# Train model\n",
        "ugrnn_model_lb2.fit(train_dataset,eval_dataset,optimizer=\"Adam\", num_epochs=10, \n",
        "                early_stopping_rounds=8, verbose=2, train_from_scratch=True,learningrate=1e-2,batch_size=256)"
      ]
    },
    {
      "cell_type": "code",
      "execution_count": 18,
      "metadata": {
        "id": "M1mnaZxA3HAI"
      },
      "outputs": [],
      "source": [
        "#ugrnn_model.save_model()\n",
        "checkpoint = tf.train.Checkpoint(ugrnn_model_lb2)\n",
        "save_path = checkpoint.save(checkpoint_directory)"
      ]
    },
    {
      "cell_type": "markdown",
      "metadata": {
        "id": "EpmzY4aKywTy"
      },
      "source": [
        "# Model Training with GRU"
      ]
    },
    {
      "cell_type": "code",
      "execution_count": 19,
      "metadata": {
        "id": "ymQc-GM80B53",
        "colab": {
          "base_uri": "https://localhost:8080/",
          "height": 87
        },
        "outputId": "364b9a54-9e54-4ccb-a805-ffe6d1a3e1e9"
      },
      "outputs": [
        {
          "output_type": "execute_result",
          "data": {
            "text/plain": [
              "'\\ncheckpoint_directory = \\'models_checkpoints/GRURNN/\\'\\n# Use the GPU if available.\\ndevice = \\'gpu:0\\'\\n\\n# Instantiate model. This doesn\\'t initialize the variables yet.\\ngru_model = RNNModel(vocabulary_size=len(word2idx),rnn_cell=\"gru\", device=device, \\n                      checkpoint_directory=checkpoint_directory)\\n# Train model\\ngru_model.fit(train_dataset,eval_dataset,optimizer=\"Adam\", num_epochs=10, \\n                early_stopping_rounds=10, verbose=2, train_from_scratch=True)\\n'"
            ],
            "application/vnd.google.colaboratory.intrinsic+json": {
              "type": "string"
            }
          },
          "metadata": {},
          "execution_count": 19
        }
      ],
      "source": [
        "\"\"\"\n",
        "checkpoint_directory = 'models_checkpoints/GRURNN/'\n",
        "# Use the GPU if available.\n",
        "device = 'gpu:0'\n",
        "\n",
        "# Instantiate model. This doesn't initialize the variables yet.\n",
        "gru_model = RNNModel(vocabulary_size=len(word2idx),rnn_cell=\"gru\", device=device, \n",
        "                      checkpoint_directory=checkpoint_directory)\n",
        "# Train model\n",
        "gru_model.fit(train_dataset,eval_dataset,optimizer=\"Adam\", num_epochs=10, \n",
        "                early_stopping_rounds=10, verbose=2, train_from_scratch=True)\n",
        "\"\"\""
      ]
    },
    {
      "cell_type": "code",
      "execution_count": 20,
      "metadata": {
        "id": "xbvu8-UtdEpd"
      },
      "outputs": [],
      "source": [
        "#gru_model.save_model()\n",
        "#checkpoint = tf.train.Checkpoint(gru_model)\n",
        "#save_path = checkpoint.save(checkpoint_directory)"
      ]
    },
    {
      "cell_type": "markdown",
      "metadata": {
        "id": "PeonY3Kw1dZu"
      },
      "source": [
        "# Model Training with LSTM with SGD"
      ]
    },
    {
      "cell_type": "code",
      "execution_count": 21,
      "metadata": {
        "id": "9q5m0o971cLP",
        "colab": {
          "base_uri": "https://localhost:8080/",
          "height": 87
        },
        "outputId": "d18ad9f4-176d-4e44-8351-24cc3ffa35ba"
      },
      "outputs": [
        {
          "output_type": "execute_result",
          "data": {
            "text/plain": [
              "'\\ncheckpoint_directory = \\'models_checkpoints/LSTMRNN_SGD/\\'\\n# Use the GPU if available.\\ndevice = \\'gpu:0\\'\\n\\n# Instantiate model. This doesn\\'t initialize the variables yet.\\nlstm_model_SGD = RNNModel(cell_size=32,vocabulary_size=len(word2idx), device=device, \\n                      checkpoint_directory=checkpoint_directory)\\n# Train model\\nlstm_model_SGD.fit(train_dataset,eval_dataset, optimizer=\"SGD\", num_epochs=10, \\n                early_stopping_rounds=10, verbose=2, train_from_scratch=True)\\n                '"
            ],
            "application/vnd.google.colaboratory.intrinsic+json": {
              "type": "string"
            }
          },
          "metadata": {},
          "execution_count": 21
        }
      ],
      "source": [
        "\"\"\"\n",
        "checkpoint_directory = 'models_checkpoints/LSTMRNN_SGD/'\n",
        "# Use the GPU if available.\n",
        "device = 'gpu:0'\n",
        "\n",
        "# Instantiate model. This doesn't initialize the variables yet.\n",
        "lstm_model_SGD = RNNModel(cell_size=32,vocabulary_size=len(word2idx), device=device, \n",
        "                      checkpoint_directory=checkpoint_directory)\n",
        "# Train model\n",
        "lstm_model_SGD.fit(train_dataset,eval_dataset, optimizer=\"SGD\", num_epochs=10, \n",
        "                early_stopping_rounds=10, verbose=2, train_from_scratch=True)\n",
        "                \"\"\""
      ]
    },
    {
      "cell_type": "code",
      "execution_count": 22,
      "metadata": {
        "id": "lHfKtyV6ddB8"
      },
      "outputs": [],
      "source": [
        "\n",
        "#lstm_model_SGD.save_model()\n",
        "#checkpoint = tf.train.Checkpoint(lstm_model_SGD)\n",
        "#save_path = checkpoint.save(checkpoint_directory)"
      ]
    },
    {
      "cell_type": "code",
      "execution_count": 23,
      "metadata": {
        "id": "Bp95vmTA60g6",
        "colab": {
          "base_uri": "https://localhost:8080/",
          "height": 87
        },
        "outputId": "c1b7db1d-8c74-4910-a3d2-e4082ab94093"
      },
      "outputs": [
        {
          "output_type": "execute_result",
          "data": {
            "text/plain": [
              "'\\ncheckpoint_directory = \\'models_checkpoints/LSTMRNN_SGD_LB/\\'\\n# Use the GPU if available.\\ndevice = \\'gpu:0\\'\\n\\n# Instantiate model. This doesn\\'t initialize the variables yet.\\nlstm_model_SGD_lb = RNNModel(cell_size=32,vocabulary_size=len(word2idx), device=device, \\n                      checkpoint_directory=checkpoint_directory)\\n# Train model\\nlstm_model_SGD_lb.fit(train_dataset,eval_dataset, optimizer=\"SGD\", num_epochs=10, \\n                early_stopping_rounds=10, verbose=2, train_from_scratch=True,learningrate=1e-3,batch_size=512)\\n                '"
            ],
            "application/vnd.google.colaboratory.intrinsic+json": {
              "type": "string"
            }
          },
          "metadata": {},
          "execution_count": 23
        }
      ],
      "source": [
        "\"\"\"\n",
        "checkpoint_directory = 'models_checkpoints/LSTMRNN_SGD_LB/'\n",
        "# Use the GPU if available.\n",
        "device = 'gpu:0'\n",
        "\n",
        "# Instantiate model. This doesn't initialize the variables yet.\n",
        "lstm_model_SGD_lb = RNNModel(cell_size=32,vocabulary_size=len(word2idx), device=device, \n",
        "                      checkpoint_directory=checkpoint_directory)\n",
        "# Train model\n",
        "lstm_model_SGD_lb.fit(train_dataset,eval_dataset, optimizer=\"SGD\", num_epochs=10, \n",
        "                early_stopping_rounds=10, verbose=2, train_from_scratch=True,learningrate=1e-3,batch_size=512)\n",
        "                \"\"\""
      ]
    },
    {
      "cell_type": "code",
      "execution_count": 24,
      "metadata": {
        "id": "iapDu6uP63as"
      },
      "outputs": [],
      "source": [
        "#lstm_model_SGD.save_model()\n",
        "#checkpoint = tf.train.Checkpoint(lstm_model_SGD_lb)\n",
        "#save_path = checkpoint.save(checkpoint_directory)"
      ]
    },
    {
      "cell_type": "code",
      "execution_count": 25,
      "metadata": {
        "id": "WFO0ZiH061h3",
        "colab": {
          "base_uri": "https://localhost:8080/",
          "height": 87
        },
        "outputId": "94f0f155-78c0-4a34-cbdd-aff1627b7574"
      },
      "outputs": [
        {
          "output_type": "execute_result",
          "data": {
            "text/plain": [
              "'\\ncheckpoint_directory = \\'models_checkpoints/LSTMRNN_SGD_lB2/\\'\\n# Use the GPU if available.\\ndevice = \\'gpu:0\\'\\n\\n# Instantiate model. This doesn\\'t initialize the variables yet.\\nlstm_model_SGD_lb2 = RNNModel(cell_size=32,vocabulary_size=len(word2idx), device=device, \\n                      checkpoint_directory=checkpoint_directory)\\n# Train model\\nlstm_model_SGD_lb2.fit(train_dataset,eval_dataset, optimizer=\"SGD\", num_epochs=10, \\n                early_stopping_rounds=10, verbose=2, train_from_scratch=True,learningrate=1e-2,batch_size=256)\\n                '"
            ],
            "application/vnd.google.colaboratory.intrinsic+json": {
              "type": "string"
            }
          },
          "metadata": {},
          "execution_count": 25
        }
      ],
      "source": [
        "\"\"\"\n",
        "checkpoint_directory = 'models_checkpoints/LSTMRNN_SGD_lB2/'\n",
        "# Use the GPU if available.\n",
        "device = 'gpu:0'\n",
        "\n",
        "# Instantiate model. This doesn't initialize the variables yet.\n",
        "lstm_model_SGD_lb2 = RNNModel(cell_size=32,vocabulary_size=len(word2idx), device=device, \n",
        "                      checkpoint_directory=checkpoint_directory)\n",
        "# Train model\n",
        "lstm_model_SGD_lb2.fit(train_dataset,eval_dataset, optimizer=\"SGD\", num_epochs=10, \n",
        "                early_stopping_rounds=10, verbose=2, train_from_scratch=True,learningrate=1e-2,batch_size=256)\n",
        "                \"\"\""
      ]
    },
    {
      "cell_type": "code",
      "execution_count": 26,
      "metadata": {
        "id": "AdmiFBFr64VT"
      },
      "outputs": [],
      "source": [
        "#lstm_model_SGD.save_model()\n",
        "#checkpoint = tf.train.Checkpoint(lstm_model_SGD_lb2)\n",
        "#save_path = checkpoint.save(checkpoint_directory)"
      ]
    },
    {
      "cell_type": "markdown",
      "metadata": {
        "id": "o74NTj9j09zF"
      },
      "source": [
        "# Model Training with RNN with SGD"
      ]
    },
    {
      "cell_type": "code",
      "execution_count": 27,
      "metadata": {
        "id": "Hnyn2uw400ih",
        "colab": {
          "base_uri": "https://localhost:8080/",
          "height": 87
        },
        "outputId": "109216fa-b15e-4ff7-ca79-c5fcac99ee49"
      },
      "outputs": [
        {
          "output_type": "execute_result",
          "data": {
            "text/plain": [
              "'\\ncheckpoint_directory = \\'models_checkpoints/UGRNN_SGD/\\'\\n# Use the GPU if available.\\ndevice = \\'gpu:0\\'\\n\\n\\n# Instantiate model. This doesn\\'t initialize the variables yet.\\nugrnn_model_SGD = RNNModel(cell_size=128,vocabulary_size=len(word2idx),rnn_cell=\"gru\", device=device, \\n                      checkpoint_directory=checkpoint_directory)\\n# Train model\\nugrnn_model_SGD.fit(train_dataset,eval_dataset, optimizer=\"SGD\", num_epochs=10, \\n                early_stopping_rounds=10, verbose=2, train_from_scratch=True)\\n                '"
            ],
            "application/vnd.google.colaboratory.intrinsic+json": {
              "type": "string"
            }
          },
          "metadata": {},
          "execution_count": 27
        }
      ],
      "source": [
        "\n",
        "\"\"\"\n",
        "checkpoint_directory = 'models_checkpoints/UGRNN_SGD/'\n",
        "# Use the GPU if available.\n",
        "device = 'gpu:0'\n",
        "\n",
        "\n",
        "# Instantiate model. This doesn't initialize the variables yet.\n",
        "ugrnn_model_SGD = RNNModel(cell_size=128,vocabulary_size=len(word2idx),rnn_cell=\"gru\", device=device, \n",
        "                      checkpoint_directory=checkpoint_directory)\n",
        "# Train model\n",
        "ugrnn_model_SGD.fit(train_dataset,eval_dataset, optimizer=\"SGD\", num_epochs=10, \n",
        "                early_stopping_rounds=10, verbose=2, train_from_scratch=True)\n",
        "                \"\"\""
      ]
    },
    {
      "cell_type": "code",
      "execution_count": 28,
      "metadata": {
        "id": "Ahj7Su7Wdlrv",
        "colab": {
          "base_uri": "https://localhost:8080/",
          "height": 35
        },
        "outputId": "783c221f-2667-437b-a273-a10633f7dd45"
      },
      "outputs": [
        {
          "output_type": "execute_result",
          "data": {
            "text/plain": [
              "'\\n#gru_model_SGD.save_model()\\ncheckpoint = tf.train.Checkpoint(ugrnn_model_SGD)\\nsave_path = checkpoint.save(checkpoint_directory)\\n'"
            ],
            "application/vnd.google.colaboratory.intrinsic+json": {
              "type": "string"
            }
          },
          "metadata": {},
          "execution_count": 28
        }
      ],
      "source": [
        "\"\"\"\n",
        "#gru_model_SGD.save_model()\n",
        "checkpoint = tf.train.Checkpoint(ugrnn_model_SGD)\n",
        "save_path = checkpoint.save(checkpoint_directory)\n",
        "\"\"\""
      ]
    },
    {
      "cell_type": "code",
      "execution_count": 29,
      "metadata": {
        "id": "_F7dnjd37Dek",
        "colab": {
          "base_uri": "https://localhost:8080/",
          "height": 87
        },
        "outputId": "f40219eb-f675-41bf-d735-ccae733e77ec"
      },
      "outputs": [
        {
          "output_type": "execute_result",
          "data": {
            "text/plain": [
              "'\\ncheckpoint_directory = \\'models_checkpoints/UGRNN_SGD_LB/\\'\\n# Use the GPU if available.\\ndevice = \\'gpu:0\\'\\n\\n\\n# Instantiate model. This doesn\\'t initialize the variables yet.\\nugrnn_model_SGD_lb = RNNModel(cell_size=128,vocabulary_size=len(word2idx),rnn_cell=\"gru\", device=device, \\n                      checkpoint_directory=checkpoint_directory)\\n# Train model\\nugrnn_model_SGD_lb.fit(train_dataset,eval_dataset, optimizer=\"SGD\", num_epochs=10, \\n                early_stopping_rounds=10, verbose=2, train_from_scratch=True,learningrate=1e-2,batch_size=512)\\n                '"
            ],
            "application/vnd.google.colaboratory.intrinsic+json": {
              "type": "string"
            }
          },
          "metadata": {},
          "execution_count": 29
        }
      ],
      "source": [
        "\"\"\"\n",
        "checkpoint_directory = 'models_checkpoints/UGRNN_SGD_LB/'\n",
        "# Use the GPU if available.\n",
        "device = 'gpu:0'\n",
        "\n",
        "\n",
        "# Instantiate model. This doesn't initialize the variables yet.\n",
        "ugrnn_model_SGD_lb = RNNModel(cell_size=128,vocabulary_size=len(word2idx),rnn_cell=\"gru\", device=device, \n",
        "                      checkpoint_directory=checkpoint_directory)\n",
        "# Train model\n",
        "ugrnn_model_SGD_lb.fit(train_dataset,eval_dataset, optimizer=\"SGD\", num_epochs=10, \n",
        "                early_stopping_rounds=10, verbose=2, train_from_scratch=True,learningrate=1e-2,batch_size=512)\n",
        "                \"\"\""
      ]
    },
    {
      "cell_type": "code",
      "execution_count": 30,
      "metadata": {
        "id": "ezrW3P9Y7GS6"
      },
      "outputs": [],
      "source": [
        "#gru_model_SGD.save_model()\n",
        "#checkpoint = tf.train.Checkpoint(ugrnn_model_SGD_lb)\n",
        "#save_path = checkpoint.save(checkpoint_directory)"
      ]
    },
    {
      "cell_type": "code",
      "execution_count": 31,
      "metadata": {
        "id": "aMXol8Ht7EEU",
        "colab": {
          "base_uri": "https://localhost:8080/",
          "height": 87
        },
        "outputId": "07d9fc73-e600-4762-eff7-ea79cb8bae3d"
      },
      "outputs": [
        {
          "output_type": "execute_result",
          "data": {
            "text/plain": [
              "'\\ncheckpoint_directory = \\'models_checkpoints/UGRNN_SGD_LB2/\\'\\n# Use the GPU if available.\\ndevice = \\'gpu:0\\'\\n\\n\\n# Instantiate model. This doesn\\'t initialize the variables yet.\\nugrnn_model_SGD_lb2 = RNNModel(cell_size=128,vocabulary_size=len(word2idx),rnn_cell=\"gru\", device=device, \\n                      checkpoint_directory=checkpoint_directory)\\n# Train model\\nugrnn_model_SGD_lb2.fit(train_dataset,eval_dataset, optimizer=\"SGD\", num_epochs=10, \\n                early_stopping_rounds=10, verbose=2, train_from_scratch=True,learningrate=1e-2,batch_size=256)\\n'"
            ],
            "application/vnd.google.colaboratory.intrinsic+json": {
              "type": "string"
            }
          },
          "metadata": {},
          "execution_count": 31
        }
      ],
      "source": [
        "\"\"\"\n",
        "checkpoint_directory = 'models_checkpoints/UGRNN_SGD_LB2/'\n",
        "# Use the GPU if available.\n",
        "device = 'gpu:0'\n",
        "\n",
        "\n",
        "# Instantiate model. This doesn't initialize the variables yet.\n",
        "ugrnn_model_SGD_lb2 = RNNModel(cell_size=128,vocabulary_size=len(word2idx),rnn_cell=\"gru\", device=device, \n",
        "                      checkpoint_directory=checkpoint_directory)\n",
        "# Train model\n",
        "ugrnn_model_SGD_lb2.fit(train_dataset,eval_dataset, optimizer=\"SGD\", num_epochs=10, \n",
        "                early_stopping_rounds=10, verbose=2, train_from_scratch=True,learningrate=1e-2,batch_size=256)\n",
        "\"\"\""
      ]
    },
    {
      "cell_type": "code",
      "execution_count": 32,
      "metadata": {
        "id": "tu0DAA-V7HtI"
      },
      "outputs": [],
      "source": [
        "#gru_model_SGD.save_model()\n",
        "#checkpoint = tf.train.Checkpoint(ugrnn_model_SGD_lb2)\n",
        "#save_path = checkpoint.save(checkpoint_directory)"
      ]
    },
    {
      "cell_type": "markdown",
      "metadata": {
        "id": "CId9fQiE13aC"
      },
      "source": [
        "# Model Training LSTM with RMSprop"
      ]
    },
    {
      "cell_type": "code",
      "execution_count": 33,
      "metadata": {
        "id": "slCQmBrC14Jx",
        "colab": {
          "base_uri": "https://localhost:8080/"
        },
        "outputId": "80627bd6-4f9d-437f-9214-f40a75aab473"
      },
      "outputs": [
        {
          "output_type": "stream",
          "name": "stdout",
          "text": [
            "WARNING:tensorflow:<keras.layers.legacy_rnn.rnn_cell_impl.BasicLSTMCell object at 0x7f11d0118e50>: Note that this cell is not optimized for performance. Please use tf.contrib.cudnn_rnn.CudnnLSTM for better performance on GPU.\n"
          ]
        },
        {
          "output_type": "stream",
          "name": "stderr",
          "text": [
            "/usr/local/lib/python3.7/dist-packages/ipykernel_launcher.py:45: UserWarning: `tf.nn.rnn_cell.BasicLSTMCell` is deprecated and will be removed in a future version. This class is equivalent as `tf.keras.layers.LSTMCell`, and will be replaced by that in Tensorflow 2.0.\n",
            "/usr/local/lib/python3.7/dist-packages/keras/layers/legacy_rnn/rnn_cell_impl.py:756: UserWarning: `layer.add_variable` is deprecated and will be removed in a future version. Please use `layer.add_weight` method instead.\n",
            "  shape=[input_depth + h_depth, 4 * self._num_units])\n",
            "/usr/local/lib/python3.7/dist-packages/keras/layers/legacy_rnn/rnn_cell_impl.py:760: UserWarning: `layer.add_variable` is deprecated and will be removed in a future version. Please use `layer.add_weight` method instead.\n",
            "  initializer=tf.compat.v1.zeros_initializer(dtype=self.dtype))\n"
          ]
        },
        {
          "output_type": "stream",
          "name": "stdout",
          "text": [
            "Epoch: 1 -Train Accuracy:0.520100 - Eval Accuracy: 0.527600\n",
            "Epoch: 2 -Train Accuracy:0.561750 - Eval Accuracy: 0.568600\n",
            "Epoch: 4 -Train Accuracy:0.585000 - Eval Accuracy: 0.584600\n",
            "Epoch: 6 -Train Accuracy:0.709500 - Eval Accuracy: 0.690800\n",
            "Epoch: 8 -Train Accuracy:0.790600 - Eval Accuracy: 0.791000\n",
            "Epoch: 10 -Train Accuracy:0.843300 - Eval Accuracy: 0.818400\n",
            "\n",
            "Total time taken (in seconds): 2087.20\n"
          ]
        }
      ],
      "source": [
        "checkpoint_directory = 'models_checkpoints/LSTMRNN_RMS/'\n",
        "# Use the GPU if available.\n",
        "device = 'cpu:0'\n",
        "\n",
        "# Instantiate model. This doesn't initialize the variables yet.\n",
        "lstm_model_RMS = RNNModel(vocabulary_size=len(word2idx), device=device, \n",
        "                      checkpoint_directory=checkpoint_directory)\n",
        "# Train model\n",
        "lstm_model_RMS.fit(train_dataset,eval_dataset, optimizer=\"RMSProp\", num_epochs=10, \n",
        "                early_stopping_rounds=8, verbose=2, train_from_scratch=True)"
      ]
    },
    {
      "cell_type": "code",
      "execution_count": 34,
      "metadata": {
        "id": "SuuPQqZndyRN"
      },
      "outputs": [],
      "source": [
        "#lstm_model_RMS.save_model()\n",
        "checkpoint = tf.train.Checkpoint(lstm_model_RMS)\n",
        "save_path = checkpoint.save(checkpoint_directory)"
      ]
    },
    {
      "cell_type": "code",
      "execution_count": 35,
      "metadata": {
        "id": "A3KCJtrn3vLD",
        "colab": {
          "base_uri": "https://localhost:8080/"
        },
        "outputId": "1ee1704a-1fb2-4705-974f-faf416d3418b"
      },
      "outputs": [
        {
          "output_type": "stream",
          "name": "stdout",
          "text": [
            "WARNING:tensorflow:<keras.layers.legacy_rnn.rnn_cell_impl.BasicLSTMCell object at 0x7f11b7e40690>: Note that this cell is not optimized for performance. Please use tf.contrib.cudnn_rnn.CudnnLSTM for better performance on GPU.\n"
          ]
        },
        {
          "output_type": "stream",
          "name": "stderr",
          "text": [
            "/usr/local/lib/python3.7/dist-packages/ipykernel_launcher.py:45: UserWarning: `tf.nn.rnn_cell.BasicLSTMCell` is deprecated and will be removed in a future version. This class is equivalent as `tf.keras.layers.LSTMCell`, and will be replaced by that in Tensorflow 2.0.\n",
            "/usr/local/lib/python3.7/dist-packages/keras/layers/legacy_rnn/rnn_cell_impl.py:756: UserWarning: `layer.add_variable` is deprecated and will be removed in a future version. Please use `layer.add_weight` method instead.\n",
            "  shape=[input_depth + h_depth, 4 * self._num_units])\n",
            "/usr/local/lib/python3.7/dist-packages/keras/layers/legacy_rnn/rnn_cell_impl.py:760: UserWarning: `layer.add_variable` is deprecated and will be removed in a future version. Please use `layer.add_weight` method instead.\n",
            "  initializer=tf.compat.v1.zeros_initializer(dtype=self.dtype))\n"
          ]
        },
        {
          "output_type": "stream",
          "name": "stdout",
          "text": [
            "Epoch: 1 -Train Accuracy:0.550150 - Eval Accuracy: 0.554000\n",
            "Epoch: 2 -Train Accuracy:0.638800 - Eval Accuracy: 0.631600\n",
            "Epoch: 4 -Train Accuracy:0.904600 - Eval Accuracy: 0.850600\n",
            "Epoch: 6 -Train Accuracy:0.945250 - Eval Accuracy: 0.862000\n",
            "Epoch: 8 -Train Accuracy:0.951000 - Eval Accuracy: 0.861200\n",
            "Epoch: 10 -Train Accuracy:0.965400 - Eval Accuracy: 0.854800\n",
            "\n",
            "Total time taken (in seconds): 2384.80\n"
          ]
        }
      ],
      "source": [
        "checkpoint_directory = 'models_checkpoints/LSTMRNN_RMS_LB/'\n",
        "# Use the GPU if available.\n",
        "device = 'cpu:0'\n",
        "\n",
        "# Instantiate model. This doesn't initialize the variables yet.\n",
        "lstm_model_RMS_lb = RNNModel(vocabulary_size=len(word2idx), device=device, \n",
        "                      checkpoint_directory=checkpoint_directory)\n",
        "# Train model\n",
        "lstm_model_RMS_lb.fit(train_dataset,eval_dataset, optimizer=\"RMSProp\", num_epochs=10, \n",
        "                early_stopping_rounds=8, verbose=2, train_from_scratch=True,learningrate=1e-3,batch_size=512)"
      ]
    },
    {
      "cell_type": "code",
      "execution_count": 36,
      "metadata": {
        "id": "m_YEzrxN3x9G"
      },
      "outputs": [],
      "source": [
        "#lstm_model_RMS.save_model()\n",
        "checkpoint = tf.train.Checkpoint(lstm_model_RMS_lb)\n",
        "save_path = checkpoint.save(checkpoint_directory)"
      ]
    },
    {
      "cell_type": "code",
      "execution_count": 37,
      "metadata": {
        "id": "OnTgEEFw3vtI",
        "colab": {
          "base_uri": "https://localhost:8080/"
        },
        "outputId": "86fec8f2-0426-4f37-9a8a-7a5159767a57"
      },
      "outputs": [
        {
          "metadata": {
            "tags": null
          },
          "name": "stdout",
          "output_type": "stream",
          "text": [
            "WARNING:tensorflow:<keras.layers.legacy_rnn.rnn_cell_impl.BasicLSTMCell object at 0x7f124dc17cd0>: Note that this cell is not optimized for performance. Please use tf.contrib.cudnn_rnn.CudnnLSTM for better performance on GPU.\n"
          ]
        },
        {
          "metadata": {
            "tags": null
          },
          "name": "stderr",
          "output_type": "stream",
          "text": [
            "/usr/local/lib/python3.7/dist-packages/ipykernel_launcher.py:45: UserWarning: `tf.nn.rnn_cell.BasicLSTMCell` is deprecated and will be removed in a future version. This class is equivalent as `tf.keras.layers.LSTMCell`, and will be replaced by that in Tensorflow 2.0.\n",
            "/usr/local/lib/python3.7/dist-packages/keras/layers/legacy_rnn/rnn_cell_impl.py:756: UserWarning: `layer.add_variable` is deprecated and will be removed in a future version. Please use `layer.add_weight` method instead.\n",
            "  shape=[input_depth + h_depth, 4 * self._num_units])\n",
            "/usr/local/lib/python3.7/dist-packages/keras/layers/legacy_rnn/rnn_cell_impl.py:760: UserWarning: `layer.add_variable` is deprecated and will be removed in a future version. Please use `layer.add_weight` method instead.\n",
            "  initializer=tf.compat.v1.zeros_initializer(dtype=self.dtype))\n"
          ]
        },
        {
          "output_type": "stream",
          "name": "stdout",
          "text": [
            "Epoch: 1 -Train Accuracy:0.675300 - Eval Accuracy: 0.658200\n",
            "Epoch: 2 -Train Accuracy:0.781800 - Eval Accuracy: 0.748400\n",
            "Epoch: 4 -Train Accuracy:0.909450 - Eval Accuracy: 0.858000\n",
            "Epoch: 6 -Train Accuracy:0.987000 - Eval Accuracy: 0.881600\n",
            "Epoch: 8 -Train Accuracy:0.996950 - Eval Accuracy: 0.877200\n",
            "Epoch: 10 -Train Accuracy:0.998850 - Eval Accuracy: 0.880600\n",
            "\n",
            "Total time taken (in seconds): 3084.40\n"
          ]
        }
      ],
      "source": [
        "checkpoint_directory = 'models_checkpoints/LSTMRNN_RMS_LB2/'\n",
        "# Use the GPU if available.\n",
        "device = 'cpu:0'\n",
        "\n",
        "# Instantiate model. This doesn't initialize the variables yet.\n",
        "lstm_model_RMS_lb2 = RNNModel(vocabulary_size=len(word2idx), device=device, \n",
        "                      checkpoint_directory=checkpoint_directory)\n",
        "# Train model\n",
        "lstm_model_RMS_lb2.fit(train_dataset,eval_dataset, optimizer=\"RMSProp\", num_epochs=10, \n",
        "                early_stopping_rounds=10, verbose=2, train_from_scratch=True,learningrate=1e-2,batch_size=256)"
      ]
    },
    {
      "cell_type": "code",
      "execution_count": 38,
      "metadata": {
        "id": "j0QMfP1d3zHt"
      },
      "outputs": [],
      "source": [
        "#lstm_model_RMS.save_model()\n",
        "checkpoint = tf.train.Checkpoint(lstm_model_RMS_lb2)\n",
        "save_path = checkpoint.save(checkpoint_directory)"
      ]
    },
    {
      "cell_type": "markdown",
      "metadata": {
        "id": "SGNa2crh2g2p"
      },
      "source": [
        "# Model Training  RNN WITH RMSProp"
      ]
    },
    {
      "cell_type": "code",
      "execution_count": 52,
      "metadata": {
        "id": "OqTK4O6g2lyN",
        "colab": {
          "base_uri": "https://localhost:8080/"
        },
        "outputId": "36f3509f-7972-4f78-c0b3-589e615ec439"
      },
      "outputs": [
        {
          "output_type": "stream",
          "name": "stdout",
          "text": [
            "WARNING:tensorflow:<keras.layers.legacy_rnn.rnn_cell_impl.BasicLSTMCell object at 0x7f11b7b75750>: Note that this cell is not optimized for performance. Please use tf.contrib.cudnn_rnn.CudnnLSTM for better performance on GPU.\n"
          ]
        },
        {
          "output_type": "stream",
          "name": "stderr",
          "text": [
            "/usr/local/lib/python3.7/dist-packages/ipykernel_launcher.py:45: UserWarning: `tf.nn.rnn_cell.BasicLSTMCell` is deprecated and will be removed in a future version. This class is equivalent as `tf.keras.layers.LSTMCell`, and will be replaced by that in Tensorflow 2.0.\n",
            "/usr/local/lib/python3.7/dist-packages/keras/layers/legacy_rnn/rnn_cell_impl.py:756: UserWarning: `layer.add_variable` is deprecated and will be removed in a future version. Please use `layer.add_weight` method instead.\n",
            "  shape=[input_depth + h_depth, 4 * self._num_units])\n",
            "/usr/local/lib/python3.7/dist-packages/keras/layers/legacy_rnn/rnn_cell_impl.py:760: UserWarning: `layer.add_variable` is deprecated and will be removed in a future version. Please use `layer.add_weight` method instead.\n",
            "  initializer=tf.compat.v1.zeros_initializer(dtype=self.dtype))\n"
          ]
        },
        {
          "output_type": "stream",
          "name": "stdout",
          "text": [
            "Epoch: 1 -Train Accuracy:0.536300 - Eval Accuracy: 0.524000\n",
            "Epoch: 2 -Train Accuracy:0.553800 - Eval Accuracy: 0.544200\n",
            "Epoch: 4 -Train Accuracy:0.612850 - Eval Accuracy: 0.609400\n",
            "Epoch: 6 -Train Accuracy:0.701900 - Eval Accuracy: 0.689200\n",
            "Epoch: 8 -Train Accuracy:0.783000 - Eval Accuracy: 0.771600\n",
            "Epoch: 10 -Train Accuracy:0.854750 - Eval Accuracy: 0.825800\n",
            "\n",
            "Total time taken (in seconds): 2088.67\n"
          ]
        }
      ],
      "source": [
        "checkpoint_directory = 'models_checkpoints/UGRNN_RMS/'\n",
        "# Use the GPU if available.\n",
        "device = 'cpu:0'\n",
        "\n",
        "\n",
        "# Instantiate model. This doesn't initialize the variables yet.\n",
        "ugrnn_model_RMS = RNNModel(vocabulary_size=len(word2idx), device=device, \n",
        "                      checkpoint_directory=checkpoint_directory)\n",
        "# Train model\n",
        "ugrnn_model_RMS.fit(train_dataset,eval_dataset, optimizer=\"RMSProp\", num_epochs=10, \n",
        "                early_stopping_rounds=10, verbose=2, train_from_scratch=True)"
      ]
    },
    {
      "cell_type": "code",
      "source": [
        "#gru_model_RMS.save_model()\n",
        "checkpoint = tf.train.Checkpoint(ugrnn_model_RMS)\n",
        "save_path = checkpoint.save(checkpoint_directory)"
      ],
      "metadata": {
        "id": "a0wIRQm_CcQn"
      },
      "execution_count": 53,
      "outputs": []
    },
    {
      "cell_type": "code",
      "source": [
        "checkpoint_directory = 'models_checkpoints/UGRNN_RMS_LB/'\n",
        "# Use the GPU if available.\n",
        "device = 'cpu:0'\n",
        "\n",
        "\n",
        "# Instantiate model. This doesn't initialize the variables yet.\n",
        "ugrnn_model_RMS_lb = RNNModel(vocabulary_size=len(word2idx), device=device, \n",
        "                      checkpoint_directory=checkpoint_directory)\n",
        "# Train model\n",
        "ugrnn_model_RMS_lb.fit(train_dataset,eval_dataset, optimizer=\"RMSProp\", num_epochs=10, \n",
        "                early_stopping_rounds=10, verbose=2, train_from_scratch=True,learningrate=1e-3,batch_size=512)"
      ],
      "metadata": {
        "colab": {
          "base_uri": "https://localhost:8080/"
        },
        "id": "kkEPGDFLCeyY",
        "outputId": "9952872c-192f-44e3-b231-3d8ed128dfbe"
      },
      "execution_count": 54,
      "outputs": [
        {
          "output_type": "stream",
          "name": "stdout",
          "text": [
            "WARNING:tensorflow:<keras.layers.legacy_rnn.rnn_cell_impl.BasicLSTMCell object at 0x7f11ba7e1690>: Note that this cell is not optimized for performance. Please use tf.contrib.cudnn_rnn.CudnnLSTM for better performance on GPU.\n"
          ]
        },
        {
          "output_type": "stream",
          "name": "stderr",
          "text": [
            "/usr/local/lib/python3.7/dist-packages/ipykernel_launcher.py:45: UserWarning: `tf.nn.rnn_cell.BasicLSTMCell` is deprecated and will be removed in a future version. This class is equivalent as `tf.keras.layers.LSTMCell`, and will be replaced by that in Tensorflow 2.0.\n",
            "/usr/local/lib/python3.7/dist-packages/keras/layers/legacy_rnn/rnn_cell_impl.py:756: UserWarning: `layer.add_variable` is deprecated and will be removed in a future version. Please use `layer.add_weight` method instead.\n",
            "  shape=[input_depth + h_depth, 4 * self._num_units])\n",
            "/usr/local/lib/python3.7/dist-packages/keras/layers/legacy_rnn/rnn_cell_impl.py:760: UserWarning: `layer.add_variable` is deprecated and will be removed in a future version. Please use `layer.add_weight` method instead.\n",
            "  initializer=tf.compat.v1.zeros_initializer(dtype=self.dtype))\n"
          ]
        },
        {
          "output_type": "stream",
          "name": "stdout",
          "text": [
            "Epoch: 1 -Train Accuracy:0.560300 - Eval Accuracy: 0.562600\n",
            "Epoch: 2 -Train Accuracy:0.665800 - Eval Accuracy: 0.650400\n",
            "Epoch: 4 -Train Accuracy:0.899600 - Eval Accuracy: 0.839200\n",
            "Epoch: 6 -Train Accuracy:0.902850 - Eval Accuracy: 0.841600\n",
            "Epoch: 8 -Train Accuracy:0.944050 - Eval Accuracy: 0.851200\n",
            "Epoch: 10 -Train Accuracy:0.988300 - Eval Accuracy: 0.867800\n",
            "\n",
            "Total time taken (in seconds): 2458.82\n"
          ]
        }
      ]
    },
    {
      "cell_type": "code",
      "source": [
        "#gru_model_RMS.save_model()\n",
        "checkpoint = tf.train.Checkpoint(ugrnn_model_RMS_lb)\n",
        "save_path = checkpoint.save(checkpoint_directory)"
      ],
      "metadata": {
        "id": "6g9f07dNCtEN"
      },
      "execution_count": 55,
      "outputs": []
    },
    {
      "cell_type": "code",
      "source": [
        "checkpoint_directory = 'models_checkpoints/UGRNN_RMS_LB2/'\n",
        "# Use the GPU if available.\n",
        "device = 'cpu:0'\n",
        "\n",
        "\n",
        "# Instantiate model. This doesn't initialize the variables yet.\n",
        "ugrnn_model_RMS_lb2 = RNNModel(vocabulary_size=len(word2idx), device=device, \n",
        "                      checkpoint_directory=checkpoint_directory)\n",
        "# Train model\n",
        "ugrnn_model_RMS_lb2.fit(train_dataset,eval_dataset, optimizer=\"RMSProp\", num_epochs=10, \n",
        "                early_stopping_rounds=10, verbose=2, train_from_scratch=True,learningrate=1e-2,batch_size=256)"
      ],
      "metadata": {
        "colab": {
          "base_uri": "https://localhost:8080/"
        },
        "id": "7Of9xfcdCqhE",
        "outputId": "1141b4da-26a3-4f2d-bb7a-fb279f76f4b0"
      },
      "execution_count": 56,
      "outputs": [
        {
          "output_type": "stream",
          "name": "stdout",
          "text": [
            "WARNING:tensorflow:<keras.layers.legacy_rnn.rnn_cell_impl.BasicLSTMCell object at 0x7f11b79c7c90>: Note that this cell is not optimized for performance. Please use tf.contrib.cudnn_rnn.CudnnLSTM for better performance on GPU.\n"
          ]
        },
        {
          "output_type": "stream",
          "name": "stderr",
          "text": [
            "/usr/local/lib/python3.7/dist-packages/ipykernel_launcher.py:45: UserWarning: `tf.nn.rnn_cell.BasicLSTMCell` is deprecated and will be removed in a future version. This class is equivalent as `tf.keras.layers.LSTMCell`, and will be replaced by that in Tensorflow 2.0.\n",
            "/usr/local/lib/python3.7/dist-packages/keras/layers/legacy_rnn/rnn_cell_impl.py:756: UserWarning: `layer.add_variable` is deprecated and will be removed in a future version. Please use `layer.add_weight` method instead.\n",
            "  shape=[input_depth + h_depth, 4 * self._num_units])\n",
            "/usr/local/lib/python3.7/dist-packages/keras/layers/legacy_rnn/rnn_cell_impl.py:760: UserWarning: `layer.add_variable` is deprecated and will be removed in a future version. Please use `layer.add_weight` method instead.\n",
            "  initializer=tf.compat.v1.zeros_initializer(dtype=self.dtype))\n"
          ]
        },
        {
          "output_type": "stream",
          "name": "stdout",
          "text": [
            "Epoch: 1 -Train Accuracy:0.631000 - Eval Accuracy: 0.622400\n",
            "Epoch: 2 -Train Accuracy:0.771200 - Eval Accuracy: 0.723800\n",
            "Epoch: 4 -Train Accuracy:0.924600 - Eval Accuracy: 0.875600\n",
            "Epoch: 6 -Train Accuracy:0.985150 - Eval Accuracy: 0.885800\n",
            "Epoch: 8 -Train Accuracy:0.997650 - Eval Accuracy: 0.882000\n",
            "Epoch: 10 -Train Accuracy:0.999200 - Eval Accuracy: 0.884000\n",
            "\n",
            "Total time taken (in seconds): 3354.97\n"
          ]
        }
      ]
    },
    {
      "cell_type": "code",
      "source": [
        "#gru_model_RMS.save_model()\n",
        "checkpoint = tf.train.Checkpoint(ugrnn_model_RMS_lb2)\n",
        "save_path = checkpoint.save(checkpoint_directory)"
      ],
      "metadata": {
        "id": "4ieS1myhCzUb"
      },
      "execution_count": 57,
      "outputs": []
    },
    {
      "cell_type": "markdown",
      "metadata": {
        "id": "F-oocHLjEAY7"
      },
      "source": [
        "# Train RNN and LSTM models with different learning rates"
      ]
    },
    {
      "cell_type": "code",
      "execution_count": 86,
      "metadata": {
        "id": "bXiScPDjfdyv",
        "colab": {
          "base_uri": "https://localhost:8080/"
        },
        "outputId": "030fb5d7-a81a-4407-c022-37726080f073"
      },
      "outputs": [
        {
          "output_type": "stream",
          "name": "stdout",
          "text": [
            "For Adam with different learning rates and batch sizes\n",
            "\n",
            "Test accuracy for batch size 512 is 0.864080011844635 in time 87.61\n",
            "\n",
            ": \n",
            "Test accuracy for batch size 512 is 0.5242000222206116 in time 47.90\n",
            "\n",
            ": \n",
            "Test accuracy for batch size 512 is 0.8397200107574463 in time 87.36\n",
            "\n",
            ": \n",
            "Test accuracy for batch size 512 is 0.8191999793052673 in time 48.58\n",
            "\n",
            ": \n",
            "Test accuracy for batch size 256 is 0.8266800045967102 in time 117.12\n",
            "\n",
            ": \n",
            "Test accuracy for batch size 256 is 0.671239972114563 in time 64.79\n",
            "\n",
            ": \n"
          ]
        }
      ],
      "source": [
        "#testing the model\n",
        "print(\"For Adam with different learning rates and batch sizes\\n\")\n",
        "lstm_model.evaluate(test_dataset)\n",
        "ugrnn_model.evaluate(test_dataset)\n",
        "lstm_model_lb.evaluate(test_dataset,batch_size=512)\n",
        "ugrnn_model_lb.evaluate(test_dataset,batch_size=512)\n",
        "lstm_model_lb2.evaluate(test_dataset,batch_size=256)\n",
        "ugrnn_model_lb2.evaluate(test_dataset,batch_size=256)\n",
        "\n",
        "\n",
        "\n",
        "\n"
      ]
    },
    {
      "cell_type": "code",
      "source": [
        "\"\"\"\n",
        "print(\"For SGD with different learning rates and batch sizes\\n\")\n",
        "lstm_model_SGD.evaluate(test_dataset)\n",
        "ugrnn_model_SGD.evaluate(test_dataset)\n",
        "lstm_model_SGD_lb.evaluate(test_dataset,batch_size=512)\n",
        "ugrnn_model_SGD_lb.evaluate(test_dataset,batch_size=512)\n",
        "lstm_model_SGD_lb2.evaluate(test_dataset,batch_size=256)\n",
        "ugrnn_model_SGD_lb2.evaluate(test_dataset,batch_size=256)\n",
        "\"\"\""
      ],
      "metadata": {
        "id": "Jdv0Ijn5DOik"
      },
      "execution_count": null,
      "outputs": []
    },
    {
      "cell_type": "code",
      "source": [
        "print(\"For RMSProp with different learning rates and batch sizes\\n\")\n",
        "lstm_model_RMS.evaluate(test_dataset)\n",
        "ugrnn_model_RMS.evaluate(test_dataset)\n",
        "lstm_model_RMS_lb.evaluate(test_dataset,batch_size=512)\n",
        "ugrnn_model_RMS_lb.evaluate(test_dataset,batch_size=512)\n",
        "lstm_model_RMS_lb2.evaluate(test_dataset,batch_size=256)\n",
        "ugrnn_model_RMS_lb2.evaluate(test_dataset,batch_size=256)"
      ],
      "metadata": {
        "colab": {
          "base_uri": "https://localhost:8080/"
        },
        "id": "hdpsjdYKDMfk",
        "outputId": "154fdb7c-0a03-486d-8ba5-007713bfbfca"
      },
      "execution_count": 87,
      "outputs": [
        {
          "output_type": "stream",
          "name": "stdout",
          "text": [
            "For RMSProp with different learning rates and batch sizes\n",
            "\n",
            "Test accuracy for batch size 512 is 0.8012400269508362 in time 73.80\n",
            "\n",
            ": \n",
            "Test accuracy for batch size 512 is 0.8174800276756287 in time 92.39\n",
            "\n",
            ": \n",
            "Test accuracy for batch size 512 is 0.8416799902915955 in time 76.43\n",
            "\n",
            ": \n",
            "Test accuracy for batch size 512 is 0.8674799799919128 in time 74.25\n",
            "\n",
            ": \n",
            "Test accuracy for batch size 256 is 0.8674799799919128 in time 97.81\n",
            "\n",
            ": \n",
            "Test accuracy for batch size 256 is 0.8732399940490723 in time 96.84\n",
            "\n",
            ": \n"
          ]
        }
      ]
    },
    {
      "cell_type": "markdown",
      "metadata": {
        "id": "7HloeEKJP7Ub"
      },
      "source": [
        "### Performance comparison\n",
        "---"
      ]
    },
    {
      "cell_type": "code",
      "execution_count": null,
      "metadata": {
        "id": "LW-exJpxP7Ub"
      },
      "outputs": [],
      "source": [
        "\"\"\"f, (ax1, ax2,ax3) = plt.subplots(1, 2,3, sharey=True, figsize=(10, 4))\n",
        "ax1.plot(range(len(lstm_model.history['train_acc'])), lstm_model.history['train_acc'], \n",
        "         label='LSTM Adam Train Accuracy');\n",
        "ax1.plot(range(len(lstm_model.history['eval_acc'])), lstm_model.history['eval_acc'], \n",
        "         label='LSTM Adam Test Accuracy');\n",
        "ax2.plot(range(len(lstm_model_SGD.history['train_acc'])), lstm_model_SGD.history['train_acc'],\n",
        "         label='LSTM SGD Train Accuracy');\n",
        "ax2.plot(range(len(lstm_model_SGD.history['eval_acc'])), lstm_model_SGD.history['eval_acc'],\n",
        "         label='LSTM SGD Test Accuracy');\n",
        "ax3.plot(range(len(lstm_model_RMS.history['train_acc'])), lstm_model_RMS.history['train_acc'],\n",
        "         label='LSTM RMS Train Accuracy');\n",
        "ax3.plot(range(len(lstm_model_RMS.history['eval_acc'])), lstm_model_RMS.history['eval_acc'],\n",
        "         label='LSTM RMS Test Accuracy');\n",
        "ax1.legend();\n",
        "ax2.legend();\n",
        "ax3.legend();\"\"\""
      ]
    },
    {
      "cell_type": "code",
      "execution_count": null,
      "metadata": {
        "id": "oqKjTIDu73yY"
      },
      "outputs": [],
      "source": [
        "\"\"\"f, (ax1, ax2,ax3) = plt.subplots(1, 2,3, sharey=True, figsize=(10, 4))\n",
        "ax1.plot(range(len(lstm_model_lb.history['train_acc'])), lstm_model_lb.history['train_acc'], \n",
        "         label='LSTM Adam Train Accuracy');\n",
        "ax1.plot(range(len(lstm_model_lb.history['eval_acc'])), lstm_model_lb.history['eval_acc'], \n",
        "         label='LSTM Adam Test Accuracy');\n",
        "ax2.plot(range(len(lstm_model_SGD_lb.history['train_acc'])), lstm_model_SGD_lb.history['train_acc'],\n",
        "         label='LSTM SGD Train Accuracy');\n",
        "ax2.plot(range(len(lstm_model_SGD_lb.history['eval_acc'])), lstm_model_SGD_lb.history['eval_acc'],\n",
        "         label='LSTM SGD Test Accuracy');\n",
        "ax3.plot(range(len(lstm_model_RMS_lb.history['train_acc'])), lstm_model_RMS_lb.history['train_acc'],\n",
        "         label='LSTM RMS Train Accuracy');\n",
        "ax3.plot(range(len(lstm_model_RMS_lb.history['eval_acc'])), lstm_model_RMS_lb.history['eval_acc'],\n",
        "         label='LSTM RMS Test Accuracy');\n",
        "ax1.legend();\n",
        "ax2.legend();\n",
        "ax3.legend();\"\"\""
      ]
    },
    {
      "cell_type": "code",
      "execution_count": null,
      "metadata": {
        "id": "ETymh8iX74TN"
      },
      "outputs": [],
      "source": [
        "\"\"\"f, (ax1, ax2,ax3) = plt.subplots(1, 2,3, sharey=True, figsize=(10, 4))\n",
        "ax1.plot(range(len(lstm_model_lb2.history['train_acc'])), lstm_model_lb2.history['train_acc'], \n",
        "         label='LSTM Adam Train Accuracy');\n",
        "ax1.plot(range(len(lstm_model_lb2.history['eval_acc'])), lstm_model_lb2.history['eval_acc'], \n",
        "         label='LSTM Adam Test Accuracy');\n",
        "ax2.plot(range(len(lstm_model_SGD_lb2.history['train_acc'])), lstm_model_SGD_lb2.history['train_acc'],\n",
        "         label='LSTM SGD Train Accuracy');\n",
        "ax2.plot(range(len(lstm_model_SGD_lb2.history['eval_acc'])), lstm_model_SGD_lb2.history['eval_acc'],\n",
        "         label='LSTM SGD Test Accuracy');\n",
        "ax3.plot(range(len(lstm_model_RMS_lb2.history['train_acc'])), lstm_model_RMS_lb2.history['train_acc'],\n",
        "         label='LSTM RMS Train Accuracy');\n",
        "ax3.plot(range(len(lstm_model_RMS_lb2.history['eval_acc'])), lstm_model_RMS_lb2.history['eval_acc'],\n",
        "         label='LSTM RMS Test Accuracy');\n",
        "ax1.legend();\n",
        "ax2.legend();\n",
        "ax3.legend();\"\"\""
      ]
    },
    {
      "cell_type": "code",
      "execution_count": null,
      "metadata": {
        "id": "X9SdZwrT8tTa"
      },
      "outputs": [],
      "source": [
        "\"\"\"f, (ax1, ax2,ax3) = plt.subplots(1, 2,3, sharey=True, figsize=(10, 4))\n",
        "ax1.plot(range(len(ugrnn_model.history['train_acc'])), ugrnn_model.history['train_acc'], \n",
        "         label='UGRNN Adam Train Accuracy');\n",
        "ax1.plot(range(len(ugrnn_model.history['eval_acc'])), ugrnn_model.history['eval_acc'], \n",
        "         label='UGRNN Adam Test Accuracy');\n",
        "ax2.plot(range(len(ugrnn_model_SGD.history['train_acc'])), ugrnn_model_SGD.history['train_acc'],\n",
        "         label='UGRNN SGD Train Accuracy');\n",
        "ax2.plot(range(len(ugrnn_model_SGD.history['eval_acc'])), ugrnn_model_SGD.history['eval_acc'],\n",
        "         label='UGRNN SGD Test Accuracy');\n",
        "ax3.plot(range(len(ugrnn_model_RMS.history['train_acc'])), ugrnn_model_RMS.history['train_acc'],\n",
        "         label='UGRNN RMS Train Accuracy');\n",
        "ax3.plot(range(len(ugrnn_model_RMS.history['eval_acc'])), ugrnn_model_RMS.history['eval_acc'],\n",
        "         label='UGRNN RMS Test Accuracy');\n",
        "ax1.legend();\n",
        "ax2.legend();\n",
        "ax3.legend();\"\"\""
      ]
    },
    {
      "cell_type": "code",
      "execution_count": null,
      "metadata": {
        "id": "LWD4ydUj9Kuo"
      },
      "outputs": [],
      "source": [
        "\"\"\"f, (ax1, ax2,ax3) = plt.subplots(1, 2,3, sharey=True, figsize=(10, 4))\n",
        "ax1.plot(range(len(ugrnn_model_lb.history['train_acc'])), ugrnn_model_lb.history['train_acc'], \n",
        "         label='UGRNN Adam Train Accuracy');\n",
        "ax1.plot(range(len(ugrnn_model_lb.history['eval_acc'])), ugrnn_model_lb.history['eval_acc'], \n",
        "         label='UGRNN Adam Test Accuracy');\n",
        "ax2.plot(range(len(ugrnn_model_SGD_lb.history['train_acc'])), ugrnn_model_SGD_lb.history['train_acc'],\n",
        "         label='UGRNN SGD Train Accuracy');\n",
        "ax2.plot(range(len(ugrnn_model_SGD_lb.history['eval_acc'])), ugrnn_model_SGD_lb.history['eval_acc'],\n",
        "         label='UGRNN SGD Test Accuracy');\n",
        "ax3.plot(range(len(ugrnn_model_RMS_lb.history['train_acc'])), ugrnn_model_RMS_lb.history['train_acc'],\n",
        "         label='UGRNN RMS Train Accuracy');\n",
        "ax3.plot(range(len(ugrnn_model_RMS_lb.history['eval_acc'])), ugrnn_model_RMS_lb.history['eval_acc'],\n",
        "         label='UGRNN RMS Test Accuracy');\n",
        "ax1.legend();\n",
        "ax2.legend();\n",
        "ax3.legend();\"\"\""
      ]
    },
    {
      "cell_type": "code",
      "execution_count": null,
      "metadata": {
        "id": "wkrUr6YS9d4V"
      },
      "outputs": [],
      "source": [
        "\"\"\"f, (ax1, ax2,ax3) = plt.subplots(1, 2,3, sharey=True, figsize=(10, 4))\n",
        "ax1.plot(range(len(ugrnn_model_lb2.history['train_acc'])), ugrnn_model_lb2.history['train_acc'], \n",
        "         label='UGRNN Adam Train Accuracy');\n",
        "ax1.plot(range(len(ugrnn_model_lb2.history['eval_acc'])), ugrnn_model_lb2.history['eval_acc'], \n",
        "         label='UGRNN Adam Test Accuracy');\n",
        "ax2.plot(range(len(ugrnn_model_SGD_lb2.history['train_acc'])), ugrnn_model_SGD_lb2.history['train_acc'],\n",
        "         label='UGRNN SGD Train Accuracy');\n",
        "ax2.plot(range(len(ugrnn_model_SGD_lb2.history['eval_acc'])), ugrnn_model_SGD_lb2.history['eval_acc'],\n",
        "         label='UGRNN SGD Test Accuracy');\n",
        "ax3.plot(range(len(ugrnn_model_RMS_lb2.history['train_acc'])), ugrnn_model_RMS_lb2.history['train_acc'],\n",
        "         label='UGRNN RMS Train Accuracy');\n",
        "ax3.plot(range(len(ugrnn_model_RMS_lb2.history['eval_acc'])), ugrnn_model_RMS_lb2.history['eval_acc'],\n",
        "         label='UGRNN RMS Test Accuracy');\n",
        "ax1.legend();\n",
        "ax2.legend();\n",
        "ax3.legend();\n",
        "\"\"\""
      ]
    },
    {
      "cell_type": "markdown",
      "metadata": {
        "id": "PByP4rXGgRXB"
      },
      "source": [
        "# Performance Comparision  for differenet models"
      ]
    },
    {
      "cell_type": "code",
      "execution_count": 44,
      "metadata": {
        "id": "meA_n7pBgUPN",
        "colab": {
          "base_uri": "https://localhost:8080/",
          "height": 265
        },
        "outputId": "7cd185d0-71d7-408e-87cd-68c5f791b00c"
      },
      "outputs": [
        {
          "output_type": "display_data",
          "data": {
            "text/plain": [
              "<Figure size 720x288 with 2 Axes>"
            ],
            "image/png": "[encoded data removed]"
          },
          "metadata": {
            "needs_background": "light"
          }
        }
      ],
      "source": [
        "f, (ax1, ax2) = plt.subplots(1, 2, sharey=True, figsize=(10, 4))\n",
        "ax1.plot(range(len(lstm_model.history['train_acc'])), lstm_model.history['train_acc'], \n",
        "         label='LSTM Adam Train Accuracy');\n",
        "ax1.plot(range(len(lstm_model.history['eval_acc'])), lstm_model.history['eval_acc'], \n",
        "         label='LSTM Adam Test Accuracy');\n",
        "\n",
        "ax2.plot(range(len(lstm_model_RMS.history['train_acc'])), lstm_model_RMS.history['train_acc'],\n",
        "         label='LSTM RMS Train Accuracy');\n",
        "ax2.plot(range(len(lstm_model_RMS.history['eval_acc'])), lstm_model_RMS.history['eval_acc'],\n",
        "         label='LSTM RMS Test Accuracy');\n",
        "\n",
        "ax1.legend();\n",
        "ax2.legend();\n",
        "f.savefig('LSTM.png', dpi=f.dpi)"
      ]
    },
    {
      "cell_type": "code",
      "execution_count": 45,
      "metadata": {
        "id": "euKtyqVagdIq",
        "colab": {
          "base_uri": "https://localhost:8080/",
          "height": 265
        },
        "outputId": "1313f505-35ce-4272-968a-3436cde5fe66"
      },
      "outputs": [
        {
          "output_type": "display_data",
          "data": {
            "text/plain": [
              "<Figure size 720x288 with 2 Axes>"
            ],
            "image/png": "[encoded data removed]"
          },
          "metadata": {
            "needs_background": "light"
          }
        }
      ],
      "source": [
        "f, (ax1, ax2) = plt.subplots(1, 2, sharey=True, figsize=(10, 4))\n",
        "ax1.plot(range(len(lstm_model_lb.history['train_acc'])), lstm_model_lb.history['train_acc'], \n",
        "         label='LSTM Adam Train Accuracy');\n",
        "ax1.plot(range(len(lstm_model_lb.history['eval_acc'])), lstm_model_lb.history['eval_acc'], \n",
        "         label='LSTM Adam Test Accuracy');\n",
        "\n",
        "ax2.plot(range(len(lstm_model_RMS_lb.history['train_acc'])), lstm_model_RMS_lb.history['train_acc'],\n",
        "         label='LSTM RMS Train Accuracy');\n",
        "ax2.plot(range(len(lstm_model_RMS_lb.history['eval_acc'])), lstm_model_RMS_lb.history['eval_acc'],\n",
        "         label='LSTM RMS Test Accuracy');\n",
        "\n",
        "ax1.legend();\n",
        "ax2.legend();\n",
        "f.savefig('LSTM_lb.png', dpi=f.dpi)"
      ]
    },
    {
      "cell_type": "code",
      "execution_count": 46,
      "metadata": {
        "id": "ZfJgdmOagjmS",
        "colab": {
          "base_uri": "https://localhost:8080/",
          "height": 265
        },
        "outputId": "e3a66698-57b0-4a0d-97b8-3dc5743240c6"
      },
      "outputs": [
        {
          "output_type": "display_data",
          "data": {
            "text/plain": [
              "<Figure size 720x288 with 2 Axes>"
            ],
            "image/png": "[encoded data removed]"
          },
          "metadata": {
            "needs_background": "light"
          }
        }
      ],
      "source": [
        "f, (ax1, ax2) = plt.subplots(1, 2, sharey=True, figsize=(10, 4))\n",
        "ax1.plot(range(len(lstm_model_lb2.history['train_acc'])), lstm_model_lb2.history['train_acc'], \n",
        "         label='LSTM Adam Train Accuracy');\n",
        "ax1.plot(range(len(lstm_model_lb2.history['eval_acc'])), lstm_model_lb2.history['eval_acc'], \n",
        "         label='LSTM Adam Test Accuracy');\n",
        "\n",
        "ax2.plot(range(len(lstm_model_RMS_lb2.history['train_acc'])), lstm_model_RMS_lb2.history['train_acc'],\n",
        "         label='LSTM RMS Train Accuracy');\n",
        "ax2.plot(range(len(lstm_model_RMS_lb2.history['eval_acc'])), lstm_model_RMS_lb2.history['eval_acc'],\n",
        "         label='LSTM RMS Test Accuracy');\n",
        "ax1.legend();\n",
        "ax2.legend();\n",
        "f.savefig('LSTM_lb2.png', dpi=f.dpi)"
      ]
    },
    {
      "cell_type": "code",
      "execution_count": 47,
      "metadata": {
        "id": "qCr5GtEFgkzx",
        "colab": {
          "base_uri": "https://localhost:8080/",
          "height": 265
        },
        "outputId": "94445742-ae28-486b-b9ad-723a0f649b15"
      },
      "outputs": [
        {
          "output_type": "display_data",
          "data": {
            "text/plain": [
              "<Figure size 720x288 with 2 Axes>"
            ],
            "image/png": "[encoded data removed]"
          },
          "metadata": {
            "needs_background": "light"
          }
        }
      ],
      "source": [
        "f, (ax1, ax2) = plt.subplots(1, 2, sharey=True, figsize=(10, 4))\n",
        "ax1.plot(range(len(ugrnn_model.history['train_acc'])), ugrnn_model.history['train_acc'], \n",
        "         label='UGRNN Adam Train Accuracy');\n",
        "ax1.plot(range(len(ugrnn_model.history['eval_acc'])), ugrnn_model.history['eval_acc'], \n",
        "         label='UGRNN Adam Test Accuracy');\n",
        "\n",
        "ax2.plot(range(len(ugrnn_model_RMS.history['train_acc'])), ugrnn_model_RMS.history['train_acc'],\n",
        "         label='UGRNN RMS Train Accuracy');\n",
        "ax2.plot(range(len(ugrnn_model_RMS.history['eval_acc'])), ugrnn_model_RMS.history['eval_acc'],\n",
        "         label='UGRNN RMS Test Accuracy');\n",
        "\n",
        "ax1.legend();\n",
        "ax2.legend();\n",
        "f.savefig('UGRNN.png', dpi=f.dpi)"
      ]
    },
    {
      "cell_type": "code",
      "execution_count": 58,
      "metadata": {
        "id": "E1Kot0zigk_5",
        "colab": {
          "base_uri": "https://localhost:8080/",
          "height": 265
        },
        "outputId": "eb4cd45f-84ca-4e84-e656-7e34256e7fa4"
      },
      "outputs": [
        {
          "output_type": "display_data",
          "data": {
            "text/plain": [
              "<Figure size 720x288 with 2 Axes>"
            ],
            "image/png": "[encoded data removed]"
          },
          "metadata": {
            "needs_background": "light"
          }
        }
      ],
      "source": [
        "f, (ax1, ax2) = plt.subplots(1, 2, sharey=True, figsize=(10, 4))\n",
        "ax1.plot(range(len(ugrnn_model_lb.history['train_acc'])), ugrnn_model_lb.history['train_acc'], \n",
        "         label='UGRNN Adam Train Accuracy');\n",
        "ax1.plot(range(len(ugrnn_model_lb.history['eval_acc'])), ugrnn_model_lb.history['eval_acc'], \n",
        "         label='UGRNN Adam Test Accuracy');\n",
        "ax2.plot(range(len(ugrnn_model_RMS_lb.history['train_acc'])), ugrnn_model_RMS_lb.history['train_acc'],\n",
        "         label='UGRNN RMS Train Accuracy');\n",
        "ax2.plot(range(len(ugrnn_model_RMS_lb.history['eval_acc'])), ugrnn_model_RMS_lb.history['eval_acc'],\n",
        "         label='UGRNN RMS Test Accuracy');\n",
        "\n",
        "ax1.legend();\n",
        "ax2.legend();\n",
        "f.savefig('UGRNN_lb.png', dpi=f.dpi)"
      ]
    },
    {
      "cell_type": "code",
      "execution_count": 59,
      "metadata": {
        "id": "am-TAnKEglOE",
        "colab": {
          "base_uri": "https://localhost:8080/",
          "height": 265
        },
        "outputId": "40fb3ceb-0d50-452f-def2-a03e10e91dea"
      },
      "outputs": [
        {
          "output_type": "display_data",
          "data": {
            "text/plain": [
              "<Figure size 720x288 with 2 Axes>"
            ],
            "image/png": "[encoded data removed]"
          },
          "metadata": {
            "needs_background": "light"
          }
        }
      ],
      "source": [
        "f, (ax1, ax2) = plt.subplots(1, 2, sharey=True, figsize=(10, 4))\n",
        "ax1.plot(range(len(ugrnn_model_lb2.history['train_acc'])), ugrnn_model_lb2.history['train_acc'], \n",
        "         label='UGRNN Adam Train Accuracy');\n",
        "ax1.plot(range(len(ugrnn_model_lb2.history['eval_acc'])), ugrnn_model_lb2.history['eval_acc'], \n",
        "         label='UGRNN Adam Test Accuracy');\n",
        "\n",
        "ax2.plot(range(len(ugrnn_model_RMS_lb2.history['train_acc'])), ugrnn_model_RMS_lb2.history['train_acc'],\n",
        "         label='UGRNN RMS Train Accuracy');\n",
        "ax2.plot(range(len(ugrnn_model_RMS_lb2.history['eval_acc'])), ugrnn_model_RMS_lb2.history['eval_acc'],\n",
        "         label='UGRNN RMS Test Accuracy');\n",
        "\n",
        "ax1.legend();\n",
        "ax2.legend();\n",
        "f.savefig('UGRNN_lb2.png', dpi=f.dpi)"
      ]
    },
    {
      "cell_type": "markdown",
      "metadata": {
        "id": "XrMkRP-0P7Ub"
      },
      "source": [
        "## Test network on new samples\n",
        "---\n",
        "\n"
      ]
    },
    {
      "cell_type": "code",
      "execution_count": 60,
      "metadata": {
        "id": "nXSOpyz0P7Uc"
      },
      "outputs": [],
      "source": [
        "###############################################################\n",
        "# Import/download necessary libraries to process new sequences\n",
        "###############################################################\n",
        "import nltk\n",
        "try:\n",
        "    nltk.data.find('tokenizers/punkt')\n",
        "except LookupError:\n",
        "    nltk.download('punkt')\n",
        "from nltk.tokenize import word_tokenize\n",
        "import re"
      ]
    },
    {
      "cell_type": "code",
      "execution_count": 61,
      "metadata": {
        "id": "5zDt0vVlP7Uc"
      },
      "outputs": [],
      "source": [
        "def process_new_review(review):\n",
        "    '''Function to process a new review.\n",
        "       Args:\n",
        "           review: original text review, string.\n",
        "       Returns:\n",
        "           indexed_review: sequence of integers, words correspondence \n",
        "                           from word2idx.\n",
        "           seq_length: the length of the review.\n",
        "    '''\n",
        "    indexed_review = re.sub(r'<[^>]+>', ' ', review)\n",
        "    indexed_review = word_tokenize(indexed_review)\n",
        "    indexed_review = [word2idx[word] if word in list(word2idx.keys()) else \n",
        "                      word2idx['Unknown_token'] for word in indexed_review]\n",
        "    indexed_review = indexed_review + [word2idx['End_token']]\n",
        "    seq_length = len(indexed_review)    \n",
        "    return indexed_review, seq_length"
      ]
    },
    {
      "cell_type": "code",
      "execution_count": 62,
      "metadata": {
        "id": "8ZmRTbHCP7Uc"
      },
      "outputs": [],
      "source": [
        "sent_dict = {0: 'negative', 1: 'positive'}"
      ]
    },
    {
      "cell_type": "code",
      "execution_count": 63,
      "metadata": {
        "id": "lo8W4xfdP7Uc"
      },
      "outputs": [],
      "source": [
        "review_score_10 = \"I think Bad Apples is a great time and I recommend! I enjoyed the opening, which gave way for the rest of the movie to occur. The main couple was very likable and I believed all of their interactions. They had great onscreen chemistry and made me laugh quite a few times! Keeping the girls in the masks but seeing them in action was something I loved. It kept a mystery to them throughout. I think the dialogue was great. The kills were fun. And the special surprise gore effect at the end was AWESOME!! I won't spoil that part ;) I also enjoyed how the movie wrapped up. It gave a very urban legends type feel of \\\"did you ever hear the story...\\\". Plus is leaves the door open for another film which I wouldn't mind at all. Long story short, I think if you take the film for what it is; a fun little horror flick, then you won't be disappointed! HaPpY eArLy HaLLoWeEn!\""
      ]
    },
    {
      "cell_type": "code",
      "execution_count": 64,
      "metadata": {
        "id": "jL2PWrzPP7Uc"
      },
      "outputs": [],
      "source": [
        "review_score_4 = \"A young couple comes to a small town, where the husband get a job working in a hospital. The wife which you instantly hate or dislike works home, at the same time a horrible murders takes place in this small town by two masked killers. Bad Apples is just your tipical B-horror movie with average acting (I give them that. Altough you may get the idea that some of the actors are crazy-convervative Christians), but the script is just bad, and that's what destroys the film.\""
      ]
    },
    {
      "cell_type": "code",
      "execution_count": 65,
      "metadata": {
        "id": "dGJG7F6kP7Uc"
      },
      "outputs": [],
      "source": [
        "review_score_1 = \"When you first start watching this movie, you can tell its going to be a painful ride. the audio is poor...the attacks by the \\\"girls\\\" are like going back in time, to watching the old rocky films, were blows never touched. the editing is poor with it aswell, example the actress in is the bath when her husband comes home, clearly you see her wearing a flesh coloured bra in the bath. no hints or spoilers, just wait till you find it in a bargain basket of cheap dvds in a couple of weeks\""
      ]
    },
    {
      "cell_type": "code",
      "execution_count": 66,
      "metadata": {
        "id": "M-hrh4LCP7Ud"
      },
      "outputs": [],
      "source": [
        "new_reviews = [review_score_10, review_score_4, review_score_1]\n",
        "scores = [10, 4, 1]"
      ]
    },
    {
      "cell_type": "code",
      "execution_count": 67,
      "metadata": {
        "id": "OvVuzgTwP7Ud",
        "colab": {
          "base_uri": "https://localhost:8080/"
        },
        "outputId": "ef1cb571-1e80-4d2d-c0ea-73957d44bf60"
      },
      "outputs": [
        {
          "output_type": "stream",
          "name": "stdout",
          "text": [
            "Adam LSTM (1024,1e-4) The sentiment for the review with score 10 was found to be positive\n",
            "Adam LSTM (1024,1e-4) The sentiment for the review with score 4 was found to be negative\n",
            "Adam LSTM (1024,1e-4) The sentiment for the review with score 1 was found to be negative\n"
          ]
        }
      ],
      "source": [
        "\n",
        "with tf.device(device):\n",
        "    for original_review, score in zip(new_reviews, scores):\n",
        "        indexed_review, seq_length = process_new_review(original_review)\n",
        "        indexed_review = tf.reshape(tf.constant(indexed_review), (1,-1))\n",
        "        seq_length = tf.reshape(tf.constant(seq_length), (1,))\n",
        "        logits = lstm_model.predict(indexed_review, seq_length, False)\n",
        "        pred = tf.argmax(logits, axis=1).numpy()[0]\n",
        "        print('Adam LSTM (1024,1e-4) The sentiment for the review with score %d was found to be %s'\n",
        "              %(score, sent_dict[pred]))"
      ]
    },
    {
      "cell_type": "code",
      "source": [
        "with tf.device(device):\n",
        "    for original_review, score in zip(new_reviews, scores):\n",
        "        indexed_review, seq_length = process_new_review(original_review)\n",
        "        indexed_review = tf.reshape(tf.constant(indexed_review), (1,-1))\n",
        "        seq_length = tf.reshape(tf.constant(seq_length), (1,))\n",
        "        logits = lstm_model_lb.predict(indexed_review, seq_length, False)\n",
        "        pred = tf.argmax(logits, axis=1).numpy()[0]\n",
        "        print('Adam LSTM (512,1e-3) The sentiment for the review with score %d was found to be %s'\n",
        "              %(score, sent_dict[pred]))"
      ],
      "metadata": {
        "colab": {
          "base_uri": "https://localhost:8080/"
        },
        "id": "q7DekObAfHl0",
        "outputId": "a87301be-585b-482f-dabe-80c76a490d81"
      },
      "execution_count": 70,
      "outputs": [
        {
          "output_type": "stream",
          "name": "stdout",
          "text": [
            "Adam LSTM (512,1e-3) The sentiment for the review with score 10 was found to be positive\n",
            "Adam LSTM (512,1e-3) The sentiment for the review with score 4 was found to be negative\n",
            "Adam LSTM (512,1e-3) The sentiment for the review with score 1 was found to be negative\n"
          ]
        }
      ]
    },
    {
      "cell_type": "code",
      "source": [
        "with tf.device(device):\n",
        "    for original_review, score in zip(new_reviews, scores):\n",
        "        indexed_review, seq_length = process_new_review(original_review)\n",
        "        indexed_review = tf.reshape(tf.constant(indexed_review), (1,-1))\n",
        "        seq_length = tf.reshape(tf.constant(seq_length), (1,))\n",
        "        logits = lstm_model_lb2.predict(indexed_review, seq_length, False)\n",
        "        pred = tf.argmax(logits, axis=1).numpy()[0]\n",
        "        print('Adam LSTM (256,1e-2) The sentiment for the review with score %d was found to be %s'\n",
        "              %(score, sent_dict[pred]))"
      ],
      "metadata": {
        "colab": {
          "base_uri": "https://localhost:8080/"
        },
        "id": "I-zE05E_fH8i",
        "outputId": "b684e1df-a387-4ec3-8859-eb85d45f931a"
      },
      "execution_count": 71,
      "outputs": [
        {
          "output_type": "stream",
          "name": "stdout",
          "text": [
            "Adam LSTM (256,1e-2) The sentiment for the review with score 10 was found to be positive\n",
            "Adam LSTM (256,1e-2) The sentiment for the review with score 4 was found to be negative\n",
            "Adam LSTM (256,1e-2) The sentiment for the review with score 1 was found to be negative\n"
          ]
        }
      ]
    },
    {
      "cell_type": "code",
      "source": [
        "with tf.device(device):\n",
        "    for original_review, score in zip(new_reviews, scores):\n",
        "        indexed_review, seq_length = process_new_review(original_review)\n",
        "        indexed_review = tf.reshape(tf.constant(indexed_review), (1,-1))\n",
        "        seq_length = tf.reshape(tf.constant(seq_length), (1,))\n",
        "        logits = lstm_model_RMS.predict(indexed_review, seq_length, False)\n",
        "        pred = tf.argmax(logits, axis=1).numpy()[0]\n",
        "        print('RMS LSTM (1024,1e-4) The sentiment for the review with score %d was found to be %s'\n",
        "              %(score, sent_dict[pred]))"
      ],
      "metadata": {
        "colab": {
          "base_uri": "https://localhost:8080/"
        },
        "id": "3-Xc0oGlfIJc",
        "outputId": "a2ce3b34-48ff-4d39-a8a7-0e394fa671a6"
      },
      "execution_count": 72,
      "outputs": [
        {
          "output_type": "stream",
          "name": "stdout",
          "text": [
            "RMS LSTM (1024,1e-4) The sentiment for the review with score 10 was found to be positive\n",
            "RMS LSTM (1024,1e-4) The sentiment for the review with score 4 was found to be negative\n",
            "RMS LSTM (1024,1e-4) The sentiment for the review with score 1 was found to be negative\n"
          ]
        }
      ]
    },
    {
      "cell_type": "code",
      "source": [
        "with tf.device(device):\n",
        "    for original_review, score in zip(new_reviews, scores):\n",
        "        indexed_review, seq_length = process_new_review(original_review)\n",
        "        indexed_review = tf.reshape(tf.constant(indexed_review), (1,-1))\n",
        "        seq_length = tf.reshape(tf.constant(seq_length), (1,))\n",
        "        logits = lstm_model_RMS_lb.predict(indexed_review, seq_length, False)\n",
        "        pred = tf.argmax(logits, axis=1).numpy()[0]\n",
        "        print('RMS LSTM (512,1e-3) The sentiment for the review with score %d was found to be %s'\n",
        "              %(score, sent_dict[pred]))"
      ],
      "metadata": {
        "colab": {
          "base_uri": "https://localhost:8080/"
        },
        "id": "w04Vd82TfIVs",
        "outputId": "c79ac646-4dd5-42b5-b844-185171efc865"
      },
      "execution_count": 73,
      "outputs": [
        {
          "output_type": "stream",
          "name": "stdout",
          "text": [
            "RMS LSTM (512,1e-3) The sentiment for the review with score 10 was found to be positive\n",
            "RMS LSTM (512,1e-3) The sentiment for the review with score 4 was found to be negative\n",
            "RMS LSTM (512,1e-3) The sentiment for the review with score 1 was found to be negative\n"
          ]
        }
      ]
    },
    {
      "cell_type": "code",
      "source": [
        "with tf.device(device):\n",
        "    for original_review, score in zip(new_reviews, scores):\n",
        "        indexed_review, seq_length = process_new_review(original_review)\n",
        "        indexed_review = tf.reshape(tf.constant(indexed_review), (1,-1))\n",
        "        seq_length = tf.reshape(tf.constant(seq_length), (1,))\n",
        "        logits = lstm_model_RMS_lb2.predict(indexed_review, seq_length, False)\n",
        "        pred = tf.argmax(logits, axis=1).numpy()[0]\n",
        "        print('RMS LSTM (256,1e-2) The sentiment for the review with score %d was found to be %s'\n",
        "              %(score, sent_dict[pred]))"
      ],
      "metadata": {
        "colab": {
          "base_uri": "https://localhost:8080/"
        },
        "id": "uVqov6J9fSEU",
        "outputId": "c5f73819-5c4e-49d2-bf26-148a1519ee84"
      },
      "execution_count": 74,
      "outputs": [
        {
          "output_type": "stream",
          "name": "stdout",
          "text": [
            "RMS LSTM (256,1e-2) The sentiment for the review with score 10 was found to be positive\n",
            "RMS LSTM (256,1e-2) The sentiment for the review with score 4 was found to be negative\n",
            "RMS LSTM (256,1e-2) The sentiment for the review with score 1 was found to be negative\n"
          ]
        }
      ]
    },
    {
      "cell_type": "code",
      "source": [
        "with tf.device(device):\n",
        "    for original_review, score in zip(new_reviews, scores):\n",
        "        indexed_review, seq_length = process_new_review(original_review)\n",
        "        indexed_review = tf.reshape(tf.constant(indexed_review), (1,-1))\n",
        "        seq_length = tf.reshape(tf.constant(seq_length), (1,))\n",
        "        logits = ugrnn_model.predict(indexed_review, seq_length, False)\n",
        "        pred = tf.argmax(logits, axis=1).numpy()[0]\n",
        "        print('Adam UGRNN (1024,1e-4) The sentiment for the review with score %d was found to be %s'\n",
        "              %(score, sent_dict[pred]))"
      ],
      "metadata": {
        "colab": {
          "base_uri": "https://localhost:8080/"
        },
        "id": "vqARHju1fSh4",
        "outputId": "6b3aefb5-8711-414f-eacf-eaa25d7a7e62"
      },
      "execution_count": 75,
      "outputs": [
        {
          "output_type": "stream",
          "name": "stdout",
          "text": [
            "Adam UGRNN (1024,1e-4) The sentiment for the review with score 10 was found to be positive\n",
            "Adam UGRNN (1024,1e-4) The sentiment for the review with score 4 was found to be positive\n",
            "Adam UGRNN (1024,1e-4) The sentiment for the review with score 1 was found to be positive\n"
          ]
        }
      ]
    },
    {
      "cell_type": "code",
      "source": [
        "with tf.device(device):\n",
        "    for original_review, score in zip(new_reviews, scores):\n",
        "        indexed_review, seq_length = process_new_review(original_review)\n",
        "        indexed_review = tf.reshape(tf.constant(indexed_review), (1,-1))\n",
        "        seq_length = tf.reshape(tf.constant(seq_length), (1,))\n",
        "        logits = ugrnn_model_lb.predict(indexed_review, seq_length, False)\n",
        "        pred = tf.argmax(logits, axis=1).numpy()[0]\n",
        "        print('ADAM UGRNN (512,1e-3) The sentiment for the review with score %d was found to be %s'\n",
        "              %(score, sent_dict[pred]))"
      ],
      "metadata": {
        "colab": {
          "base_uri": "https://localhost:8080/"
        },
        "id": "LpY4hKQ-fSs1",
        "outputId": "7d9fc9ab-e4e0-4dd0-939e-844434874081"
      },
      "execution_count": 76,
      "outputs": [
        {
          "output_type": "stream",
          "name": "stdout",
          "text": [
            "ADAM UGRNN (512,1e-3) The sentiment for the review with score 10 was found to be positive\n",
            "ADAM UGRNN (512,1e-3) The sentiment for the review with score 4 was found to be negative\n",
            "ADAM UGRNN (512,1e-3) The sentiment for the review with score 1 was found to be negative\n"
          ]
        }
      ]
    },
    {
      "cell_type": "code",
      "source": [
        "with tf.device(device):\n",
        "    for original_review, score in zip(new_reviews, scores):\n",
        "        indexed_review, seq_length = process_new_review(original_review)\n",
        "        indexed_review = tf.reshape(tf.constant(indexed_review), (1,-1))\n",
        "        seq_length = tf.reshape(tf.constant(seq_length), (1,))\n",
        "        logits = ugrnn_model_lb2.predict(indexed_review, seq_length, False)\n",
        "        pred = tf.argmax(logits, axis=1).numpy()[0]\n",
        "        print('Adam UGRNN (256,1e-2) The sentiment for the review with score %d was found to be %s'\n",
        "              %(score, sent_dict[pred]))"
      ],
      "metadata": {
        "colab": {
          "base_uri": "https://localhost:8080/"
        },
        "id": "kzjEXkdcfS4I",
        "outputId": "4a1e16fa-3ee2-401d-ae8b-3383b0a1de46"
      },
      "execution_count": 77,
      "outputs": [
        {
          "output_type": "stream",
          "name": "stdout",
          "text": [
            "Adam UGRNN (256,1e-2) The sentiment for the review with score 10 was found to be negative\n",
            "Adam UGRNN (256,1e-2) The sentiment for the review with score 4 was found to be positive\n",
            "Adam UGRNN (256,1e-2) The sentiment for the review with score 1 was found to be positive\n"
          ]
        }
      ]
    },
    {
      "cell_type": "code",
      "source": [
        "with tf.device(device):\n",
        "    for original_review, score in zip(new_reviews, scores):\n",
        "        indexed_review, seq_length = process_new_review(original_review)\n",
        "        indexed_review = tf.reshape(tf.constant(indexed_review), (1,-1))\n",
        "        seq_length = tf.reshape(tf.constant(seq_length), (1,))\n",
        "        logits = ugrnn_model_RMS.predict(indexed_review, seq_length, False)\n",
        "        pred = tf.argmax(logits, axis=1).numpy()[0]\n",
        "        print('RMS UGRNN (1024,1e-4) The sentiment for the review with score %d was found to be %s'\n",
        "              %(score, sent_dict[pred]))"
      ],
      "metadata": {
        "colab": {
          "base_uri": "https://localhost:8080/"
        },
        "id": "BlFNUCIVfTFp",
        "outputId": "acb51575-0774-420a-eeb5-c23b154eda4c"
      },
      "execution_count": 78,
      "outputs": [
        {
          "output_type": "stream",
          "name": "stdout",
          "text": [
            "RMS UGRNN (1024,1e-4) The sentiment for the review with score 10 was found to be positive\n",
            "RMS UGRNN (1024,1e-4) The sentiment for the review with score 4 was found to be negative\n",
            "RMS UGRNN (1024,1e-4) The sentiment for the review with score 1 was found to be negative\n"
          ]
        }
      ]
    },
    {
      "cell_type": "code",
      "source": [
        "with tf.device(device):\n",
        "    for original_review, score in zip(new_reviews, scores):\n",
        "        indexed_review, seq_length = process_new_review(original_review)\n",
        "        indexed_review = tf.reshape(tf.constant(indexed_review), (1,-1))\n",
        "        seq_length = tf.reshape(tf.constant(seq_length), (1,))\n",
        "        logits = ugrnn_model_RMS_lb.predict(indexed_review, seq_length, False)\n",
        "        pred = tf.argmax(logits, axis=1).numpy()[0]\n",
        "        print('RMS UGRNN (512,1e-3) The sentiment for the review with score %d was found to be %s'\n",
        "              %(score, sent_dict[pred]))"
      ],
      "metadata": {
        "colab": {
          "base_uri": "https://localhost:8080/"
        },
        "id": "ayyERqO2fTRB",
        "outputId": "083b8a39-ee5b-4199-dd95-4025714015db"
      },
      "execution_count": 79,
      "outputs": [
        {
          "output_type": "stream",
          "name": "stdout",
          "text": [
            "RMS UGRNN (512,1e-3) The sentiment for the review with score 10 was found to be positive\n",
            "RMS UGRNN (512,1e-3) The sentiment for the review with score 4 was found to be negative\n",
            "RMS UGRNN (512,1e-3) The sentiment for the review with score 1 was found to be negative\n"
          ]
        }
      ]
    },
    {
      "cell_type": "code",
      "source": [
        "with tf.device(device):\n",
        "    for original_review, score in zip(new_reviews, scores):\n",
        "        indexed_review, seq_length = process_new_review(original_review)\n",
        "        indexed_review = tf.reshape(tf.constant(indexed_review), (1,-1))\n",
        "        seq_length = tf.reshape(tf.constant(seq_length), (1,))\n",
        "        logits = ugrnn_model_RMS_lb2.predict(indexed_review, seq_length, False)\n",
        "        pred = tf.argmax(logits, axis=1).numpy()[0]\n",
        "        print('RMS UGRNN (256,1e-2) The sentiment for the review with score %d was found to be %s'\n",
        "              %(score, sent_dict[pred]))"
      ],
      "metadata": {
        "colab": {
          "base_uri": "https://localhost:8080/"
        },
        "id": "NCISqr-_fTcf",
        "outputId": "ce332ca4-995c-46d2-c0a1-7421b20f82a8"
      },
      "execution_count": 80,
      "outputs": [
        {
          "output_type": "stream",
          "name": "stdout",
          "text": [
            "RMS UGRNN (256,1e-2) The sentiment for the review with score 10 was found to be positive\n",
            "RMS UGRNN (256,1e-2) The sentiment for the review with score 4 was found to be negative\n",
            "RMS UGRNN (256,1e-2) The sentiment for the review with score 1 was found to be negative\n"
          ]
        }
      ]
    }
  ],
  "metadata": {
    "accelerator": "GPU",
    "colab": {
      "collapsed_sections": [],
      "name": "IST597_SP22_RNN.ipynb",
      "provenance": []
    },
    "kernelspec": {
      "display_name": "Python 3",
      "language": "python",
      "name": "python3"
    },
    "language_info": {
      "codemirror_mode": {
        "name": "ipython",
        "version": 3
      },
      "file_extension": ".py",
      "mimetype": "text/x-python",
      "name": "python",
      "nbconvert_exporter": "python",
      "pygments_lexer": "ipython3",
      "version": "3.6.4"
    }
  },
  "nbformat": 4,
  "nbformat_minor": 0
}