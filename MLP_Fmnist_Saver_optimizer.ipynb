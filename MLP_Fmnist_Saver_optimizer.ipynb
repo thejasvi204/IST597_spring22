{
  "cells": [
    {
      "cell_type": "markdown",
      "metadata": {
        "id": "view-in-github"
      },
      "source": [
        "<a href=\"https://colab.research.google.com/github/AnkurMali/IST597_Spring_2022/blob/main/MLP_Fmnist_Saver_optimizer.ipynb\" target=\"_parent\"><img src=\"https://colab.research.google.com/assets/colab-badge.svg\" alt=\"Open In Colab\"/></a>"
      ]
    },
    {
      "cell_type": "code",
      "execution_count": 1,
      "metadata": {
        "id": "_iYcla4kCX67",
        "colab": {
          "base_uri": "https://localhost:8080/"
        },
        "outputId": "1285f6a3-af53-408b-ff33-5202736231c8"
      },
      "outputs": [
        {
          "output_type": "execute_result",
          "data": {
            "text/plain": [
              "[]"
            ]
          },
          "metadata": {},
          "execution_count": 1
        }
      ],
      "source": [
        "# baseline cnn model for fashion mnist\n",
        "import os\n",
        "import numpy as np\n",
        "import time\n",
        "import tensorflow as tf\n",
        "import matplotlib.pyplot as plt\n",
        "%matplotlib inline\n",
        "from tensorflow.keras.datasets import fashion_mnist\n",
        "from tensorflow.keras.utils import to_categorical\n",
        "seed=5097\n",
        "np.random.seed(seed)\n",
        "tf.random.set_seed(seed)\n",
        "tf.config.list_physical_devices('GPU')"
      ]
    },
    {
      "cell_type": "code",
      "source": [
        "\n",
        "number_of_train_examples = 60000 #60000\n",
        "number_of_test_examples = 10000   #10000"
      ],
      "metadata": {
        "id": "1YSw24HqXWoy"
      },
      "execution_count": 2,
      "outputs": []
    },
    {
      "cell_type": "code",
      "execution_count": 3,
      "metadata": {
        "colab": {
          "base_uri": "https://localhost:8080/",
          "height": 167
        },
        "id": "JodgHy9nCX68",
        "outputId": "c5717166-7670-4615-ea0e-7252e5b5aad0"
      },
      "outputs": [
        {
          "output_type": "display_data",
          "data": {
            "text/plain": [
              "<Figure size 432x288 with 3 Axes>"
            ],
            "image/png": "[encoded data removed]"
          },
          "metadata": {
            "needs_background": "light"
          }
        }
      ],
      "source": [
        "#To load the data set for mist\n",
        "(X_train, y_train), (X_test, y_test) = fashion_mnist.load_data()\n",
        "assert X_train.shape == (60000, 28, 28)\n",
        "assert X_test.shape == (10000, 28, 28)\n",
        "assert y_train.shape == (60000,)\n",
        "assert y_test.shape == (10000,)\n",
        "\n",
        "\n",
        "# Display randomly selected data\n",
        "indices = list(np.random.randint(X_train.shape[0],size=3))\n",
        "for i in range(3):\n",
        "    plt.subplot(1,3,i+1)\n",
        "    plt.imshow(X_train[indices[i]].reshape(28,28), cmap='gray', interpolation='none')\n",
        "    plt.title(\"Index {} Class {}\".format(indices[i], y_train[indices[i]]))\n",
        "    plt.tight_layout()"
      ]
    },
    {
      "cell_type": "markdown",
      "source": [
        "# Important\n",
        "* Always have a validation set, the procedure to create validation or dev set is by performing random sample without replacement on train set and then only using that fraction as dev set. \n",
        "* Simple approach is to set some K samples, you can extract them from start, mid or end.\n",
        "* Imagine validation set that partially approximates test set distribution and we assume our model would produce identical results when we test it on test set.\n",
        "* Always optimize your hyperparameters by looking at performance on validation set and not test set.\n",
        "* Do not touch test set, we have this to test how our model would work on unseen data."
      ],
      "metadata": {
        "id": "PowjAHuw-wm7"
      }
    },
    {
      "cell_type": "code",
      "execution_count": 4,
      "metadata": {
        "colab": {
          "base_uri": "https://localhost:8080/"
        },
        "id": "oIRI-uLoCX69",
        "outputId": "71de1ccf-60ac-44bb-cb94-15c83f8df7a0"
      },
      "outputs": [
        {
          "output_type": "stream",
          "name": "stdout",
          "text": [
            "size of training set is 50000 samples\n",
            "every train example is 28 by 28\n",
            "size of validation set is 10000 samples\n",
            "every validation example is 28 by 28\n",
            "size of training set is 50000 samples\n",
            "every train example has 784 features\n",
            "size of validation set is 10000 samples\n",
            "every validation example has 784 features\n"
          ]
        }
      ],
      "source": [
        "# Split train dataset into train and validation\n",
        "\n",
        "X_val = X_train[50000:60000]\n",
        "X_train = X_train[0:50000]\n",
        "y_val = y_train[50000:60000]\n",
        "y_train = y_train[0:50000]\n",
        "\n",
        "print(\"size of training set is\", str(X_train.shape[0]), \"samples\")\n",
        "print(\"every train example is\", str(X_train.shape[1]), \"by\", str(X_train.shape[2]))\n",
        "\n",
        "print(\"size of validation set is\", str(X_val.shape[0]), \"samples\")\n",
        "print(\"every validation example is\", str(X_val.shape[1]), \"by\", str(X_val.shape[2]))\n",
        "\n",
        "X_train = X_train.reshape(X_train.shape[0],-1)#.T\n",
        "X_test = X_test.reshape(X_test.shape[0],-1)\n",
        "X_val = X_val.reshape(X_val.shape[0],-1)\n",
        "\n",
        "print(\"size of training set is\", str(X_train.shape[0]), \"samples\")\n",
        "print(\"every train example has\", str(X_train.shape[1]), \"features\")\n",
        "\n",
        "print(\"size of validation set is\", str(X_val.shape[0]), \"samples\")\n",
        "print(\"every validation example has\", str(X_val.shape[1]), \"features\")\n",
        "\n",
        "# Split dataset into batches\n",
        "#train_ds = tf.data.Dataset.from_tensor_slices((X_train, y_train)).batch(16)\n",
        "#test_ds = tf.data.Dataset.from_tensor_slices((X_test, y_test)).batch(4)"
      ]
    },
    {
      "cell_type": "markdown",
      "source": [
        "# Points to remember\n",
        "* If using any type of neural network, normalize your input between 0-1.\n",
        "* One can use various procedures to achieve this, divide by largest value (for images we use 255), subtract mean from data and then normalize, one can even augment them and use other steps for normalization.\n",
        "* Normalization is important step, one could observe significant boost in performance just by having better normalization scheme.\n",
        "* For targets we always use one-hot encodings."
      ],
      "metadata": {
        "id": "VdMEIaFKAscU"
      }
    },
    {
      "cell_type": "code",
      "execution_count": 5,
      "metadata": {
        "colab": {
          "base_uri": "https://localhost:8080/"
        },
        "id": "mDyZ8bZjCX69",
        "outputId": "481cc045-3c0c-4cbc-8a65-1398bc4fb837"
      },
      "outputs": [
        {
          "output_type": "execute_result",
          "data": {
            "text/plain": [
              "1.0"
            ]
          },
          "metadata": {},
          "execution_count": 5
        }
      ],
      "source": [
        "#Normalize Data\n",
        "\n",
        "X_train = X_train/255\n",
        "X_val = X_val/255\n",
        "X_test = X_test/255\n",
        "# X_train[0]\n",
        "np.max(X_train)"
      ]
    },
    {
      "cell_type": "code",
      "execution_count": 6,
      "metadata": {
        "colab": {
          "base_uri": "https://localhost:8080/"
        },
        "id": "3lIIy313CX69",
        "outputId": "ff27d7d1-b72c-4f3a-d774-581841ff5d11"
      },
      "outputs": [
        {
          "output_type": "stream",
          "name": "stdout",
          "text": [
            "tf.Tensor([10000    10], shape=(2,), dtype=int32)\n"
          ]
        }
      ],
      "source": [
        "size_input = X_train.shape[1]\n",
        "size_hidden1 = 128\n",
        "size_hidden2 = 128\n",
        "size_hidden3 = 128\n",
        "size_output = 10\n",
        "\n",
        "number_of_train_examples = X_train.shape[0]\n",
        "number_of_test_examples = X_test.shape[0]\n",
        "\n",
        "# one hot encode target values\n",
        "y_train = to_categorical(y_train,num_classes=10)\n",
        "y_test = to_categorical(y_test,num_classes=10)\n",
        "y_val = tf.keras.utils.to_categorical(y_val,num_classes=10)\n",
        "\n",
        "print(tf.shape(y_val))"
      ]
    },
    {
      "cell_type": "markdown",
      "source": [
        "# Importance of weight initialization\n",
        "\n",
        "* One reason backprop based models can perform bettter lies with the weight initialization method, one important point one should remember is that, if yur weights are initialized to be too high or low, backprop would struggle.\n",
        "* Hence one should always carefully initialize weights of your model, below i have shown approach with random_normal, one can use random_uniform, truncated version of both, Xavier init and orthogonal. \n",
        "* You will find modern day NNs have achieved stable and better performance by simply switching to better init and majority of cases Xavier or Orthogonal works best.\n",
        "* Always initialize your bias using zero or some small constant (ideally 0.01 or less works better). We use bias to shift the activation and in some cases it can stabalize learning, but having large bias can cause negative results.\n",
        "\n",
        "# Loss function\n",
        "\n",
        "* We will always cross-entropy loss for classification.\n",
        "\n",
        "* tf softmax,\n",
        "loss= tf.reduce_mean(tf.nn.softmax_cross_entropy_with_logits(logits=y_pred_tf, labels=y_true_tf)), this function is simply saying that it will calculate softmax for you, simply provide logits to it. \n",
        "\n",
        "* In other output of your forward pass directly goes this function. Now this operator will calculate or apply softmax over prediction or logits and calculate cross-entropy between prediction and target. I am using reduce_mean since we apply this over batches.\n",
        "* Second is using keras\n",
        "Method 1 :- This function requires logits, hence same as above you will pass logits or output variable to this function. Now remember you need from_logits = True, for this to work.\n",
        "cce = tf.keras.losses.CategoricalCrossentropy(from_logits=True)\n",
        "loss_x = cce(y_true_tf, y_pred_tf) \n",
        "\n",
        "* Method 2:- In this we will apply softmax to output function and then pass to CCE loss.\n",
        "So the approach is \n",
        "output = tf.nn.softmax(output)\n",
        "cce = tf.keras.losses.CategoricalCrossentropy(from_logits=False)\n",
        "loss_x = cce(y_true_tf, y_pred_tf) \n",
        "\n",
        "\n",
        "\n",
        "\n",
        "#Batch normalization post activation model"
      ],
      "metadata": {
        "id": "U7KCVarVCVPW"
      }
    },
    {
      "cell_type": "code",
      "execution_count": 7,
      "metadata": {
        "id": "obN7WPLpCX69"
      },
      "outputs": [],
      "source": [
        "# Define class to build mlp model\n",
        "class MLP(object):\n",
        " def __init__(self, size_input, size_hidden1, size_hidden2, size_hidden3, size_output, device=None):\n",
        "    \"\"\"\n",
        "    size_input: int, size of input layer\n",
        "    size_hidden1: int, size of the 1st hidden layer\n",
        "    size_hidden2: int, size of the 2nd hidden layer\n",
        "    size_output: int, size of output layer\n",
        "    device: str or None, either 'cpu' or 'gpu' or None. If None, the device to be used will be decided automatically during Eager Execution\n",
        "    \"\"\"\n",
        "    self.size_input, self.size_hidden1, self.size_hidden2, self.size_hidden3, self.size_output, self.device =\\\n",
        "    size_input, size_hidden1, size_hidden2, size_hidden3, size_output, device\n",
        "    \n",
        "    # Initialize weights between input mapping and a layer g(f(x)) = layer\n",
        "    self.W1 = tf.Variable(tf.random.normal([self.size_input, self.size_hidden1],stddev=0.1)) # Xavier(Fan-in fan-out) and Orthogonal\n",
        "    # Initialize biases for hidden layer\n",
        "    self.b1 = tf.Variable(tf.zeros([1, self.size_hidden1])) # 0 or constant(0.01)\n",
        "    \n",
        "    # Initialize weights between input layer and 1st hidden layer\n",
        "    self.W2 = tf.Variable(tf.random.normal([self.size_hidden1, self.size_hidden2],stddev=0.1))\n",
        "    # Initialize biases for hidden layer\n",
        "    self.b2 = tf.Variable(tf.zeros([1, self.size_hidden2]))\n",
        "    \n",
        "    # Initialize weights between 1st hidden layer and 2nd hidden layer\n",
        "    self.W3 = tf.Variable(tf.random.normal([self.size_hidden2, self.size_hidden3],stddev=0.1))\n",
        "    # Initialize biases for hidden layer\n",
        "    self.b3 = tf.Variable(tf.zeros([1, self.size_hidden3]))\n",
        "    \n",
        "     # Initialize weights between 2nd hidden layer and output layer\n",
        "    self.W4 = tf.Variable(tf.random.normal([self.size_hidden3, self.size_output],stddev=0.1))\n",
        "    # Initialize biases for output layer\n",
        "    self.b4 = tf.Variable(tf.zeros([1, self.size_output]))\n",
        "    self.gamma=[]\n",
        "    self.beta=[]\n",
        "    self.moving_mean=[]\n",
        "    self.moving_variance=[]\n",
        "    self.sample_mean=[]\n",
        "    self.sample_variance=[]\n",
        "    self.BN_init()\n",
        "    self.momentum = 0.99\n",
        "    self.epsilon=1e-6\n",
        "    # Define variables to be updated during backpropagation\n",
        "    self.variables = [self.W1, self.W2, self.W3, self.W4, self.b1, self.b2, self.b3, self.b4]\n",
        "  \n",
        " def forward(self, X,training):\n",
        "    \"\"\"\n",
        "    forward pass\n",
        "    X: Tensor, inputs\n",
        "    \"\"\"\n",
        "    if self.device is not None:\n",
        "      with tf.device('gpu:0' if self.device=='gpu' else 'cpu'):\n",
        "        self.y = self.compute_output(X,training)\n",
        "    else:\n",
        "      self.y = self.compute_output(X,training)\n",
        "      \n",
        "    return self.y\n",
        "\n",
        " def loss(self, y_pred, y_true):\n",
        "    '''\n",
        "    y_pred - Tensor of shape (batch_size, size_output)\n",
        "    y_true - Tensor of shape (batch_size, size_output)\n",
        "    '''\n",
        "    #y_true_tf = tf.cast(tf.reshape(y_true, (-1, self.size_output)), dtype=tf.float32)\n",
        "    y_true_tf = tf.cast(y_true, dtype=tf.float32)\n",
        "    y_pred_tf = tf.cast(y_pred, dtype=tf.float32)\n",
        "    return tf.nn.softmax_cross_entropy_with_logits(logits=y_pred_tf,labels=y_true_tf)\n",
        "\n",
        " def backward(self, X_train, y_train):\n",
        "    \"\"\"\n",
        "    backward pass\n",
        "    \"\"\"\n",
        "    optimizer = tf.keras.optimizers.Adam()\n",
        "    \n",
        "    with tf.GradientTape() as tape:\n",
        "        \n",
        "      predicted = self.forward(X_train,True)\n",
        "      current_loss = self.loss(predicted, y_train)\n",
        "        \n",
        "    grads = tape.gradient(current_loss, self.variables)\n",
        "    optimizer.apply_gradients(zip(grads, self.variables))\n",
        "           \n",
        " def compute_output(self, X,training):\n",
        "    \"\"\"\n",
        "    Custom method to obtain output tensor during forward pass\n",
        "    \"\"\"\n",
        "    # Cast X to float32\n",
        "    X_tf = tf.cast(X, dtype=tf.float32)\n",
        "    \n",
        "    #calling batch mean varience function\n",
        "    self.batch_mean_variance(X_tf)\n",
        "\n",
        "    # BN in input layer\n",
        "    if training:\n",
        "      # call BN\n",
        "      X_tf = self.BN(X_tf, self.gamma[0], self.beta[0],self.sample_mean[0], self.sample_variance[0])\n",
        "                \n",
        "      # update the self.moving_mean and self.moving_variance\n",
        "      self.average_assignment( self.moving_mean[0],self.sample_mean[0],self.moving_variance[0], self.sample_variance[0])\n",
        "    else:\n",
        "      # using the updated moving_mean and moving_variance for batch normalization\n",
        "      X_tf = self.BN(X_tf, self.gamma[0], self.beta[0], self.moving_mean[0], self.moving_variance[0])\n",
        "\n",
        "\n",
        "    \n",
        "    what1 = tf.matmul(X_tf, self.W1) + self.b1\n",
        "    hhat1 = tf.nn.relu(what1)\n",
        "    \n",
        "    #calling batch mean varience function\n",
        "    self.batch_mean_variance(hhat1)\n",
        "\n",
        "    # BN in hidden layer 1\n",
        "    if training:\n",
        "      # Call BN\n",
        "      hhat1 = self.BN(hhat1, self.gamma[1], self.beta[1], self.sample_mean[1], self.sample_variance[1])\n",
        "                \n",
        "      # update the self.moving_mean1 and self.moving_var1\n",
        "      self.average_assignment(self.moving_mean[1], self.sample_mean[1],self.moving_variance[1], self.sample_variance[1])\n",
        "    else:\n",
        "      # using the updated moving_mean and moving_var for batch normalization\n",
        "      hhat1 = self.BN(hhat1, self.gamma[1], self.beta[1], self.moving_mean[1], self.moving_variance[1])\n",
        "\n",
        "    what2 = tf.matmul(hhat1, self.W2) + self.b2\n",
        "    hhat2 = tf.nn.relu(what2)\n",
        "    \n",
        "    #calling batch mean varience function\n",
        "    self.batch_mean_variance(hhat2)\n",
        "\n",
        "    # BN in hidden layer 2\n",
        "    if training:\n",
        "      # call BN\n",
        "      hhat2 = self.BN(hhat2, self.gamma[2], self.beta[2], self.sample_mean[2], self.sample_variance[2])\n",
        "                \n",
        "      # update the self.moving_mean2 and self.moving_var2\n",
        "      self.average_assignment(self.moving_mean[2], self.sample_mean[2],self.moving_variance[2], self.sample_variance[2])\n",
        "    else:\n",
        "      # using the updated moving_mean and moving_var for batch normalization\n",
        "      hhat2 = self.BN(hhat2, self.gamma[2], self.beta[2], self.moving_mean[2], self.moving_variance[2])\n",
        "            \n",
        "    what3 = tf.matmul(hhat2, self.W3) + self.b3\n",
        "    hhat3 = tf.nn.relu(what3)\n",
        "    \n",
        "    #calling batch mean varience function\n",
        "    self.batch_mean_variance(hhat3)\n",
        "\n",
        "    # BN in hidden layer 3\n",
        "    if training:\n",
        "      # call BN\n",
        "      hhat3 = self.BN(hhat3, self.gamma[3], self.beta[3], self.sample_mean[3], self.sample_variance[3])\n",
        "                \n",
        "      # update the self.moving_mean3 and self.moving_var3\n",
        "      self.average_assignment(self.moving_mean[3], self.sample_mean[3],self.moving_variance[3], self.sample_variance[3])\n",
        "    else:\n",
        "      # using the updated moving_mean and moving_var for batch normalization\n",
        "      hhat3 = self.BN(hhat3, self.gamma[3], self.beta[3], self.moving_mean[3], self.moving_variance[3])\n",
        "            \n",
        "    # Compute output\n",
        "    output = tf.matmul(hhat3, self.W4) + self.b4\n",
        "    #output = tf.nn.softmax(output)\n",
        "    return output\n",
        "\n",
        "#Calculating sample mean,varience\n",
        " def batch_mean_variance(self,Z):\n",
        "   self.sample_mean.append(tf.math.reduce_mean(Z))\n",
        "   self.sample_variance.append(tf.math.reduce_variance(Z))\n",
        "\n",
        "#Assigning sample mean,varience to moving mean,varience\n",
        " def average_assignment(self, move_mean, mean_sample,move_variance,variance_sample):\n",
        "        #assigning mean and varience\n",
        "        move_mean.assign(move_mean * self.momentum + mean_sample * (1 - self.momentum))\n",
        "        move_variance.assign(move_variance * self.momentum + variance_sample * (1 - self.momentum))\n",
        "\n",
        " #Batch Normilization\n",
        " def BN(self, x, gamma, beta, moving_mean, moving_varience):\n",
        "    return gamma * (x - moving_mean) / tf.math.sqrt(moving_varience + self.epsilon) + beta\n",
        "\n",
        " #Intialize function for batch normalization\n",
        " def BN_init(self):\n",
        "   #Initialize batch normalization scale parameter gamma\n",
        "   self.gamma = [tf.Variable(tf.ones([1, self.size_input])), tf.Variable(tf.ones([1, self.size_hidden1])), \\\n",
        "                tf.Variable(tf.ones([1, self.size_hidden2])), tf.Variable(tf.ones([1, self.size_hidden3]))]\n",
        "                \n",
        "   # Initialize batch normalization shift parameter beta\n",
        "   self.beta = [tf.Variable(tf.zeros([1, self.size_input])), tf.Variable(tf.zeros([1, self.size_hidden1])),\\\n",
        "               tf.Variable(tf.zeros([1, self.size_hidden2])), tf.Variable(tf.zeros([1, self.size_hidden3]))]\n",
        "\n",
        "   # The moving mean and variance \n",
        "   self.moving_mean = [tf.Variable(tf.zeros([1, self.size_input])), tf.Variable(tf.zeros([1, self.size_hidden1])),\\\n",
        "                       tf.Variable(tf.zeros([1, self.size_hidden2])), tf.Variable(tf.zeros([1, self.size_hidden3]))]\n",
        "\n",
        "   self.moving_variance = [tf.Variable(tf.ones([1, self.size_input])), tf.Variable(tf.ones([1, self.size_hidden1])),\\\n",
        "                           tf.Variable(tf.ones([1, self.size_hidden2])), tf.Variable(tf.ones([1, self.size_hidden3]))]\n",
        "   \n"
      ]
    },
    {
      "cell_type": "markdown",
      "source": [
        "#Batch Normalization for pre Activation"
      ],
      "metadata": {
        "id": "QQfSGfS1lpnO"
      }
    },
    {
      "cell_type": "code",
      "source": [
        "# Define class to build mlp model\n",
        "class MLP_Pre(object):\n",
        " def __init__(self, size_input, size_hidden1, size_hidden2, size_hidden3, size_output, device=None):\n",
        "    \"\"\"\n",
        "    size_input: int, size of input layer\n",
        "    size_hidden1: int, size of the 1st hidden layer\n",
        "    size_hidden2: int, size of the 2nd hidden layer\n",
        "    size_output: int, size of output layer\n",
        "    device: str or None, either 'cpu' or 'gpu' or None. If None, the device to be used will be decided automatically during Eager Execution\n",
        "    \"\"\"\n",
        "    self.size_input, self.size_hidden1, self.size_hidden2, self.size_hidden3, self.size_output, self.device =\\\n",
        "    size_input, size_hidden1, size_hidden2, size_hidden3, size_output, device\n",
        "    \n",
        "    # Initialize weights between input mapping and a layer g(f(x)) = layer\n",
        "    self.W1 = tf.Variable(tf.random.normal([self.size_input, self.size_hidden1],stddev=0.1)) # Xavier(Fan-in fan-out) and Orthogonal\n",
        "    # Initialize biases for hidden layer\n",
        "    self.b1 = tf.Variable(tf.zeros([1, self.size_hidden1])) # 0 or constant(0.01)\n",
        "    \n",
        "    # Initialize weights between input layer and 1st hidden layer\n",
        "    self.W2 = tf.Variable(tf.random.normal([self.size_hidden1, self.size_hidden2],stddev=0.1))\n",
        "    # Initialize biases for hidden layer\n",
        "    self.b2 = tf.Variable(tf.zeros([1, self.size_hidden2]))\n",
        "    \n",
        "    # Initialize weights between 1st hidden layer and 2nd hidden layer\n",
        "    self.W3 = tf.Variable(tf.random.normal([self.size_hidden2, self.size_hidden3],stddev=0.1))\n",
        "    # Initialize biases for hidden layer\n",
        "    self.b3 = tf.Variable(tf.zeros([1, self.size_hidden3]))\n",
        "    \n",
        "     # Initialize weights between 2nd hidden layer and output layer\n",
        "    self.W4 = tf.Variable(tf.random.normal([self.size_hidden3, self.size_output],stddev=0.1))\n",
        "    # Initialize biases for output layer\n",
        "    self.b4 = tf.Variable(tf.zeros([1, self.size_output]))\n",
        "    self.gamma=[]\n",
        "    self.beta=[]\n",
        "    self.moving_mean=[]\n",
        "    self.moving_variance=[]\n",
        "    self.sample_mean=[]\n",
        "    self.sample_variance=[]\n",
        "    self.BN_init()\n",
        "    self.momentum = 0.99\n",
        "    self.epsilon=1e-6\n",
        "    # Define variables to be updated during backpropagation\n",
        "    self.variables = [self.W1, self.W2, self.W3, self.W4, self.b1, self.b2, self.b3, self.b4]\n",
        "  \n",
        " def forward(self, X,training):\n",
        "    \"\"\"\n",
        "    forward pass\n",
        "    X: Tensor, inputs\n",
        "    \"\"\"\n",
        "    if self.device is not None:\n",
        "      with tf.device('gpu:0' if self.device=='gpu' else 'cpu'):\n",
        "        self.y = self.compute_output(X,training)\n",
        "    else:\n",
        "      self.y = self.compute_output(X,training)\n",
        "      \n",
        "    return self.y\n",
        "\n",
        " def loss(self, y_pred, y_true):\n",
        "    '''\n",
        "    y_pred - Tensor of shape (batch_size, size_output)\n",
        "    y_true - Tensor of shape (batch_size, size_output)\n",
        "    '''\n",
        "    #y_true_tf = tf.cast(tf.reshape(y_true, (-1, self.size_output)), dtype=tf.float32)\n",
        "    y_true_tf = tf.cast(y_true, dtype=tf.float32)\n",
        "    y_pred_tf = tf.cast(y_pred, dtype=tf.float32)\n",
        "    return tf.nn.softmax_cross_entropy_with_logits(logits=y_pred_tf,labels=y_true_tf)\n",
        "\n",
        " def backward(self, X_train, y_train):\n",
        "    \"\"\"\n",
        "    backward pass\n",
        "    \"\"\"\n",
        "    optimizer = tf.keras.optimizers.Adam()\n",
        "    \n",
        "    with tf.GradientTape() as tape:\n",
        "        \n",
        "      predicted = self.forward(X_train,True)\n",
        "      current_loss = self.loss(predicted, y_train)\n",
        "        \n",
        "    grads = tape.gradient(current_loss, self.variables)\n",
        "    optimizer.apply_gradients(zip(grads, self.variables))\n",
        "           \n",
        " def compute_output(self, X,training):\n",
        "    \"\"\"\n",
        "    Custom method to obtain output tensor during forward pass\n",
        "    \"\"\"\n",
        "    # Cast X to float32\n",
        "    X_tf = tf.cast(X, dtype=tf.float32)\n",
        "    \n",
        "    #calling batch mean varience function\n",
        "    self.batch_mean_variance(X_tf)\n",
        "\n",
        "    # BN in input layer\n",
        "    if training:\n",
        "      # call BN\n",
        "      X_tf = self.BN(X_tf, self.gamma[0], self.beta[0],self.sample_mean[0], self.sample_variance[0])\n",
        "                \n",
        "      # update the self.moving_mean and self.moving_variance\n",
        "      self.average_assignment( self.moving_mean[0],self.sample_mean[0],self.moving_variance[0], self.sample_variance[0])\n",
        "    else:\n",
        "      # using the updated moving_mean and moving_variance for batch normalization\n",
        "      X_tf = self.BN(X_tf, self.gamma[0], self.beta[0], self.moving_mean[0], self.moving_variance[0])\n",
        "\n",
        "\n",
        "    what1 = tf.matmul(X_tf, self.W1) + self.b1\n",
        "    \n",
        "    \n",
        "    #calling batch mean varience function\n",
        "    self.batch_mean_variance(what1)\n",
        "\n",
        "    # BN in hidden layer 1\n",
        "    if training:\n",
        "      # Call BN\n",
        "      what1 = self.BN(what1, self.gamma[1], self.beta[1], self.sample_mean[1], self.sample_variance[1])\n",
        "                \n",
        "      # update the self.moving_mean1 and self.moving_var1\n",
        "      self.average_assignment(self.moving_mean[1], self.sample_mean[1],self.moving_variance[1], self.sample_variance[1])\n",
        "    else:\n",
        "      # using the updated moving_mean and moving_var for batch normalization\n",
        "      what1 = self.BN(what1, self.gamma[1], self.beta[1], self.moving_mean[1], self.moving_variance[1])\n",
        "\n",
        "    hhat1 = tf.nn.relu(what1)\n",
        "    what2 = tf.matmul(hhat1, self.W2) + self.b2\n",
        "\n",
        "    \n",
        "    #calling batch mean varience function\n",
        "    self.batch_mean_variance(what2)\n",
        "\n",
        "    # BN in hidden layer 2\n",
        "    if training:\n",
        "      # call BN\n",
        "      what2 = self.BN(what2, self.gamma[2], self.beta[2], self.sample_mean[2], self.sample_variance[2])\n",
        "                \n",
        "      # update the self.moving_mean2 and self.moving_var2\n",
        "      self.average_assignment(self.moving_mean[2], self.sample_mean[2],self.moving_variance[2], self.sample_variance[2])\n",
        "    else:\n",
        "      # using the updated moving_mean and moving_var for batch normalization\n",
        "      what2 = self.BN(what2, self.gamma[2], self.beta[2], self.moving_mean[2], self.moving_variance[2])\n",
        "\n",
        "    hhat2 = tf.nn.relu(what2)     \n",
        "    what3 = tf.matmul(hhat2, self.W3) + self.b3\n",
        "    \n",
        "    #calling batch mean varience function\n",
        "    self.batch_mean_variance(what3)\n",
        "\n",
        "    # BN in hidden layer 3\n",
        "    if training:\n",
        "      # call BN\n",
        "      what3 = self.BN(what3, self.gamma[3], self.beta[3], self.sample_mean[3], self.sample_variance[3])\n",
        "                \n",
        "      # update the self.moving_mean3 and self.moving_var3\n",
        "      self.average_assignment(self.moving_mean[3], self.sample_mean[3],self.moving_variance[3], self.sample_variance[3])\n",
        "    else:\n",
        "      # using the updated moving_mean and moving_var for batch normalization\n",
        "      what3 = self.BN(what3, self.gamma[3], self.beta[3], self.moving_mean[3], self.moving_variance[3])\n",
        "\n",
        "    hhat3 = tf.nn.relu(what3)      \n",
        "    # Compute output\n",
        "    output = tf.matmul(hhat3, self.W4) + self.b4\n",
        "    #output = tf.nn.softmax(output)\n",
        "    return output\n",
        "\n",
        "#Calculating sample mean,varience\n",
        " def batch_mean_variance(self,Z):\n",
        "   self.sample_mean.append(tf.math.reduce_mean(Z))\n",
        "   self.sample_variance.append(tf.math.reduce_variance(Z))\n",
        "\n",
        "#Assigning sample mean,varience to moving mean,varience\n",
        " def average_assignment(self, move_mean, mean_sample,move_variance,variance_sample):\n",
        "        #assigning mean and varience\n",
        "        move_mean.assign(move_mean * self.momentum + mean_sample * (1 - self.momentum))\n",
        "        move_variance.assign(move_variance * self.momentum + variance_sample * (1 - self.momentum))\n",
        "\n",
        "#Batch Normilization\n",
        " def BN(self, x, gamma, beta, moving_mean, moving_varience):\n",
        "    return gamma * (x - moving_mean) / tf.math.sqrt(moving_varience + self.epsilon) + beta\n",
        "\n",
        "#Intialize function for batch normalization\n",
        " def BN_init(self):\n",
        "   #Initialize batch normalization scale parameter gamma\n",
        "   self.gamma = [tf.Variable(tf.ones([1, self.size_input])), tf.Variable(tf.ones([1, self.size_hidden1])), \\\n",
        "                tf.Variable(tf.ones([1, self.size_hidden2])), tf.Variable(tf.ones([1, self.size_hidden3]))]\n",
        "                \n",
        "   # Initialize batch normalization shift parameter beta\n",
        "   self.beta = [tf.Variable(tf.zeros([1, self.size_input])), tf.Variable(tf.zeros([1, self.size_hidden1])),\\\n",
        "               tf.Variable(tf.zeros([1, self.size_hidden2])), tf.Variable(tf.zeros([1, self.size_hidden3]))]\n",
        "\n",
        "   # The moving mean and variance \n",
        "   self.moving_mean = [tf.Variable(tf.zeros([1, self.size_input])), tf.Variable(tf.zeros([1, self.size_hidden1])),\\\n",
        "                       tf.Variable(tf.zeros([1, self.size_hidden2])), tf.Variable(tf.zeros([1, self.size_hidden3]))]\n",
        "\n",
        "   self.moving_variance = [tf.Variable(tf.ones([1, self.size_input])), tf.Variable(tf.ones([1, self.size_hidden1])),\\\n",
        "                           tf.Variable(tf.ones([1, self.size_hidden2])), tf.Variable(tf.ones([1, self.size_hidden3]))]\n",
        "   \n"
      ],
      "metadata": {
        "id": "_q3hU8Nmluk_"
      },
      "execution_count": 8,
      "outputs": []
    },
    {
      "cell_type": "markdown",
      "source": [
        "#Train for post activation BN model"
      ],
      "metadata": {
        "id": "g44MdtTlnIl4"
      }
    },
    {
      "cell_type": "code",
      "execution_count": 9,
      "metadata": {
        "colab": {
          "base_uri": "https://localhost:8080/"
        },
        "id": "pOnhvVlUCX6-",
        "outputId": "a3848f55-38eb-4290-dc4c-5405fc357533"
      },
      "outputs": [
        {
          "output_type": "stream",
          "name": "stdout",
          "text": [
            "For Fashion MNIST GPU\n",
            "\n",
            "Number of Epoch = 1 - Average Cross Entropy:= 0.534360234375 - Validation Accuracy: 84.5800 - Train Accuracy: 85.4740 \n",
            "Number of Epoch = 2 - Average Cross Entropy:= 0.408490625 - Validation Accuracy: 85.7900 - Train Accuracy: 87.4940 \n",
            "Number of Epoch = 3 - Average Cross Entropy:= 0.375143515625 - Validation Accuracy: 86.3800 - Train Accuracy: 88.3280 \n",
            "Number of Epoch = 4 - Average Cross Entropy:= 0.356869453125 - Validation Accuracy: 86.8600 - Train Accuracy: 88.9600 \n",
            "Number of Epoch = 5 - Average Cross Entropy:= 0.347125859375 - Validation Accuracy: 86.5300 - Train Accuracy: 89.0880 \n",
            "Number of Epoch = 6 - Average Cross Entropy:= 0.3400344921875 - Validation Accuracy: 87.4700 - Train Accuracy: 89.9560 \n",
            "Number of Epoch = 7 - Average Cross Entropy:= 0.3375245703125 - Validation Accuracy: 86.5800 - Train Accuracy: 89.1420 \n",
            "Number of Epoch = 8 - Average Cross Entropy:= 0.334368828125 - Validation Accuracy: 87.0800 - Train Accuracy: 89.5660 \n",
            "Number of Epoch = 9 - Average Cross Entropy:= 0.3340535546875 - Validation Accuracy: 87.1700 - Train Accuracy: 90.1100 \n",
            "Number of Epoch = 10 - Average Cross Entropy:= 0.3312072265625 - Validation Accuracy: 86.7000 - Train Accuracy: 89.9860 \n",
            "Number of Epoch = 11 - Average Cross Entropy:= 0.329703203125 - Validation Accuracy: 86.6400 - Train Accuracy: 89.9740 \n",
            "Number of Epoch = 12 - Average Cross Entropy:= 0.340441875 - Validation Accuracy: 87.0900 - Train Accuracy: 90.5340 \n",
            "Number of Epoch = 13 - Average Cross Entropy:= 0.336513828125 - Validation Accuracy: 87.3200 - Train Accuracy: 90.4940 \n",
            "Number of Epoch = 14 - Average Cross Entropy:= 0.331766484375 - Validation Accuracy: 85.4400 - Train Accuracy: 88.5480 \n",
            "Number of Epoch = 15 - Average Cross Entropy:= 0.3368300390625 - Validation Accuracy: 86.5400 - Train Accuracy: 89.8380 \n",
            "Number of Epoch = 16 - Average Cross Entropy:= 0.3451123046875 - Validation Accuracy: 85.9700 - Train Accuracy: 89.8180 \n",
            "Number of Epoch = 17 - Average Cross Entropy:= 0.3440289453125 - Validation Accuracy: 85.1900 - Train Accuracy: 89.3740 \n",
            "Number of Epoch = 18 - Average Cross Entropy:= 0.3568297265625 - Validation Accuracy: 85.3800 - Train Accuracy: 88.7980 \n",
            "Number of Epoch = 19 - Average Cross Entropy:= 0.3614358984375 - Validation Accuracy: 86.2400 - Train Accuracy: 90.1840 \n",
            "Number of Epoch = 20 - Average Cross Entropy:= 0.3647074609375 - Validation Accuracy: 85.8700 - Train Accuracy: 89.8580 \n",
            "\n",
            "Total time taken (in seconds): 714.63\n"
          ]
        }
      ],
      "source": [
        "# Set number of epochs\n",
        "NUM_EPOCHS = 20\n",
        "\n",
        "# Initialize model using CPU\n",
        "mlp_on_gpu = MLP(size_input, size_hidden1, size_hidden2, size_hidden3, size_output, device='gpu')\n",
        "mce_fmnist_train=[]\n",
        "mce_fmnist_train_acc=[]\n",
        "mce_fmnist_train_valacc=[]\n",
        "time_start = time.time()\n",
        "print(\"For Fashion MNIST GPU\\n\")\n",
        "for epoch in range(NUM_EPOCHS):\n",
        "    \n",
        "  loss_total = tf.zeros([1,1], dtype=tf.float32)\n",
        "  lt = 0\n",
        "  \n",
        "  train_ds = tf.data.Dataset.from_tensor_slices((X_train, y_train)).shuffle(25, seed=epoch*(seed)).batch(100)\n",
        "  kz = 0\n",
        "  accuracy_z = 0.0\n",
        "  cur_train_acc = 0.0\n",
        "  for inputs, outputs in train_ds:\n",
        "    qw, tr = tf.shape(inputs)\n",
        "    kz = kz + 1\n",
        "    preds = mlp_on_gpu.forward(inputs,True) \n",
        "    loss_total = loss_total + mlp_on_gpu.loss(preds, outputs)\n",
        "    lt = lt + mlp_on_gpu.loss(preds, outputs)\n",
        "    mlp_on_gpu.backward(inputs, outputs)\n",
        "\n",
        "  mce_fmnist_train.append(np.sum(loss_total) / X_train.shape[0])\n",
        "  preds = mlp_on_gpu.forward(X_train,False)\n",
        "  # Get probs, remember we only have logits from our forward function, we need to apply softmax on top of it to get probs\n",
        "  preds = tf.nn.softmax(preds)\n",
        "  correct_prediction = tf.equal(tf.argmax(preds, 1), tf.argmax(y_train, 1))\n",
        "  accuracy_z = accuracy_z + tf.reduce_mean(tf.cast(correct_prediction, \"float\"))\n",
        "  cur_train_acc += accuracy_z.numpy()\n",
        "  ds = cur_train_acc\n",
        "  mce_fmnist_train_acc.append(ds*100)\n",
        "  #print('\\nTrain Accuracy: {:.4f}'.format(ds))\n",
        "  #print('Number of Epoch = {} - Average Cross Entropy:= {} '.format(epoch + 1, np.sum(loss_total) / X_train.shape[0]))\n",
        "  preds_val = mlp_on_gpu.forward(X_val,False)\n",
        "  preds_val = tf.nn.softmax(preds_val)\n",
        "  correct_prediction = tf.equal(tf.argmax(preds_val, 1), tf.argmax(y_val, 1))\n",
        "\n",
        "  # Calculate accuracy\n",
        "  accuracy = tf.reduce_mean(tf.cast(correct_prediction, \"float\"))\n",
        "  cur_val_acc = accuracy.numpy()\n",
        "  mce_fmnist_train_valacc.append(cur_val_acc*100)\n",
        "  #print('\\nValidation Accuracy: {:.4f}'.format(cur_val_acc))\n",
        "  print('Number of Epoch = {} - Average Cross Entropy:= {} - Validation Accuracy: {:.4f} - Train Accuracy: {:.4f} '.format(epoch + 1, np.sum(loss_total) / X_train.shape[0],cur_val_acc*100,ds*100))\n",
        "  #plt.plot(epoch + 1, np.sum(loss_total) / X_train.shape[0], 'go')\n",
        "\n",
        "        \n",
        "time_taken = time.time() - time_start\n",
        "\n",
        "print('\\nTotal time taken (in seconds): {:.2f}'.format(time_taken))\n"
      ]
    },
    {
      "cell_type": "code",
      "source": [
        "# Plot learning curve (with errors)\n",
        "\n",
        "trainacc= np.squeeze(mce_fmnist_train_acc)\n",
        "valacc = np.squeeze(mce_fmnist_train_valacc)\n",
        "plt.plot(mce_fmnist_train_acc,label ='Train accuracy')\n",
        "plt.plot(valacc,label ='Validation Accuracy')\n",
        "plt.ylabel('Accuracy')\n",
        "plt.xlabel('iterations ')\n",
        "plt.title(\"Fashion MNIST\")\n",
        "plt.legend()\n",
        "plt.show()"
      ],
      "metadata": {
        "colab": {
          "base_uri": "https://localhost:8080/",
          "height": 295
        },
        "id": "KWdrxXjIktgN",
        "outputId": "98ea9acb-b64a-4f86-fe04-a2497d0071e4"
      },
      "execution_count": 10,
      "outputs": [
        {
          "output_type": "display_data",
          "data": {
            "text/plain": [
              "<Figure size 432x288 with 1 Axes>"
            ],
            "image/png": "[encoded data removed]"
          },
          "metadata": {
            "needs_background": "light"
          }
        }
      ]
    },
    {
      "cell_type": "markdown",
      "source": [
        "#Train for pre Activation model"
      ],
      "metadata": {
        "id": "-PWGZbxFnOOM"
      }
    },
    {
      "cell_type": "code",
      "source": [
        "# Set number of epochs\n",
        "NUM_EPOCHS = 20\n",
        "\n",
        "# Initialize model using CPU\n",
        "mlp_on_gpu_pre = MLP_Pre(size_input, size_hidden1, size_hidden2, size_hidden3, size_output, device='gpu')\n",
        "mce_fmnist_train_pre=[]\n",
        "mce_fmnist_train_acc_pre=[]\n",
        "mce_fmnist_train_valacc_pre=[]\n",
        "time_start = time.time()\n",
        "print(\"For Fashion MNIST GPU\\n\")\n",
        "for epoch in range(NUM_EPOCHS):\n",
        "    \n",
        "  loss_total = tf.zeros([1,1], dtype=tf.float32)\n",
        "  lt = 0\n",
        "  \n",
        "  train_ds = tf.data.Dataset.from_tensor_slices((X_train, y_train)).shuffle(25, seed=epoch*(seed)).batch(100)\n",
        "  kz = 0\n",
        "  accuracy_z = 0.0\n",
        "  cur_train_acc = 0.0\n",
        "  for inputs, outputs in train_ds:\n",
        "    qw, tr = tf.shape(inputs)\n",
        "    kz = kz + 1\n",
        "    preds = mlp_on_gpu_pre.forward(inputs,True) \n",
        "    loss_total = loss_total + mlp_on_gpu_pre.loss(preds, outputs)\n",
        "    lt = lt + mlp_on_gpu_pre.loss(preds, outputs)\n",
        "    mlp_on_gpu_pre.backward(inputs, outputs)\n",
        "\n",
        "  mce_fmnist_train_pre.append(np.sum(loss_total) / X_train.shape[0])\n",
        "  preds = mlp_on_gpu_pre.forward(X_train,False)\n",
        "  # Get probs, remember we only have logits from our forward function, we need to apply softmax on top of it to get probs\n",
        "  preds = tf.nn.softmax(preds)\n",
        "  correct_prediction = tf.equal(tf.argmax(preds, 1), tf.argmax(y_train, 1))\n",
        "  accuracy_z = accuracy_z + tf.reduce_mean(tf.cast(correct_prediction, \"float\"))\n",
        "  cur_train_acc += accuracy_z.numpy()\n",
        "  ds = cur_train_acc\n",
        "  mce_fmnist_train_acc_pre.append(ds*100)\n",
        "  #print('\\nTrain Accuracy: {:.4f}'.format(ds))\n",
        "  #print('Number of Epoch = {} - Average Cross Entropy:= {} '.format(epoch + 1, np.sum(loss_total) / X_train.shape[0]))\n",
        "  preds_val = mlp_on_gpu_pre.forward(X_val,False)\n",
        "  preds_val = tf.nn.softmax(preds_val)\n",
        "  correct_prediction = tf.equal(tf.argmax(preds_val, 1), tf.argmax(y_val, 1))\n",
        "\n",
        "  # Calculate accuracy\n",
        "  accuracy = tf.reduce_mean(tf.cast(correct_prediction, \"float\"))\n",
        "  cur_val_acc = accuracy.numpy()\n",
        "  mce_fmnist_train_valacc_pre.append(cur_val_acc*100)\n",
        "  #print('\\nValidation Accuracy: {:.4f}'.format(cur_val_acc))\n",
        "  print('Number of Epoch = {} - Average Cross Entropy:= {} - Validation Accuracy: {:.4f} - Train Accuracy: {:.4f} '.format(epoch + 1, np.sum(loss_total) / X_train.shape[0],cur_val_acc*100,ds*100))\n",
        "  #plt.plot(epoch + 1, np.sum(loss_total) / X_train.shape[0], 'go')\n",
        "\n",
        "        \n",
        "time_taken = time.time() - time_start\n",
        "\n",
        "print('\\nTotal time taken (in seconds): {:.2f}'.format(time_taken))\n"
      ],
      "metadata": {
        "colab": {
          "base_uri": "https://localhost:8080/"
        },
        "id": "ho-nGXb-nTHn",
        "outputId": "59344911-71b5-40b9-d8c0-9d615d4f0f91"
      },
      "execution_count": 11,
      "outputs": [
        {
          "output_type": "stream",
          "name": "stdout",
          "text": [
            "For Fashion MNIST GPU\n",
            "\n",
            "Number of Epoch = 1 - Average Cross Entropy:= 0.5371693359375 - Validation Accuracy: 85.1800 - Train Accuracy: 86.0200 \n",
            "Number of Epoch = 2 - Average Cross Entropy:= 0.4559314453125 - Validation Accuracy: 83.7400 - Train Accuracy: 84.7560 \n",
            "Number of Epoch = 3 - Average Cross Entropy:= 0.547106484375 - Validation Accuracy: 84.1800 - Train Accuracy: 85.1660 \n",
            "Number of Epoch = 4 - Average Cross Entropy:= 0.6854546875 - Validation Accuracy: 83.9500 - Train Accuracy: 85.0220 \n",
            "Number of Epoch = 5 - Average Cross Entropy:= 0.78898765625 - Validation Accuracy: 79.9200 - Train Accuracy: 81.5380 \n",
            "Number of Epoch = 6 - Average Cross Entropy:= 0.95355 - Validation Accuracy: 82.6400 - Train Accuracy: 84.2980 \n",
            "Number of Epoch = 7 - Average Cross Entropy:= 1.1113040625 - Validation Accuracy: 82.4700 - Train Accuracy: 84.2120 \n",
            "Number of Epoch = 8 - Average Cross Entropy:= 1.22949984375 - Validation Accuracy: 80.8900 - Train Accuracy: 82.2000 \n",
            "Number of Epoch = 9 - Average Cross Entropy:= 1.288807265625 - Validation Accuracy: 84.6100 - Train Accuracy: 86.2680 \n",
            "Number of Epoch = 10 - Average Cross Entropy:= 1.18811203125 - Validation Accuracy: 85.6500 - Train Accuracy: 87.3100 \n",
            "Number of Epoch = 11 - Average Cross Entropy:= 1.156722890625 - Validation Accuracy: 84.3500 - Train Accuracy: 86.4520 \n",
            "Number of Epoch = 12 - Average Cross Entropy:= 1.228013125 - Validation Accuracy: 84.1200 - Train Accuracy: 86.7340 \n",
            "Number of Epoch = 13 - Average Cross Entropy:= 1.206671875 - Validation Accuracy: 85.3000 - Train Accuracy: 87.3700 \n",
            "Number of Epoch = 14 - Average Cross Entropy:= 1.2698703125 - Validation Accuracy: 84.6900 - Train Accuracy: 86.7020 \n",
            "Number of Epoch = 15 - Average Cross Entropy:= 1.29598890625 - Validation Accuracy: 85.2200 - Train Accuracy: 87.5380 \n",
            "Number of Epoch = 16 - Average Cross Entropy:= 1.27412328125 - Validation Accuracy: 84.6000 - Train Accuracy: 87.1340 \n",
            "Number of Epoch = 17 - Average Cross Entropy:= 1.31975875 - Validation Accuracy: 84.3300 - Train Accuracy: 86.9500 \n",
            "Number of Epoch = 18 - Average Cross Entropy:= 1.232636953125 - Validation Accuracy: 85.6800 - Train Accuracy: 88.3020 \n",
            "Number of Epoch = 19 - Average Cross Entropy:= 1.21885734375 - Validation Accuracy: 85.5000 - Train Accuracy: 88.2120 \n",
            "Number of Epoch = 20 - Average Cross Entropy:= 1.264116328125 - Validation Accuracy: 83.6400 - Train Accuracy: 86.2440 \n",
            "\n",
            "Total time taken (in seconds): 997.21\n"
          ]
        }
      ]
    },
    {
      "cell_type": "code",
      "source": [
        "# Plot learning curve for pre activation(with accuracy)\n",
        "\n",
        "trainacc= np.squeeze(mce_fmnist_train_acc_pre)\n",
        "valacc = np.squeeze(mce_fmnist_train_valacc_pre)\n",
        "plt.plot(mce_fmnist_train_acc,label ='Train accuracy')\n",
        "plt.plot(valacc,label ='Validation Accuracy')\n",
        "plt.ylabel('Accuracy')\n",
        "plt.xlabel('iterations ')\n",
        "plt.title(\"Fashion MNIST\")\n",
        "plt.legend()\n",
        "plt.show()"
      ],
      "metadata": {
        "colab": {
          "base_uri": "https://localhost:8080/",
          "height": 295
        },
        "id": "NltJv9sNnpIT",
        "outputId": "c9159edb-5400-4ec9-db8a-bf70de3c714b"
      },
      "execution_count": 12,
      "outputs": [
        {
          "output_type": "display_data",
          "data": {
            "text/plain": [
              "<Figure size 432x288 with 1 Axes>"
            ],
            "image/png": "[encoded data removed]"
          },
          "metadata": {
            "needs_background": "light"
          }
        }
      ]
    },
    {
      "cell_type": "code",
      "source": [
        "#ploting for loss for both pre and post Activation BN models\n",
        "# Plot learning curve (with errors)\n",
        "\n",
        "postmodelerror= np.squeeze(mce_fmnist_train)\n",
        "premodelerror = np.squeeze(mce_fmnist_train_pre)\n",
        "plt.plot(postmodelerror,label ='Post Activation BN')\n",
        "plt.plot(premodelerror,label ='Pre Activation BN')\n",
        "plt.ylabel('Error Losses')\n",
        "plt.xlabel('iterations ')\n",
        "plt.title(\"Fashion MNIST\")\n",
        "plt.legend()\n",
        "plt.show()"
      ],
      "metadata": {
        "colab": {
          "base_uri": "https://localhost:8080/",
          "height": 295
        },
        "id": "5X9w-riKnt73",
        "outputId": "1bbe9b4a-22ca-44a1-93f4-cee1cb970f6e"
      },
      "execution_count": 13,
      "outputs": [
        {
          "output_type": "display_data",
          "data": {
            "text/plain": [
              "<Figure size 432x288 with 1 Axes>"
            ],
            "image/png": "[encoded data removed]"
          },
          "metadata": {
            "needs_background": "light"
          }
        }
      ]
    },
    {
      "cell_type": "markdown",
      "source": [
        "#Saving your model weights or parameters\n",
        "* It is always advisable to save your model checkpoints every k epochs.\n",
        "* Look at Saver object in tensorflow/keras.\n",
        "* Visualize your model performance using tensorboard.\n",
        "\n",
        "#Steps to save model weights using pickle\n",
        "* Save your model(trainable variables), in our case self.variables into a pickle file.\n",
        "* Load saved file\n",
        "* Redefine model\n",
        "* Load weights\n",
        "* Re-train or test your model"
      ],
      "metadata": {
        "id": "t_wYdNXjhEha"
      }
    },
    {
      "cell_type": "code",
      "source": [
        "#saving models for BN\n",
        "import pickle\n",
        "models = [mlp_on_gpu, mlp_on_gpu_pre]\n",
        "files = [\"MLP_Post.pickle\", \"MLP_Pre.pickle\"]\n",
        "for model, f in zip(models, files):\n",
        "  vars = model.variables\n",
        "  with open(f, 'wb') as handle:\n",
        "    pickle.dump(vars, handle)"
      ],
      "metadata": {
        "id": "-gtwqTXnjW30"
      },
      "execution_count": 19,
      "outputs": []
    },
    {
      "cell_type": "code",
      "source": [
        "#Loading from saved variables\n",
        "with open('MLP_Post.pickle', 'rb') as handle:\n",
        "    b = pickle.load(handle)\n",
        "\n",
        "#Loading from saved variables\n",
        "with open('MLP_Pre.pickle', 'rb') as handle:\n",
        "    b = pickle.load(handle)\n"
      ],
      "metadata": {
        "id": "PvJ9nfrA_c0k"
      },
      "execution_count": 20,
      "outputs": []
    },
    {
      "cell_type": "raw",
      "metadata": {
        "id": "5DRomYsUCX6_"
      },
      "source": [
        ""
      ]
    },
    {
      "cell_type": "code",
      "execution_count": null,
      "metadata": {
        "id": "xYsXWqI_CX6_",
        "colab": {
          "base_uri": "https://localhost:8080/"
        },
        "outputId": "37dd74e0-3cbc-4752-ab04-d282bd738ef8"
      },
      "outputs": [
        {
          "output_type": "stream",
          "name": "stdout",
          "text": [
            "For Fashion MNIST inference for post Activation BN\n",
            "\n",
            "For seed:5097\n",
            "\n",
            "Test loss: 0.6596\n",
            "Test loss: 0.6596 - Test Accuracy:0.86\n",
            "For seed:1111\n",
            "\n"
          ]
        }
      ],
      "source": [
        "print(\"For Fashion MNIST inference for post Activation BN\\n\")\n",
        "#list to store inferences of test for 10 seeds\n",
        "inference_fmnist=[]\n",
        "\n",
        "##accuracy\n",
        "inference_fmnist_acc=[]\n",
        "\n",
        "Inferences_seeds=[5097,1111,1234,5678,199991,99999,3421,6642,8754,3454444]\n",
        "for seed in Inferences_seeds:\n",
        "  print(\"For seed:{}\\n\".format(seed))\n",
        "  # Initialize\n",
        "  test_loss_total = tf.Variable(0, dtype=tf.float32)\n",
        "  correct_prediction = tf.Variable(0, dtype=tf.float32)\n",
        "\n",
        "\n",
        "  test_ds = tf.data.Dataset.from_tensor_slices((X_test, y_test)).batch(4)\n",
        "\n",
        "\n",
        "  #test_loss_total = 0.0\n",
        "  for inputs, outputs in test_ds:\n",
        "    preds = mlp_on_gpu.forward(inputs,True)\n",
        "    test_loss_total = test_loss_total + mlp_on_gpu.loss(preds, outputs)\n",
        "  print('Test loss: {:.4f}'.format(np.sum(test_loss_total.numpy()) / X_test.shape[0]))\n",
        "\n",
        "  # Test model\n",
        "  preds_test = mlp_on_gpu.forward(X_test,False)\n",
        "  preds_test = tf.nn.softmax(preds_test)\n",
        "  correct_prediction = tf.equal(tf.argmax(preds_test, 1), tf.argmax(y_test, 1))\n",
        "\n",
        "  # Calculate accuracy\n",
        "  accuracy = tf.reduce_mean(tf.cast(correct_prediction, \"float\"))\n",
        "  cur_test_acc = accuracy.numpy()\n",
        "  inference_fmnist.append(np.sum(test_loss_total.numpy()) / X_test.shape[0])\n",
        "  inference_fmnist_acc.append(cur_test_acc)\n",
        "  print('Test loss: {:.4f} - Test Accuracy:{:.2f}'.format(np.sum(test_loss_total.numpy()) / X_test.shape[0],cur_test_acc))"
      ]
    },
    {
      "cell_type": "code",
      "source": [
        "print(\"For Fashion MNIST inference for Pre Activation BN\\n\")\n",
        "#list to store inferences of test for 10 seeds\n",
        "inference_fmnist_pre=[]\n",
        "\n",
        "##accuracy\n",
        "inference_fmnist_acc_pre=[]\n",
        "\n",
        "Inferences_seeds=[5097,1111,1234,5678,199991,99999,3421,6642,8754,3454444]\n",
        "for seed in Inferences_seeds:\n",
        "  print(\"For seed:{}\\n\".format(seed))\n",
        "  # Initialize\n",
        "  test_loss_total = tf.Variable(0, dtype=tf.float32)\n",
        "  correct_prediction = tf.Variable(0, dtype=tf.float32)\n",
        "\n",
        "\n",
        "  test_ds = tf.data.Dataset.from_tensor_slices((X_test, y_test)).batch(4)\n",
        "\n",
        "\n",
        "  #test_loss_total = 0.0\n",
        "  for inputs, outputs in test_ds:\n",
        "    preds = mlp_on_gpu_pre.forward(inputs,True)\n",
        "    test_loss_total = test_loss_total + mlp_on_gpu_pre.loss(preds, outputs)\n",
        "  print('Test loss: {:.4f}'.format(np.sum(test_loss_total.numpy()) / X_test.shape[0]))\n",
        "\n",
        "  # Test model\n",
        "  preds_test = mlp_on_gpu_pre.forward(X_test,False)\n",
        "  preds_test = tf.nn.softmax(preds_test)\n",
        "  correct_prediction = tf.equal(tf.argmax(preds_test, 1), tf.argmax(y_test, 1))\n",
        "\n",
        "  # Calculate accuracy\n",
        "  accuracy = tf.reduce_mean(tf.cast(correct_prediction, \"float\"))\n",
        "  cur_test_acc = accuracy.numpy()\n",
        "  inference_fmnist_pre.append(np.sum(test_loss_total.numpy()) / X_test.shape[0])\n",
        "  inference_fmnist_acc_pre.append(cur_test_acc)\n",
        "  print('Test loss: {:.4f} - Test Accuracy:{:.2f}'.format(np.sum(test_loss_total.numpy()) / X_test.shape[0],cur_test_acc))"
      ],
      "metadata": {
        "id": "lVrAGYlzqBVn"
      },
      "execution_count": null,
      "outputs": []
    },
    {
      "cell_type": "code",
      "source": [
        "# Plot learning curve for pre activation(with error)\n",
        "plt.figure(1)\n",
        "testmodelerror= np.squeeze(inference_fmnist)\n",
        "testpremodelerror = np.squeeze(inference_fmnist_pre)\n",
        "plt.plot(testmodelerror,label ='Test post model error')\n",
        "plt.plot(testpremodelerror,label ='Test pre model error')\n",
        "plt.ylabel('Error')\n",
        "plt.xlabel('iterations ')\n",
        "plt.title(\"Test Fashion MNIST\")\n",
        "plt.legend()\n",
        "plt.show()\n",
        "# Plot learning curve for pre activation(with error)\n",
        "plt.figure(2)\n",
        "testacc= np.squeeze(inference_fmnist_acc)\n",
        "testpreacc = np.squeeze(inference_fmnist_acc_pre)\n",
        "plt.plot(testacc,label ='Test post BN accuracy')\n",
        "plt.plot(testpreacc,label ='Test Pre BN Accuracy')\n",
        "plt.ylabel('Accuracy')\n",
        "plt.xlabel('iterations ')\n",
        "plt.title(\"Test Fashion MNIST\")\n",
        "plt.legend()\n",
        "plt.show()"
      ],
      "metadata": {
        "id": "QrvwNh7gqWKG"
      },
      "execution_count": null,
      "outputs": []
    }
  ],
  "metadata": {
    "kernelspec": {
      "display_name": "Python 3",
      "language": "python",
      "name": "python3"
    },
    "language_info": {
      "codemirror_mode": {
        "name": "ipython",
        "version": 3
      },
      "file_extension": ".py",
      "mimetype": "text/x-python",
      "name": "python",
      "nbconvert_exporter": "python",
      "pygments_lexer": "ipython3",
      "version": "3.7.9"
    },
    "colab": {
      "name": "MLP_Fmnist_Saver_optimizer.ipynb",
      "provenance": [],
      "collapsed_sections": []
    }
  },
  "nbformat": 4,
  "nbformat_minor": 0
}